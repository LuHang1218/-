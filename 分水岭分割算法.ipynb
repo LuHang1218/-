{
 "cells": [
  {
   "cell_type": "code",
   "execution_count": 26,
   "id": "42d2956f",
   "metadata": {},
   "outputs": [],
   "source": [
    "import cv2 as cv\n",
    "import numpy as np\n",
    "from matplotlib import pyplot as plt\n",
    "\n",
    "def watershed_demo(image):\n",
    "    a = image.shape\n",
    "    image=cv.resize(image,(int(a[1]/15),int(a[0]/15)),interpolation=cv.INTER_CUBIC) #缩小15倍\n",
    "    blur = cv.pyrMeanShiftFiltering(image,10,100)\n",
    "    gray = cv.cvtColor(blur,cv.COLOR_BGR2GRAY)  #获取灰度图像\n",
    "\n",
    "    ret,binary = cv.threshold(gray,0,255,cv.THRESH_BINARY_INV|cv.THRESH_OTSU)\n",
    "    #形态学操作，进一步消除图像中噪点\n",
    "    kernel = cv.getStructuringElement(cv.MORPH_RECT,(3,3))\n",
    "    mb = cv.morphologyEx(binary,cv.MORPH_OPEN,kernel,iterations=2)  #iterations连续两次开操作\n",
    "    sure_bg = cv.dilate(mb,kernel,iterations=3) #3次膨胀,可以获取到大部分都是背景的区域\n",
    "    cv.imshow(\"sure_bg\",sure_bg)\n",
    "    #距离变换\n",
    "    dist = cv.distanceTransform(mb,cv.DIST_L2,5)\n",
    "    cv.imshow(\"dist\",dist)\n",
    "    dist_output = cv.normalize(dist,0,1.0,cv.NORM_MINMAX)\n",
    "    cv.imshow(\"distinct-t\",dist_output*50)\n",
    "    ret, sure_fg = cv.threshold(dist,dist.max()*0.6,255,cv.THRESH_BINARY)\n",
    "    cv.imshow(\"sure_fg\",sure_fg)\n",
    "    #获取未知区域\n",
    "    surface_fg = np.uint8(sure_fg)  #保持色彩空间一致才能进行运算，现在是背景空间为整型空间，前景为浮点型空间，所以进行转换\n",
    "    unknown = cv.subtract(sure_bg,surface_fg)\n",
    "    cv.imshow(\"unkown\",unknown)\n",
    "    #获取maskers,在markers中含有种子区域\n",
    "    ret,markers = cv.connectedComponents(surface_fg)\n",
    "    #print(ret)\n",
    "\n",
    "    #分水岭变换\n",
    "    markers = markers + 1\n",
    "    markers[unknown==255] = 0\n",
    "\n",
    "    markers = cv.watershed(image,markers=markers)\n",
    "    image[markers==-1] = [0,0,255]\n",
    "\n",
    "    cv.imshow(\"result\",image)\n",
    "\n",
    "src = cv.imread(r\"D:\\tezheng\\IMG20210421195619.jpg\")  #读取图片\n",
    "cv.namedWindow(\"input image\",cv.WINDOW_AUTOSIZE)    #创建GUI窗口,形式为自适应\n",
    "cv.imshow(\"input image\",src)    #通过名字将图像和窗口联系\n",
    "\n",
    "watershed_demo(src)\n",
    "\n",
    "cv.waitKey(0)   #等待用户操作，里面等待参数是毫秒，我们填写0，代表是永远，等待用户操作\n",
    "cv.destroyAllWindows()  #销毁所有窗口"
   ]
  },
  {
   "cell_type": "code",
   "execution_count": null,
   "id": "d9ab5616",
   "metadata": {},
   "outputs": [],
   "source": []
  }
 ],
 "metadata": {
  "kernelspec": {
   "display_name": "Python 3 (ipykernel)",
   "language": "python",
   "name": "python3"
  },
  "language_info": {
   "codemirror_mode": {
    "name": "ipython",
    "version": 3
   },
   "file_extension": ".py",
   "mimetype": "text/x-python",
   "name": "python",
   "nbconvert_exporter": "python",
   "pygments_lexer": "ipython3",
   "version": "3.8.12"
  },
  "toc": {
   "base_numbering": 1,
   "nav_menu": {},
   "number_sections": true,
   "sideBar": true,
   "skip_h1_title": false,
   "title_cell": "Table of Contents",
   "title_sidebar": "Contents",
   "toc_cell": false,
   "toc_position": {},
   "toc_section_display": true,
   "toc_window_display": false
  }
 },
 "nbformat": 4,
 "nbformat_minor": 5
}
