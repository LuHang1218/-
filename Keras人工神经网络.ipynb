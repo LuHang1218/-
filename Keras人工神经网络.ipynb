{
 "cells": [
  {
   "cell_type": "markdown",
   "id": "6aaaaad7",
   "metadata": {},
   "source": [
    "# Setup"
   ]
  },
  {
   "cell_type": "code",
   "execution_count": 1,
   "id": "15af06ec",
   "metadata": {},
   "outputs": [],
   "source": [
    "#Python≥3.5 is required\n",
    "import sys\n",
    "assert sys.version_info>=(3,5)\n",
    "\n",
    "#Scikit-Learn≥0.20 is required\n",
    "import sklearn\n",
    "assert sklearn.__version__>=\"0.20\"\n",
    "\n",
    "#异常信息的获取对于程序的调试非常重要，可以有助于快速定位有错误程序语句的位置\n",
    "try: \n",
    "    # %tensorflow_version only exists in Colab.\n",
    "    %tensorflow_version 2.x \n",
    "except Exception: # Exception可以代指程序可能发生的所有异常情况，其通常用在最后一个 except 块\n",
    "    pass \n",
    "\n",
    "# TensorFlow ≥2.0 is required\n",
    "import tensorflow as tf\n",
    "assert tf.__version__ >= \"2.0\"\n",
    "\n",
    "# Common imports\n",
    "import numpy as np\n",
    "import os\n",
    "\n",
    "# to make this notebook's output stable across runs\n",
    "np.random.seed(42)\n",
    "\n",
    "# To plot pretty figures\n",
    "%matplotlib inline\n",
    "import matplotlib as mpl\n",
    "import matplotlib.pyplot as plt\n",
    "mpl.rc('axes', labelsize=14)\n",
    "mpl.rc('xtick', labelsize=12)\n",
    "mpl.rc('ytick', labelsize=12)\n",
    "\n",
    "# Where to save the figures\n",
    "PROJECT_ROOT_DIR = \".\"\n",
    "CHAPTER_ID = \"ann\"\n",
    "IMAGES_PATH = os.path.join(PROJECT_ROOT_DIR, \"images\", CHAPTER_ID)\n",
    "os.makedirs(IMAGES_PATH, exist_ok=True)\n",
    "\n",
    "def save_fig(fig_id, tight_layout=True, fig_extension=\"png\", resolution=300):\n",
    "    path = os.path.join(IMAGES_PATH, fig_id + \".\" + fig_extension)\n",
    "    print(\"Saving figure\", fig_id)\n",
    "    if tight_layout:\n",
    "        plt.tight_layout()\n",
    "    plt.savefig(path, format=fig_extension, dpi=resolution)"
   ]
  },
  {
   "cell_type": "markdown",
   "id": "c571f7af",
   "metadata": {},
   "source": [
    "# 感知器"
   ]
  },
  {
   "cell_type": "code",
   "execution_count": 2,
   "id": "4c30817d",
   "metadata": {},
   "outputs": [
    {
     "name": "stderr",
     "output_type": "stream",
     "text": [
      "C:\\Users\\MSI-NB\\AppData\\Local\\Temp/ipykernel_23368/1750551226.py:7: DeprecationWarning: `np.int` is a deprecated alias for the builtin `int`. To silence this warning, use `int` by itself. Doing this will not modify any behavior and is safe. When replacing `np.int`, you may wish to use e.g. `np.int64` or `np.int32` to specify the precision. If you wish to review your current use, check the release note link for additional information.\n",
      "Deprecated in NumPy 1.20; for more details and guidance: https://numpy.org/devdocs/release/1.20.0-notes.html#deprecations\n",
      "  y=(iris.target==0).astype(np.int) #判断是否是0类，若是则为1，不是则为0\n"
     ]
    }
   ],
   "source": [
    "import numpy as np \n",
    "from sklearn.datasets import load_iris\n",
    "from sklearn.linear_model import Perceptron\n",
    "\n",
    "iris=load_iris()\n",
    "X=iris.data[:,(2,3)]\n",
    "y=(iris.target==0).astype(np.int) #判断是否是0类，若是则为1，不是则为0\n",
    "\n",
    "per_clf=Perceptron(max_iter=1000,tol=1e-3,random_state=42)\n",
    "per_clf.fit(X,y)\n",
    "\n",
    "y_pred=per_clf.predict([[2,0.5]])"
   ]
  },
  {
   "cell_type": "code",
   "execution_count": 3,
   "id": "ba09d137",
   "metadata": {},
   "outputs": [
    {
     "data": {
      "text/plain": [
       "array([1])"
      ]
     },
     "execution_count": 3,
     "metadata": {},
     "output_type": "execute_result"
    }
   ],
   "source": [
    "y_pred"
   ]
  },
  {
   "cell_type": "code",
   "execution_count": 4,
   "id": "10d831f0",
   "metadata": {},
   "outputs": [
    {
     "name": "stdout",
     "output_type": "stream",
     "text": [
      "Saving figure perceptron_iris_plot\n"
     ]
    },
    {
     "data": {
      "image/png": "[encoded data removed]",
      "text/plain": [
       "<Figure size 720x288 with 1 Axes>"
      ]
     },
     "metadata": {
      "needs_background": "light"
     },
     "output_type": "display_data"
    }
   ],
   "source": [
    "#画出决策边界\n",
    "a = -per_clf.coef_[0][0] / per_clf.coef_[0][1]\n",
    "b = -per_clf.intercept_ / per_clf.coef_[0][1]\n",
    "\n",
    "axes = [0, 5, 0, 2]\n",
    "\n",
    "x0, x1 = np.meshgrid(\n",
    "        np.linspace(axes[0], axes[1], 500).reshape(-1, 1),\n",
    "        np.linspace(axes[2], axes[3], 200).reshape(-1, 1),\n",
    "    )\n",
    "X_new = np.c_[x0.ravel(), x1.ravel()]\n",
    "y_predict = per_clf.predict(X_new)\n",
    "zz = y_predict.reshape(x0.shape)\n",
    "\n",
    "plt.figure(figsize=(10, 4))\n",
    "plt.plot(X[y==0, 0], X[y==0, 1], \"bs\", label=\"Not Iris-Setosa\")\n",
    "plt.plot(X[y==1, 0], X[y==1, 1], \"yo\", label=\"Iris-Setosa\")\n",
    "\n",
    "plt.plot([axes[0], axes[1]], [a * axes[0] + b, a * axes[1] + b], \"k-\", linewidth=3)\n",
    "from matplotlib.colors import ListedColormap\n",
    "custom_cmap = ListedColormap(['#9898ff', '#fafab0'])\n",
    "\n",
    "plt.contourf(x0, x1, zz, cmap=custom_cmap)\n",
    "plt.xlabel(\"Petal length\", fontsize=14)\n",
    "plt.ylabel(\"Petal width\", fontsize=14)\n",
    "plt.legend(loc=\"lower right\", fontsize=14)\n",
    "plt.axis(axes)\n",
    "\n",
    "save_fig(\"perceptron_iris_plot\")\n",
    "plt.show()"
   ]
  },
  {
   "cell_type": "markdown",
   "id": "60430fe7",
   "metadata": {},
   "source": [
    "# 激活函数"
   ]
  },
  {
   "cell_type": "code",
   "execution_count": 5,
   "id": "6805206c",
   "metadata": {},
   "outputs": [],
   "source": [
    "def sigmoid(z):\n",
    "    return 1 / (1 + np.exp(-z))\n",
    "\n",
    "def relu(z):\n",
    "    return np.maximum(0, z)\n",
    "\n",
    "def derivative(f, z, eps=0.000001): #派生\n",
    "    return (f(z + eps) - f(z - eps))/(2 * eps)"
   ]
  },
  {
   "cell_type": "code",
   "execution_count": 6,
   "id": "4f6e911f",
   "metadata": {},
   "outputs": [
    {
     "name": "stdout",
     "output_type": "stream",
     "text": [
      "Saving figure activation_functions_plot\n"
     ]
    },
    {
     "data": {
      "image/png": "[encoded data removed]",
      "text/plain": [
       "<Figure size 792x288 with 2 Axes>"
      ]
     },
     "metadata": {
      "needs_background": "light"
     },
     "output_type": "display_data"
    }
   ],
   "source": [
    "z = np.linspace(-5, 5, 200)\n",
    "\n",
    "plt.figure(figsize=(11,4))\n",
    "\n",
    "plt.subplot(121)\n",
    "plt.plot(z, np.sign(z), \"r-\", linewidth=1, label=\"Step\") #sign取数字符号（数字前的正负号）的函数，即正负,得到结果只有1或-1\n",
    "plt.plot(z, sigmoid(z), \"g--\", linewidth=2, label=\"Sigmoid\")\n",
    "plt.plot(z, np.tanh(z), \"b-\", linewidth=2, label=\"Tanh\")\n",
    "plt.plot(z, relu(z), \"m-.\", linewidth=2, label=\"ReLU\")\n",
    "plt.grid(True) # 显示网格线 1=True=默认显示；0=False=不显示\n",
    "plt.legend(loc=\"center right\", fontsize=14)\n",
    "plt.title(\"Activation functions\", fontsize=14)\n",
    "plt.axis([-5, 5, -1.2, 1.2])\n",
    "\n",
    "plt.subplot(122)\n",
    "plt.plot(z, derivative(np.sign, z), \"r-\", linewidth=1, label=\"Step\")\n",
    "plt.plot(0, 0, \"ro\", markersize=5)\n",
    "plt.plot(0, 0, \"rx\", markersize=10)\n",
    "plt.plot(z, derivative(sigmoid, z), \"g--\", linewidth=2, label=\"Sigmoid\")\n",
    "plt.plot(z, derivative(np.tanh, z), \"b-\", linewidth=2, label=\"Tanh\")\n",
    "plt.plot(z, derivative(relu, z), \"m-.\", linewidth=2, label=\"ReLU\")\n",
    "plt.grid(True)\n",
    "#plt.legend(loc=\"center right\", fontsize=14)\n",
    "plt.title(\"Derivatives\", fontsize=14)\n",
    "plt.axis([-5, 5, -0.2, 1.2])\n",
    "\n",
    "save_fig(\"activation_functions_plot\")\n",
    "plt.show()"
   ]
  },
  {
   "cell_type": "code",
   "execution_count": 7,
   "id": "bb7d8364",
   "metadata": {},
   "outputs": [],
   "source": [
    "def heaviside(z):  #判断是否大于0，若是则为1，若不是则为0\n",
    "    return (z >= 0).astype(z.dtype)\n",
    "\n",
    "def mlp_xor(x1, x2, activation=heaviside):\n",
    "    return activation(-activation(x1 + x2 - 1.5) + activation(x1 + x2 - 0.5) - 0.5)"
   ]
  },
  {
   "cell_type": "code",
   "execution_count": 8,
   "id": "d004d484",
   "metadata": {},
   "outputs": [
    {
     "data": {
      "image/png": "[encoded data removed]",
      "text/plain": [
       "<Figure size 720x288 with 2 Axes>"
      ]
     },
     "metadata": {
      "needs_background": "light"
     },
     "output_type": "display_data"
    }
   ],
   "source": [
    "x1s = np.linspace(-0.2, 1.2, 100)\n",
    "x2s = np.linspace(-0.2, 1.2, 100)\n",
    "x1, x2 = np.meshgrid(x1s, x2s)\n",
    "\n",
    "z1 = mlp_xor(x1, x2, activation=heaviside)\n",
    "z2 = mlp_xor(x1, x2, activation=sigmoid)\n",
    "\n",
    "plt.figure(figsize=(10,4))\n",
    "\n",
    "plt.subplot(121)\n",
    "plt.contourf(x1, x2, z1)\n",
    "plt.plot([0, 1], [0, 1], \"gs\", markersize=20)\n",
    "plt.plot([0, 1], [1, 0], \"y^\", markersize=20)\n",
    "plt.title(\"Activation function: heaviside\", fontsize=14)\n",
    "plt.grid(True)\n",
    "\n",
    "plt.subplot(122)\n",
    "plt.contourf(x1, x2, z2)\n",
    "plt.plot([0, 1], [0, 1], \"gs\", markersize=20)\n",
    "plt.plot([0, 1], [1, 0], \"y^\", markersize=20)\n",
    "plt.title(\"Activation function: sigmoid\", fontsize=14)\n",
    "plt.grid(True)"
   ]
  },
  {
   "cell_type": "markdown",
   "id": "32d6daeb",
   "metadata": {},
   "source": [
    "# 建造一个图片分类器"
   ]
  },
  {
   "cell_type": "code",
   "execution_count": 9,
   "id": "9475d474",
   "metadata": {},
   "outputs": [],
   "source": [
    "import tensorflow as tf\n",
    "from tensorflow import keras"
   ]
  },
  {
   "cell_type": "code",
   "execution_count": 10,
   "id": "ef6ed65b",
   "metadata": {},
   "outputs": [
    {
     "data": {
      "text/plain": [
       "'2.3.0'"
      ]
     },
     "execution_count": 10,
     "metadata": {},
     "output_type": "execute_result"
    }
   ],
   "source": [
    "tf.__version__"
   ]
  },
  {
   "cell_type": "code",
   "execution_count": 11,
   "id": "1b55df42",
   "metadata": {},
   "outputs": [
    {
     "data": {
      "text/plain": [
       "'2.4.0'"
      ]
     },
     "execution_count": 11,
     "metadata": {},
     "output_type": "execute_result"
    }
   ],
   "source": [
    "keras.__version__"
   ]
  },
  {
   "cell_type": "code",
   "execution_count": 12,
   "id": "bc371b1c",
   "metadata": {},
   "outputs": [],
   "source": [
    "#数据集\n",
    "fashion_mnist = keras.datasets.fashion_mnist\n",
    "(X_train_full, y_train_full), (X_test, y_test) = fashion_mnist.load_data()"
   ]
  },
  {
   "cell_type": "code",
   "execution_count": 13,
   "id": "33a157ec",
   "metadata": {},
   "outputs": [
    {
     "data": {
      "text/plain": [
       "(60000, 28, 28)"
      ]
     },
     "execution_count": 13,
     "metadata": {},
     "output_type": "execute_result"
    }
   ],
   "source": [
    "X_train_full.shape"
   ]
  },
  {
   "cell_type": "code",
   "execution_count": 14,
   "id": "cdacc4be",
   "metadata": {},
   "outputs": [
    {
     "data": {
      "text/plain": [
       "dtype('uint8')"
      ]
     },
     "execution_count": 14,
     "metadata": {},
     "output_type": "execute_result"
    }
   ],
   "source": [
    "X_train_full.dtype #uint8：8位无符号整型"
   ]
  },
  {
   "cell_type": "code",
   "execution_count": 15,
   "id": "62cc5759",
   "metadata": {},
   "outputs": [],
   "source": [
    "X_valid, X_train = X_train_full[:5000] / 255., X_train_full[5000:] / 255.\n",
    "y_valid, y_train = y_train_full[:5000], y_train_full[5000:]\n",
    "X_test = X_test / 255."
   ]
  },
  {
   "cell_type": "code",
   "execution_count": 16,
   "id": "405360c6",
   "metadata": {},
   "outputs": [
    {
     "data": {
      "image/png": "[encoded data removed]",
      "text/plain": [
       "<Figure size 432x288 with 1 Axes>"
      ]
     },
     "metadata": {
      "needs_background": "light"
     },
     "output_type": "display_data"
    }
   ],
   "source": [
    "plt.imshow(X_train[0], cmap=\"binary\") #二进制\n",
    "plt.axis('off')\n",
    "plt.show()"
   ]
  },
  {
   "cell_type": "code",
   "execution_count": 17,
   "id": "9915ce99",
   "metadata": {},
   "outputs": [
    {
     "data": {
      "text/plain": [
       "array([4, 0, 7, ..., 3, 0, 5], dtype=uint8)"
      ]
     },
     "execution_count": 17,
     "metadata": {},
     "output_type": "execute_result"
    }
   ],
   "source": [
    "y_train"
   ]
  },
  {
   "cell_type": "code",
   "execution_count": 18,
   "id": "a52b4f05",
   "metadata": {},
   "outputs": [],
   "source": [
    "class_names = [\"T-shirt/top\", \"Trouser\", \"Pullover\", \"Dress\", \"Coat\",\n",
    "               \"Sandal\", \"Shirt\", \"Sneaker\", \"Bag\", \"Ankle boot\"]"
   ]
  },
  {
   "cell_type": "code",
   "execution_count": 19,
   "id": "7c0cb54b",
   "metadata": {},
   "outputs": [
    {
     "data": {
      "text/plain": [
       "'Coat'"
      ]
     },
     "execution_count": 19,
     "metadata": {},
     "output_type": "execute_result"
    }
   ],
   "source": [
    "class_names[y_train[0]]"
   ]
  },
  {
   "cell_type": "code",
   "execution_count": 20,
   "id": "a6a745be",
   "metadata": {},
   "outputs": [
    {
     "data": {
      "text/plain": [
       "(5000, 28, 28)"
      ]
     },
     "execution_count": 20,
     "metadata": {},
     "output_type": "execute_result"
    }
   ],
   "source": [
    "X_valid.shape"
   ]
  },
  {
   "cell_type": "code",
   "execution_count": 21,
   "id": "2f363a43",
   "metadata": {},
   "outputs": [
    {
     "data": {
      "text/plain": [
       "(10000, 28, 28)"
      ]
     },
     "execution_count": 21,
     "metadata": {},
     "output_type": "execute_result"
    }
   ],
   "source": [
    "X_test.shape"
   ]
  },
  {
   "cell_type": "code",
   "execution_count": 22,
   "id": "a8811277",
   "metadata": {},
   "outputs": [
    {
     "name": "stdout",
     "output_type": "stream",
     "text": [
      "Saving figure fashion_mnist_plot\n"
     ]
    },
    {
     "data": {
      "image/png": "[encoded data removed]",
      "text/plain": [
       "<Figure size 864x345.6 with 40 Axes>"
      ]
     },
     "metadata": {
      "needs_background": "light"
     },
     "output_type": "display_data"
    }
   ],
   "source": [
    "n_rows = 4\n",
    "n_cols = 10\n",
    "plt.figure(figsize=(n_cols * 1.2, n_rows * 1.2))\n",
    "for row in range(n_rows):\n",
    "    for col in range(n_cols):\n",
    "        index = n_cols * row + col\n",
    "        plt.subplot(n_rows, n_cols, index + 1)\n",
    "        plt.imshow(X_train[index], cmap=\"binary\", interpolation=\"nearest\")\n",
    "        plt.axis('off')\n",
    "        plt.title(class_names[y_train[index]], fontsize=12)\n",
    "plt.subplots_adjust(wspace=0.2, hspace=0.5)\n",
    "save_fig('fashion_mnist_plot', tight_layout=False)\n",
    "plt.show()"
   ]
  },
  {
   "cell_type": "code",
   "execution_count": 23,
   "id": "07a0cdcf",
   "metadata": {},
   "outputs": [],
   "source": [
    "model = keras.models.Sequential() #顺序API\n",
    "model.add(keras.layers.Flatten(input_shape=[28, 28])) #将每个输入图像转换为一维度组，且这层为第一层，所以要规定输入图片的形状\n",
    "model.add(keras.layers.Dense(300, activation=\"relu\")) #添加具有300个神经元的隐藏层\n",
    "model.add(keras.layers.Dense(100, activation=\"relu\"))\n",
    "model.add(keras.layers.Dense(10, activation=\"softmax\")) #每个类一个"
   ]
  },
  {
   "cell_type": "markdown",
   "id": "da78f401",
   "metadata": {},
   "source": [
    "可以不用逐层添加层，而是创建顺序模型时传递一个层列表"
   ]
  },
  {
   "cell_type": "code",
   "execution_count": 24,
   "id": "e00fafba",
   "metadata": {},
   "outputs": [],
   "source": [
    "keras.backend.clear_session() #销毁当前的TF图并创建一个新图，有助于避免旧模型/图层混乱。\n",
    "np.random.seed(42)\n",
    "tf.random.set_seed(42)"
   ]
  },
  {
   "cell_type": "markdown",
   "id": "d5973871",
   "metadata": {},
   "source": [
    "keras.backend.clear_session()很常见的场景就是当你在进行keras的交叉验证时，例如你用5折，对于fold_0,fold_1…一直到fold_4.都应该有一个独立的模型。所以在每折的开头都需要加上clear_session()。否则上一折的训练集成了这一折的验证集，数据泄露"
   ]
  },
  {
   "cell_type": "code",
   "execution_count": 25,
   "id": "7ef64100",
   "metadata": {},
   "outputs": [],
   "source": [
    "model = keras.models.Sequential([\n",
    "    keras.layers.Flatten(input_shape=[28, 28]),\n",
    "    keras.layers.Dense(300, activation=\"relu\"),\n",
    "    keras.layers.Dense(100, activation=\"relu\"),\n",
    "    keras.layers.Dense(10, activation=\"softmax\")\n",
    "])"
   ]
  },
  {
   "cell_type": "code",
   "execution_count": 26,
   "id": "c598a6b4",
   "metadata": {},
   "outputs": [
    {
     "data": {
      "text/plain": [
       "[<tensorflow.python.keras.layers.core.Flatten at 0x2c921064970>,\n",
       " <tensorflow.python.keras.layers.core.Dense at 0x2c921064bb0>,\n",
       " <tensorflow.python.keras.layers.core.Dense at 0x2c921064ee0>,\n",
       " <tensorflow.python.keras.layers.core.Dense at 0x2c91e7a9eb0>]"
      ]
     },
     "execution_count": 26,
     "metadata": {},
     "output_type": "execute_result"
    }
   ],
   "source": [
    "model.layers"
   ]
  },
  {
   "cell_type": "code",
   "execution_count": 27,
   "id": "c881bb29",
   "metadata": {},
   "outputs": [
    {
     "name": "stdout",
     "output_type": "stream",
     "text": [
      "Model: \"sequential\"\n",
      "_________________________________________________________________\n",
      "Layer (type)                 Output Shape              Param #   \n",
      "=================================================================\n",
      "flatten (Flatten)            (None, 784)               0         \n",
      "_________________________________________________________________\n",
      "dense (Dense)                (None, 300)               235500    \n",
      "_________________________________________________________________\n",
      "dense_1 (Dense)              (None, 100)               30100     \n",
      "_________________________________________________________________\n",
      "dense_2 (Dense)              (None, 10)                1010      \n",
      "=================================================================\n",
      "Total params: 266,610\n",
      "Trainable params: 266,610\n",
      "Non-trainable params: 0\n",
      "_________________________________________________________________\n"
     ]
    }
   ],
   "source": [
    "model.summary()"
   ]
  },
  {
   "cell_type": "code",
   "execution_count": 28,
   "id": "d1500a9d",
   "metadata": {},
   "outputs": [
    {
     "data": {
      "image/png": "[encoded data removed]",
      "text/plain": [
       "<IPython.core.display.Image object>"
      ]
     },
     "execution_count": 28,
     "metadata": {},
     "output_type": "execute_result"
    }
   ],
   "source": [
    "keras.utils.plot_model(model, \"my_fashion_mnist_model.png\", show_shapes=True)"
   ]
  },
  {
   "cell_type": "code",
   "execution_count": 29,
   "id": "00196442",
   "metadata": {},
   "outputs": [
    {
     "data": {
      "text/plain": [
       "'dense'"
      ]
     },
     "execution_count": 29,
     "metadata": {},
     "output_type": "execute_result"
    }
   ],
   "source": [
    "hidden1 = model.layers[1]\n",
    "hidden1.name"
   ]
  },
  {
   "cell_type": "code",
   "execution_count": 30,
   "id": "1ea75492",
   "metadata": {},
   "outputs": [
    {
     "data": {
      "text/plain": [
       "True"
      ]
     },
     "execution_count": 30,
     "metadata": {},
     "output_type": "execute_result"
    }
   ],
   "source": [
    "model.get_layer(hidden1.name) is hidden1 "
   ]
  },
  {
   "cell_type": "code",
   "execution_count": 31,
   "id": "73a77e40",
   "metadata": {},
   "outputs": [],
   "source": [
    "#得到初始化权重与偏值\n",
    "weights, biases = hidden1.get_weights()"
   ]
  },
  {
   "cell_type": "code",
   "execution_count": 32,
   "id": "3414e90f",
   "metadata": {},
   "outputs": [
    {
     "data": {
      "text/plain": [
       "array([[ 0.02448617, -0.00877795, -0.02189048, ..., -0.02766046,\n",
       "         0.03859074, -0.06889391],\n",
       "       [ 0.00476504, -0.03105379, -0.0586676 , ...,  0.00602964,\n",
       "        -0.02763776, -0.04165364],\n",
       "       [-0.06189284, -0.06901957,  0.07102345, ..., -0.04238207,\n",
       "         0.07121518, -0.07331658],\n",
       "       ...,\n",
       "       [-0.03048757,  0.02155137, -0.05400612, ..., -0.00113463,\n",
       "         0.00228987,  0.05581069],\n",
       "       [ 0.07061854, -0.06960931,  0.07038955, ..., -0.00384101,\n",
       "         0.00034875,  0.02878492],\n",
       "       [-0.06022581,  0.01577859, -0.02585464, ..., -0.00527829,\n",
       "         0.00272203, -0.06793761]], dtype=float32)"
      ]
     },
     "execution_count": 32,
     "metadata": {},
     "output_type": "execute_result"
    }
   ],
   "source": [
    "weights"
   ]
  },
  {
   "cell_type": "code",
   "execution_count": 33,
   "id": "e4dc7cdf",
   "metadata": {},
   "outputs": [
    {
     "data": {
      "text/plain": [
       "(784, 300)"
      ]
     },
     "execution_count": 33,
     "metadata": {},
     "output_type": "execute_result"
    }
   ],
   "source": [
    "weights.shape"
   ]
  },
  {
   "cell_type": "code",
   "execution_count": 34,
   "id": "0a0a8a03",
   "metadata": {},
   "outputs": [
    {
     "data": {
      "text/plain": [
       "array([0., 0., 0., 0., 0., 0., 0., 0., 0., 0., 0., 0., 0., 0., 0., 0., 0.,\n",
       "       0., 0., 0., 0., 0., 0., 0., 0., 0., 0., 0., 0., 0., 0., 0., 0., 0.,\n",
       "       0., 0., 0., 0., 0., 0., 0., 0., 0., 0., 0., 0., 0., 0., 0., 0., 0.,\n",
       "       0., 0., 0., 0., 0., 0., 0., 0., 0., 0., 0., 0., 0., 0., 0., 0., 0.,\n",
       "       0., 0., 0., 0., 0., 0., 0., 0., 0., 0., 0., 0., 0., 0., 0., 0., 0.,\n",
       "       0., 0., 0., 0., 0., 0., 0., 0., 0., 0., 0., 0., 0., 0., 0., 0., 0.,\n",
       "       0., 0., 0., 0., 0., 0., 0., 0., 0., 0., 0., 0., 0., 0., 0., 0., 0.,\n",
       "       0., 0., 0., 0., 0., 0., 0., 0., 0., 0., 0., 0., 0., 0., 0., 0., 0.,\n",
       "       0., 0., 0., 0., 0., 0., 0., 0., 0., 0., 0., 0., 0., 0., 0., 0., 0.,\n",
       "       0., 0., 0., 0., 0., 0., 0., 0., 0., 0., 0., 0., 0., 0., 0., 0., 0.,\n",
       "       0., 0., 0., 0., 0., 0., 0., 0., 0., 0., 0., 0., 0., 0., 0., 0., 0.,\n",
       "       0., 0., 0., 0., 0., 0., 0., 0., 0., 0., 0., 0., 0., 0., 0., 0., 0.,\n",
       "       0., 0., 0., 0., 0., 0., 0., 0., 0., 0., 0., 0., 0., 0., 0., 0., 0.,\n",
       "       0., 0., 0., 0., 0., 0., 0., 0., 0., 0., 0., 0., 0., 0., 0., 0., 0.,\n",
       "       0., 0., 0., 0., 0., 0., 0., 0., 0., 0., 0., 0., 0., 0., 0., 0., 0.,\n",
       "       0., 0., 0., 0., 0., 0., 0., 0., 0., 0., 0., 0., 0., 0., 0., 0., 0.,\n",
       "       0., 0., 0., 0., 0., 0., 0., 0., 0., 0., 0., 0., 0., 0., 0., 0., 0.,\n",
       "       0., 0., 0., 0., 0., 0., 0., 0., 0., 0., 0.], dtype=float32)"
      ]
     },
     "execution_count": 34,
     "metadata": {},
     "output_type": "execute_result"
    }
   ],
   "source": [
    "biases"
   ]
  },
  {
   "cell_type": "code",
   "execution_count": 35,
   "id": "f0aef583",
   "metadata": {},
   "outputs": [
    {
     "data": {
      "text/plain": [
       "(300,)"
      ]
     },
     "execution_count": 35,
     "metadata": {},
     "output_type": "execute_result"
    }
   ],
   "source": [
    "biases.shape"
   ]
  },
  {
   "cell_type": "code",
   "execution_count": 36,
   "id": "e08d350a",
   "metadata": {},
   "outputs": [],
   "source": [
    "model.compile(loss=\"sparse_categorical_crossentropy\", #多分类，稀疏向量\n",
    "              optimizer=\"sgd\", #默认为0.01，不能直接调整\n",
    "              metrics=[\"accuracy\"])"
   ]
  },
  {
   "cell_type": "code",
   "execution_count": 37,
   "id": "6cb7190f",
   "metadata": {},
   "outputs": [
    {
     "name": "stdout",
     "output_type": "stream",
     "text": [
      "Epoch 1/30\n",
      "1719/1719 [==============================] - 2s 885us/step - loss: 0.7237 - accuracy: 0.7644 - val_loss: 0.5207 - val_accuracy: 0.8234\n",
      "Epoch 2/30\n",
      "1719/1719 [==============================] - 1s 804us/step - loss: 0.4843 - accuracy: 0.8318 - val_loss: 0.4349 - val_accuracy: 0.8528\n",
      "Epoch 3/30\n",
      "1719/1719 [==============================] - 1s 816us/step - loss: 0.4392 - accuracy: 0.8457 - val_loss: 0.5358 - val_accuracy: 0.7976\n",
      "Epoch 4/30\n",
      "1719/1719 [==============================] - 1s 823us/step - loss: 0.4126 - accuracy: 0.8564 - val_loss: 0.3921 - val_accuracy: 0.8648\n",
      "Epoch 5/30\n",
      "1719/1719 [==============================] - 1s 827us/step - loss: 0.3939 - accuracy: 0.8618 - val_loss: 0.3750 - val_accuracy: 0.8682\n",
      "Epoch 6/30\n",
      "1719/1719 [==============================] - 1s 827us/step - loss: 0.3753 - accuracy: 0.8676 - val_loss: 0.3694 - val_accuracy: 0.8728\n",
      "Epoch 7/30\n",
      "1719/1719 [==============================] - 1s 833us/step - loss: 0.3633 - accuracy: 0.8711 - val_loss: 0.3616 - val_accuracy: 0.8714\n",
      "Epoch 8/30\n",
      "1719/1719 [==============================] - 1s 839us/step - loss: 0.3518 - accuracy: 0.8751 - val_loss: 0.3836 - val_accuracy: 0.8622\n",
      "Epoch 9/30\n",
      "1719/1719 [==============================] - 1s 839us/step - loss: 0.3415 - accuracy: 0.8786 - val_loss: 0.3590 - val_accuracy: 0.8716\n",
      "Epoch 10/30\n",
      "1719/1719 [==============================] - 1s 838us/step - loss: 0.3321 - accuracy: 0.8825 - val_loss: 0.3438 - val_accuracy: 0.8772\n",
      "Epoch 11/30\n",
      "1719/1719 [==============================] - 1s 838us/step - loss: 0.3242 - accuracy: 0.8834 - val_loss: 0.3442 - val_accuracy: 0.8782\n",
      "Epoch 12/30\n",
      "1719/1719 [==============================] - 1s 851us/step - loss: 0.3151 - accuracy: 0.8866 - val_loss: 0.3310 - val_accuracy: 0.8818\n",
      "Epoch 13/30\n",
      "1719/1719 [==============================] - 1s 842us/step - loss: 0.3083 - accuracy: 0.8889 - val_loss: 0.3273 - val_accuracy: 0.8884\n",
      "Epoch 14/30\n",
      "1719/1719 [==============================] - 1s 846us/step - loss: 0.3022 - accuracy: 0.8918 - val_loss: 0.3409 - val_accuracy: 0.8788\n",
      "Epoch 15/30\n",
      "1719/1719 [==============================] - 1s 843us/step - loss: 0.2947 - accuracy: 0.8932 - val_loss: 0.3212 - val_accuracy: 0.8858\n",
      "Epoch 16/30\n",
      "1719/1719 [==============================] - 1s 856us/step - loss: 0.2892 - accuracy: 0.8970 - val_loss: 0.3096 - val_accuracy: 0.8910\n",
      "Epoch 17/30\n",
      "1719/1719 [==============================] - 1s 846us/step - loss: 0.2841 - accuracy: 0.8974 - val_loss: 0.3567 - val_accuracy: 0.8746\n",
      "Epoch 18/30\n",
      "1719/1719 [==============================] - 1s 851us/step - loss: 0.2780 - accuracy: 0.9000 - val_loss: 0.3137 - val_accuracy: 0.8896\n",
      "Epoch 19/30\n",
      "1719/1719 [==============================] - 1s 866us/step - loss: 0.2730 - accuracy: 0.9019 - val_loss: 0.3120 - val_accuracy: 0.8900\n",
      "Epoch 20/30\n",
      "1719/1719 [==============================] - 1s 872us/step - loss: 0.2674 - accuracy: 0.9033 - val_loss: 0.3273 - val_accuracy: 0.8818\n",
      "Epoch 21/30\n",
      "1719/1719 [==============================] - 1s 872us/step - loss: 0.2625 - accuracy: 0.9052 - val_loss: 0.3067 - val_accuracy: 0.8916\n",
      "Epoch 22/30\n",
      "1719/1719 [==============================] - 2s 886us/step - loss: 0.2576 - accuracy: 0.9070 - val_loss: 0.2972 - val_accuracy: 0.8970\n",
      "Epoch 23/30\n",
      "1719/1719 [==============================] - 2s 874us/step - loss: 0.2535 - accuracy: 0.9081 - val_loss: 0.2977 - val_accuracy: 0.8946\n",
      "Epoch 24/30\n",
      "1719/1719 [==============================] - 2s 880us/step - loss: 0.2486 - accuracy: 0.9102 - val_loss: 0.3078 - val_accuracy: 0.8874\n",
      "Epoch 25/30\n",
      "1719/1719 [==============================] - 1s 868us/step - loss: 0.2444 - accuracy: 0.9122 - val_loss: 0.2984 - val_accuracy: 0.8950\n",
      "Epoch 26/30\n",
      "1719/1719 [==============================] - 1s 869us/step - loss: 0.2406 - accuracy: 0.9131 - val_loss: 0.3079 - val_accuracy: 0.8874\n",
      "Epoch 27/30\n",
      "1719/1719 [==============================] - 1s 868us/step - loss: 0.2362 - accuracy: 0.9156 - val_loss: 0.3022 - val_accuracy: 0.8930\n",
      "Epoch 28/30\n",
      "1719/1719 [==============================] - 2s 873us/step - loss: 0.2329 - accuracy: 0.9160 - val_loss: 0.2998 - val_accuracy: 0.8928\n",
      "Epoch 29/30\n",
      "1719/1719 [==============================] - 2s 873us/step - loss: 0.2282 - accuracy: 0.9183 - val_loss: 0.3046 - val_accuracy: 0.8906\n",
      "Epoch 30/30\n",
      "1719/1719 [==============================] - 2s 880us/step - loss: 0.2250 - accuracy: 0.9194 - val_loss: 0.3048 - val_accuracy: 0.8922\n"
     ]
    }
   ],
   "source": [
    "history = model.fit(X_train, y_train, epochs=30,\n",
    "                    validation_data=(X_valid, y_valid))"
   ]
  },
  {
   "cell_type": "code",
   "execution_count": 38,
   "id": "f48dceca",
   "metadata": {},
   "outputs": [
    {
     "data": {
      "text/plain": [
       "{'verbose': 1, 'epochs': 30, 'steps': 1719}"
      ]
     },
     "execution_count": 38,
     "metadata": {},
     "output_type": "execute_result"
    }
   ],
   "source": [
    "history.params"
   ]
  },
  {
   "cell_type": "code",
   "execution_count": 39,
   "id": "77bdda23",
   "metadata": {},
   "outputs": [
    {
     "name": "stdout",
     "output_type": "stream",
     "text": [
      "[0, 1, 2, 3, 4, 5, 6, 7, 8, 9, 10, 11, 12, 13, 14, 15, 16, 17, 18, 19, 20, 21, 22, 23, 24, 25, 26, 27, 28, 29]\n"
     ]
    }
   ],
   "source": [
    "print(history.epoch)"
   ]
  },
  {
   "cell_type": "code",
   "execution_count": 40,
   "id": "5553d70f",
   "metadata": {},
   "outputs": [
    {
     "data": {
      "text/plain": [
       "dict_keys(['loss', 'accuracy', 'val_loss', 'val_accuracy'])"
      ]
     },
     "execution_count": 40,
     "metadata": {},
     "output_type": "execute_result"
    }
   ],
   "source": [
    "history.history.keys()"
   ]
  },
  {
   "cell_type": "code",
   "execution_count": 41,
   "id": "780a24e5",
   "metadata": {},
   "outputs": [
    {
     "name": "stdout",
     "output_type": "stream",
     "text": [
      "Saving figure keras_learning_curves_plot\n"
     ]
    },
    {
     "data": {
      "image/png": "[encoded data removed]",
      "text/plain": [
       "<Figure size 576x360 with 1 Axes>"
      ]
     },
     "metadata": {
      "needs_background": "light"
     },
     "output_type": "display_data"
    }
   ],
   "source": [
    "import pandas as pd\n",
    "\n",
    "pd.DataFrame(history.history).plot(figsize=(8, 5))\n",
    "plt.grid(True)\n",
    "plt.gca().set_ylim(0, 1) # 当前的图表和子图可以使用plt.gcf()和plt.gca()获得，设定x轴的范围\n",
    "save_fig(\"keras_learning_curves_plot\")\n",
    "plt.show()"
   ]
  },
  {
   "cell_type": "code",
   "execution_count": 42,
   "id": "ab378f17",
   "metadata": {},
   "outputs": [
    {
     "name": "stdout",
     "output_type": "stream",
     "text": [
      "313/313 [==============================] - 0s 598us/step - loss: 0.3382 - accuracy: 0.8808\n"
     ]
    },
    {
     "data": {
      "text/plain": [
       "[0.3381699323654175, 0.8808000087738037]"
      ]
     },
     "execution_count": 42,
     "metadata": {},
     "output_type": "execute_result"
    }
   ],
   "source": [
    "model.evaluate(X_test, y_test)"
   ]
  },
  {
   "cell_type": "markdown",
   "id": "f4dd2909",
   "metadata": {},
   "source": [
    "使用模型进行预测，因没有新实例所以用测试集前3给个实例"
   ]
  },
  {
   "cell_type": "code",
   "execution_count": 43,
   "id": "ed9b745c",
   "metadata": {},
   "outputs": [
    {
     "data": {
      "text/plain": [
       "array([[0.  , 0.  , 0.  , 0.  , 0.  , 0.01, 0.  , 0.03, 0.  , 0.95],\n",
       "       [0.  , 0.  , 0.99, 0.  , 0.01, 0.  , 0.  , 0.  , 0.  , 0.  ],\n",
       "       [0.  , 1.  , 0.  , 0.  , 0.  , 0.  , 0.  , 0.  , 0.  , 0.  ]],\n",
       "      dtype=float32)"
      ]
     },
     "execution_count": 43,
     "metadata": {},
     "output_type": "execute_result"
    }
   ],
   "source": [
    "X_new = X_test[:3]\n",
    "y_proba = model.predict(X_new) #给出每个实例中十类的可能性\n",
    "y_proba.round(2)"
   ]
  },
  {
   "cell_type": "code",
   "execution_count": 44,
   "id": "aba79c51",
   "metadata": {},
   "outputs": [
    {
     "data": {
      "text/plain": [
       "array([9, 2, 1], dtype=int64)"
      ]
     },
     "execution_count": 44,
     "metadata": {},
     "output_type": "execute_result"
    }
   ],
   "source": [
    "#只关心最有可能被分成的类\n",
    "y_pred = np.argmax(model.predict(X_new), axis=-1)\n",
    "y_pred"
   ]
  },
  {
   "cell_type": "code",
   "execution_count": 45,
   "id": "249dbbe6",
   "metadata": {},
   "outputs": [
    {
     "data": {
      "text/plain": [
       "array(['Ankle boot', 'Pullover', 'Trouser'], dtype='<U11')"
      ]
     },
     "execution_count": 45,
     "metadata": {},
     "output_type": "execute_result"
    }
   ],
   "source": [
    "np.array(class_names)[y_pred]"
   ]
  },
  {
   "cell_type": "code",
   "execution_count": 46,
   "id": "c75324b9",
   "metadata": {},
   "outputs": [
    {
     "name": "stdout",
     "output_type": "stream",
     "text": [
      "Saving figure fashion_mnist_images_plot\n"
     ]
    },
    {
     "data": {
      "image/png": "[encoded data removed]",
      "text/plain": [
       "<Figure size 518.4x172.8 with 3 Axes>"
      ]
     },
     "metadata": {
      "needs_background": "light"
     },
     "output_type": "display_data"
    }
   ],
   "source": [
    "plt.figure(figsize=(7.2, 2.4))\n",
    "for index, image in enumerate(X_new):\n",
    "    plt.subplot(1, 3, index + 1)\n",
    "    plt.imshow(image, cmap=\"binary\", interpolation=\"nearest\")\n",
    "    plt.axis('off')\n",
    "    plt.title(class_names[y_test[index]], fontsize=12)\n",
    "plt.subplots_adjust(wspace=0.2, hspace=0.5)\n",
    "save_fig('fashion_mnist_images_plot', tight_layout=False)\n",
    "plt.show()"
   ]
  },
  {
   "cell_type": "markdown",
   "id": "6ab4053b",
   "metadata": {},
   "source": [
    "# 使用顺序API构建回归MLP"
   ]
  },
  {
   "cell_type": "markdown",
   "id": "8d6a0898",
   "metadata": {},
   "source": [
    "使用加州住房数据集，这次的数据集更简单，仅包含数字特征，且没有缺失值"
   ]
  },
  {
   "cell_type": "code",
   "execution_count": 47,
   "id": "713a3380",
   "metadata": {},
   "outputs": [],
   "source": [
    "from sklearn.datasets import fetch_california_housing\n",
    "from sklearn.model_selection import train_test_split\n",
    "from sklearn.preprocessing import StandardScaler\n",
    "\n",
    "housing = fetch_california_housing()\n",
    "\n",
    "X_train_full, X_test, y_train_full, y_test = train_test_split(housing.data, housing.target, random_state=42)\n",
    "X_train, X_valid, y_train, y_valid = train_test_split(X_train_full, y_train_full, random_state=42)\n",
    "\n",
    "scaler = StandardScaler()\n",
    "X_train = scaler.fit_transform(X_train)\n",
    "X_valid = scaler.transform(X_valid)\n",
    "X_test = scaler.transform(X_test)"
   ]
  },
  {
   "cell_type": "code",
   "execution_count": 48,
   "id": "b0423759",
   "metadata": {},
   "outputs": [],
   "source": [
    "np.random.seed(42)\n",
    "tf.random.set_seed(42)"
   ]
  },
  {
   "cell_type": "code",
   "execution_count": 49,
   "id": "5a448546",
   "metadata": {},
   "outputs": [
    {
     "name": "stdout",
     "output_type": "stream",
     "text": [
      "Epoch 1/20\n",
      "263/363 [====================>.........] - ETA: 0s - loss: 1.9438WARNING:tensorflow:Callbacks method `on_test_batch_end` is slow compared to the batch time (batch time: 0.0000s vs `on_test_batch_end` time: 0.0010s). Check your callbacks.\n",
      "363/363 [==============================] - 0s 738us/step - loss: 1.6419 - val_loss: 0.8560\n",
      "Epoch 2/20\n",
      "363/363 [==============================] - 0s 508us/step - loss: 0.7047 - val_loss: 0.6531\n",
      "Epoch 3/20\n",
      "363/363 [==============================] - 0s 524us/step - loss: 0.6345 - val_loss: 0.6099\n",
      "Epoch 4/20\n",
      "363/363 [==============================] - 0s 522us/step - loss: 0.5977 - val_loss: 0.5658\n",
      "Epoch 5/20\n",
      "363/363 [==============================] - 0s 508us/step - loss: 0.5706 - val_loss: 0.5355\n",
      "Epoch 6/20\n",
      "363/363 [==============================] - 0s 513us/step - loss: 0.5472 - val_loss: 0.5173\n",
      "Epoch 7/20\n",
      "363/363 [==============================] - 0s 514us/step - loss: 0.5288 - val_loss: 0.5081\n",
      "Epoch 8/20\n",
      "363/363 [==============================] - 0s 509us/step - loss: 0.5130 - val_loss: 0.4799\n",
      "Epoch 9/20\n",
      "363/363 [==============================] - 0s 512us/step - loss: 0.4992 - val_loss: 0.4690\n",
      "Epoch 10/20\n",
      "363/363 [==============================] - 0s 498us/step - loss: 0.4875 - val_loss: 0.4656\n",
      "Epoch 11/20\n",
      "363/363 [==============================] - 0s 514us/step - loss: 0.4777 - val_loss: 0.4482\n",
      "Epoch 12/20\n",
      "363/363 [==============================] - 0s 499us/step - loss: 0.4688 - val_loss: 0.4479\n",
      "Epoch 13/20\n",
      "363/363 [==============================] - 0s 502us/step - loss: 0.4615 - val_loss: 0.4296\n",
      "Epoch 14/20\n",
      "363/363 [==============================] - 0s 507us/step - loss: 0.4547 - val_loss: 0.4233\n",
      "Epoch 15/20\n",
      "363/363 [==============================] - 0s 505us/step - loss: 0.4488 - val_loss: 0.4176\n",
      "Epoch 16/20\n",
      "363/363 [==============================] - 0s 508us/step - loss: 0.4435 - val_loss: 0.4123\n",
      "Epoch 17/20\n",
      "363/363 [==============================] - 0s 503us/step - loss: 0.4389 - val_loss: 0.4071\n",
      "Epoch 18/20\n",
      "363/363 [==============================] - 0s 503us/step - loss: 0.4347 - val_loss: 0.4037\n",
      "Epoch 19/20\n",
      "363/363 [==============================] - 0s 512us/step - loss: 0.4306 - val_loss: 0.4000\n",
      "Epoch 20/20\n",
      "363/363 [==============================] - 0s 554us/step - loss: 0.4273 - val_loss: 0.3969\n",
      "162/162 [==============================] - 0s 357us/step - loss: 0.4212\n"
     ]
    }
   ],
   "source": [
    "model = keras.models.Sequential([\n",
    "    keras.layers.Dense(30, activation=\"relu\", input_shape=X_train.shape[1:]),\n",
    "    keras.layers.Dense(1)\n",
    "])\n",
    "model.compile(loss=\"mean_squared_error\", optimizer=keras.optimizers.SGD(learning_rate=1e-3))\n",
    "history = model.fit(X_train, y_train, epochs=20, validation_data=(X_valid, y_valid))\n",
    "mse_test = model.evaluate(X_test, y_test)\n",
    "X_new = X_test[:3]\n",
    "y_pred = model.predict(X_new)"
   ]
  },
  {
   "cell_type": "code",
   "execution_count": 50,
   "id": "fd95f63d",
   "metadata": {},
   "outputs": [
    {
     "data": {
      "text/plain": [
       "array([[0.38856643],\n",
       "       [1.6792021 ],\n",
       "       [3.1022797 ]], dtype=float32)"
      ]
     },
     "execution_count": 50,
     "metadata": {},
     "output_type": "execute_result"
    }
   ],
   "source": [
    "y_pred"
   ]
  },
  {
   "cell_type": "code",
   "execution_count": 51,
   "id": "aef058d8",
   "metadata": {},
   "outputs": [
    {
     "data": {
      "image/png": "[encoded data removed]",
      "text/plain": [
       "<Figure size 432x288 with 1 Axes>"
      ]
     },
     "metadata": {
      "needs_background": "light"
     },
     "output_type": "display_data"
    }
   ],
   "source": [
    "plt.plot(pd.DataFrame(history.history))\n",
    "plt.grid(True)\n",
    "plt.gca().set_ylim(0, 1)\n",
    "plt.show()"
   ]
  },
  {
   "cell_type": "markdown",
   "id": "68918193",
   "metadata": {},
   "source": [
    "# 使用函数式API构建复杂模型"
   ]
  },
  {
   "cell_type": "markdown",
   "id": "4d4686d4",
   "metadata": {},
   "source": [
    "并不是所有的神经网络模型都是简单的顺序的。有些可能具有复杂的拓扑结构。有些可能有多个输入和/或多个输出。例如，Wide & Deep神经网络(见论文)将所有或部分输入直接连接到输出层。"
   ]
  },
  {
   "cell_type": "code",
   "execution_count": 52,
   "id": "eb0917f7",
   "metadata": {},
   "outputs": [],
   "source": [
    "np.random.seed(42)\n",
    "tf.random.set_seed(42)"
   ]
  },
  {
   "cell_type": "code",
   "execution_count": 53,
   "id": "0d2f7d7b",
   "metadata": {},
   "outputs": [],
   "source": [
    "input_ = keras.layers.Input(shape=X_train.shape[1:])\n",
    "hidden1 = keras.layers.Dense(30, activation=\"relu\")(input_)\n",
    "hidden2 = keras.layers.Dense(30, activation=\"relu\")(hidden1)\n",
    "concat = keras.layers.concatenate([input_, hidden2]) #合并\n",
    "output = keras.layers.Dense(1)(concat)\n",
    "model = keras.models.Model(inputs=[input_], outputs=[output])"
   ]
  },
  {
   "cell_type": "code",
   "execution_count": 54,
   "id": "06d5fd04",
   "metadata": {},
   "outputs": [
    {
     "name": "stdout",
     "output_type": "stream",
     "text": [
      "Model: \"functional_1\"\n",
      "__________________________________________________________________________________________________\n",
      "Layer (type)                    Output Shape         Param #     Connected to                     \n",
      "==================================================================================================\n",
      "input_1 (InputLayer)            [(None, 8)]          0                                            \n",
      "__________________________________________________________________________________________________\n",
      "dense_5 (Dense)                 (None, 30)           270         input_1[0][0]                    \n",
      "__________________________________________________________________________________________________\n",
      "dense_6 (Dense)                 (None, 30)           930         dense_5[0][0]                    \n",
      "__________________________________________________________________________________________________\n",
      "concatenate (Concatenate)       (None, 38)           0           input_1[0][0]                    \n",
      "                                                                 dense_6[0][0]                    \n",
      "__________________________________________________________________________________________________\n",
      "dense_7 (Dense)                 (None, 1)            39          concatenate[0][0]                \n",
      "==================================================================================================\n",
      "Total params: 1,239\n",
      "Trainable params: 1,239\n",
      "Non-trainable params: 0\n",
      "__________________________________________________________________________________________________\n"
     ]
    }
   ],
   "source": [
    "model.summary()"
   ]
  },
  {
   "cell_type": "code",
   "execution_count": 55,
   "id": "7b82a08a",
   "metadata": {},
   "outputs": [
    {
     "name": "stdout",
     "output_type": "stream",
     "text": [
      "Epoch 1/20\n",
      "363/363 [==============================] - 0s 723us/step - loss: 1.2611 - val_loss: 3.3940\n",
      "Epoch 2/20\n",
      "363/363 [==============================] - 0s 549us/step - loss: 0.6580 - val_loss: 0.9360\n",
      "Epoch 3/20\n",
      "363/363 [==============================] - 0s 540us/step - loss: 0.5878 - val_loss: 0.5649\n",
      "Epoch 4/20\n",
      "363/363 [==============================] - 0s 562us/step - loss: 0.5582 - val_loss: 0.5712\n",
      "Epoch 5/20\n",
      "363/363 [==============================] - 0s 538us/step - loss: 0.5347 - val_loss: 0.5045\n",
      "Epoch 6/20\n",
      "363/363 [==============================] - 0s 532us/step - loss: 0.5158 - val_loss: 0.4831\n",
      "Epoch 7/20\n",
      "363/363 [==============================] - 0s 530us/step - loss: 0.5002 - val_loss: 0.4639\n",
      "Epoch 8/20\n",
      "363/363 [==============================] - 0s 534us/step - loss: 0.4876 - val_loss: 0.4638\n",
      "Epoch 9/20\n",
      "363/363 [==============================] - 0s 551us/step - loss: 0.4760 - val_loss: 0.4421\n",
      "Epoch 10/20\n",
      "363/363 [==============================] - 0s 532us/step - loss: 0.4659 - val_loss: 0.4313\n",
      "Epoch 11/20\n",
      "363/363 [==============================] - 0s 553us/step - loss: 0.4577 - val_loss: 0.4345\n",
      "Epoch 12/20\n",
      "363/363 [==============================] - 0s 538us/step - loss: 0.4498 - val_loss: 0.4168\n",
      "Epoch 13/20\n",
      "363/363 [==============================] - 0s 525us/step - loss: 0.4428 - val_loss: 0.4230\n",
      "Epoch 14/20\n",
      "363/363 [==============================] - 0s 530us/step - loss: 0.4366 - val_loss: 0.4047\n",
      "Epoch 15/20\n",
      "363/363 [==============================] - 0s 554us/step - loss: 0.4307 - val_loss: 0.4078\n",
      "Epoch 16/20\n",
      "363/363 [==============================] - 0s 540us/step - loss: 0.4257 - val_loss: 0.3938\n",
      "Epoch 17/20\n",
      "363/363 [==============================] - 0s 532us/step - loss: 0.4210 - val_loss: 0.3952\n",
      "Epoch 18/20\n",
      "363/363 [==============================] - 0s 530us/step - loss: 0.4167 - val_loss: 0.3860\n",
      "Epoch 19/20\n",
      "363/363 [==============================] - 0s 535us/step - loss: 0.4121 - val_loss: 0.3827\n",
      "Epoch 20/20\n",
      "363/363 [==============================] - 0s 529us/step - loss: 0.4088 - val_loss: 0.4054\n",
      "162/162 [==============================] - 0s 357us/step - loss: 0.4032\n"
     ]
    }
   ],
   "source": [
    "model.compile(loss=\"mean_squared_error\", optimizer=keras.optimizers.SGD(learning_rate=1e-3))\n",
    "history = model.fit(X_train, y_train, epochs=20,\n",
    "                    validation_data=(X_valid, y_valid))\n",
    "mse_test = model.evaluate(X_test, y_test)\n",
    "y_pred = model.predict(X_new)"
   ]
  },
  {
   "cell_type": "code",
   "execution_count": 56,
   "id": "71753580",
   "metadata": {},
   "outputs": [
    {
     "data": {
      "text/plain": [
       "array([[0.47010726],\n",
       "       [1.8735044 ],\n",
       "       [3.379823  ]], dtype=float32)"
      ]
     },
     "execution_count": 56,
     "metadata": {},
     "output_type": "execute_result"
    }
   ],
   "source": [
    "y_pred"
   ]
  },
  {
   "cell_type": "markdown",
   "id": "195a9326",
   "metadata": {},
   "source": [
    "如果您想通过宽路径或深路径发送不同的输入特征子集，该怎么办?我们将发送5个特征(特征0到4)，6个特征通过深度路径(特征2到7)。注意，有3个特征将同时通过(特征2、3和4)。"
   ]
  },
  {
   "cell_type": "code",
   "execution_count": 57,
   "id": "07c1831c",
   "metadata": {},
   "outputs": [],
   "source": [
    "np.random.seed(42)\n",
    "tf.random.set_seed(42)"
   ]
  },
  {
   "cell_type": "code",
   "execution_count": 58,
   "id": "c5644201",
   "metadata": {},
   "outputs": [],
   "source": [
    "input_A = keras.layers.Input(shape=[5], name=\"wide_input\")\n",
    "input_B = keras.layers.Input(shape=[6], name=\"deep_input\")\n",
    "hidden1 = keras.layers.Dense(30, activation=\"relu\")(input_B)\n",
    "hidden2 = keras.layers.Dense(30, activation=\"relu\")(hidden1)\n",
    "concat = keras.layers.concatenate([input_A, hidden2])\n",
    "output = keras.layers.Dense(1, name=\"output\")(concat)\n",
    "model = keras.models.Model(inputs=[input_A, input_B], outputs=[output])"
   ]
  },
  {
   "cell_type": "code",
   "execution_count": 59,
   "id": "48f46fe3",
   "metadata": {},
   "outputs": [
    {
     "name": "stdout",
     "output_type": "stream",
     "text": [
      "Epoch 1/20\n",
      "363/363 [==============================] - 0s 784us/step - loss: 1.8145 - val_loss: 0.8072\n",
      "Epoch 2/20\n",
      "363/363 [==============================] - 0s 563us/step - loss: 0.6771 - val_loss: 0.6658\n",
      "Epoch 3/20\n",
      "363/363 [==============================] - 0s 608us/step - loss: 0.5979 - val_loss: 0.5687\n",
      "Epoch 4/20\n",
      "363/363 [==============================] - 0s 560us/step - loss: 0.5584 - val_loss: 0.5296\n",
      "Epoch 5/20\n",
      "363/363 [==============================] - 0s 567us/step - loss: 0.5334 - val_loss: 0.4993\n",
      "Epoch 6/20\n",
      "363/363 [==============================] - 0s 557us/step - loss: 0.5120 - val_loss: 0.4811\n",
      "Epoch 7/20\n",
      "363/363 [==============================] - 0s 582us/step - loss: 0.4970 - val_loss: 0.4696\n",
      "Epoch 8/20\n",
      "363/363 [==============================] - 0s 566us/step - loss: 0.4843 - val_loss: 0.4496\n",
      "Epoch 9/20\n",
      "363/363 [==============================] - 0s 558us/step - loss: 0.4730 - val_loss: 0.4404\n",
      "Epoch 10/20\n",
      "363/363 [==============================] - 0s 562us/step - loss: 0.4644 - val_loss: 0.4315\n",
      "Epoch 11/20\n",
      "363/363 [==============================] - 0s 581us/step - loss: 0.4570 - val_loss: 0.4268\n",
      "Epoch 12/20\n",
      "363/363 [==============================] - 0s 565us/step - loss: 0.4510 - val_loss: 0.4166\n",
      "Epoch 13/20\n",
      "363/363 [==============================] - 0s 564us/step - loss: 0.4462 - val_loss: 0.4125\n",
      "Epoch 14/20\n",
      "363/363 [==============================] - 0s 546us/step - loss: 0.4421 - val_loss: 0.4074\n",
      "Epoch 15/20\n",
      "363/363 [==============================] - 0s 562us/step - loss: 0.4385 - val_loss: 0.4044\n",
      "Epoch 16/20\n",
      "363/363 [==============================] - 0s 571us/step - loss: 0.4356 - val_loss: 0.4007\n",
      "Epoch 17/20\n",
      "363/363 [==============================] - 0s 615us/step - loss: 0.4322 - val_loss: 0.4013\n",
      "Epoch 18/20\n",
      "363/363 [==============================] - 0s 559us/step - loss: 0.4305 - val_loss: 0.3987\n",
      "Epoch 19/20\n",
      "363/363 [==============================] - 0s 565us/step - loss: 0.4274 - val_loss: 0.3934\n",
      "Epoch 20/20\n",
      "363/363 [==============================] - 0s 552us/step - loss: 0.4261 - val_loss: 0.4204\n",
      "162/162 [==============================] - 0s 388us/step - loss: 0.4219\n"
     ]
    }
   ],
   "source": [
    "model.compile(loss=\"mse\", optimizer=keras.optimizers.SGD(learning_rate=1e-3))\n",
    "\n",
    "X_train_A, X_train_B = X_train[:, :5], X_train[:, 2:]\n",
    "X_valid_A, X_valid_B = X_valid[:, :5], X_valid[:, 2:]\n",
    "X_test_A, X_test_B = X_test[:, :5], X_test[:, 2:]\n",
    "X_new_A, X_new_B = X_test_A[:3], X_test_B[:3]\n",
    "\n",
    "history = model.fit((X_train_A, X_train_B), y_train, epochs=20,\n",
    "                    validation_data=((X_valid_A, X_valid_B), y_valid))\n",
    "mse_test = model.evaluate((X_test_A, X_test_B), y_test)\n",
    "y_pred = model.predict((X_new_A, X_new_B))"
   ]
  },
  {
   "cell_type": "markdown",
   "id": "d29e1af9",
   "metadata": {},
   "source": [
    "添加辅助输出进行正则化"
   ]
  },
  {
   "cell_type": "code",
   "execution_count": 60,
   "id": "a161521b",
   "metadata": {},
   "outputs": [],
   "source": [
    "np.random.seed(42)\n",
    "tf.random.set_seed(42)"
   ]
  },
  {
   "cell_type": "code",
   "execution_count": 61,
   "id": "3dbe6504",
   "metadata": {},
   "outputs": [],
   "source": [
    "input_A = keras.layers.Input(shape=[5], name=\"wide_input\")\n",
    "input_B = keras.layers.Input(shape=[6], name=\"deep_input\")\n",
    "hidden1 = keras.layers.Dense(30, activation=\"relu\")(input_B)\n",
    "hidden2 = keras.layers.Dense(30, activation=\"relu\")(hidden1)\n",
    "concat = keras.layers.concatenate([input_A, hidden2])\n",
    "output = keras.layers.Dense(1, name=\"main_output\")(concat)\n",
    "aux_output = keras.layers.Dense(1, name=\"aux_output\")(hidden2)\n",
    "model = keras.models.Model(inputs=[input_A, input_B],\n",
    "                           outputs=[output, aux_output])"
   ]
  },
  {
   "cell_type": "code",
   "execution_count": 62,
   "id": "6bdc5738",
   "metadata": {},
   "outputs": [
    {
     "name": "stdout",
     "output_type": "stream",
     "text": [
      "Model: \"functional_5\"\n",
      "__________________________________________________________________________________________________\n",
      "Layer (type)                    Output Shape         Param #     Connected to                     \n",
      "==================================================================================================\n",
      "deep_input (InputLayer)         [(None, 6)]          0                                            \n",
      "__________________________________________________________________________________________________\n",
      "dense_10 (Dense)                (None, 30)           210         deep_input[0][0]                 \n",
      "__________________________________________________________________________________________________\n",
      "wide_input (InputLayer)         [(None, 5)]          0                                            \n",
      "__________________________________________________________________________________________________\n",
      "dense_11 (Dense)                (None, 30)           930         dense_10[0][0]                   \n",
      "__________________________________________________________________________________________________\n",
      "concatenate_2 (Concatenate)     (None, 35)           0           wide_input[0][0]                 \n",
      "                                                                 dense_11[0][0]                   \n",
      "__________________________________________________________________________________________________\n",
      "main_output (Dense)             (None, 1)            36          concatenate_2[0][0]              \n",
      "__________________________________________________________________________________________________\n",
      "aux_output (Dense)              (None, 1)            31          dense_11[0][0]                   \n",
      "==================================================================================================\n",
      "Total params: 1,207\n",
      "Trainable params: 1,207\n",
      "Non-trainable params: 0\n",
      "__________________________________________________________________________________________________\n"
     ]
    }
   ],
   "source": [
    "model.summary()"
   ]
  },
  {
   "cell_type": "code",
   "execution_count": 63,
   "id": "3c23be72",
   "metadata": {},
   "outputs": [],
   "source": [
    "model.compile(loss=[\"mse\", \"mse\"], loss_weights=[0.9, 0.1], optimizer=keras.optimizers.SGD(learning_rate=1e-3))"
   ]
  },
  {
   "cell_type": "code",
   "execution_count": 64,
   "id": "e50b829e",
   "metadata": {},
   "outputs": [
    {
     "name": "stdout",
     "output_type": "stream",
     "text": [
      "Epoch 1/20\n",
      "363/363 [==============================] - 0s 978us/step - loss: 2.1365 - main_output_loss: 1.9196 - aux_output_loss: 4.0890 - val_loss: 1.6233 - val_main_output_loss: 0.8468 - val_aux_output_loss: 8.6117\n",
      "Epoch 2/20\n",
      "363/363 [==============================] - 0s 664us/step - loss: 0.8905 - main_output_loss: 0.6969 - aux_output_loss: 2.6326 - val_loss: 1.5163 - val_main_output_loss: 0.6836 - val_aux_output_loss: 9.0109\n",
      "Epoch 3/20\n",
      "363/363 [==============================] - 0s 651us/step - loss: 0.7429 - main_output_loss: 0.6088 - aux_output_loss: 1.9499 - val_loss: 1.4639 - val_main_output_loss: 0.6229 - val_aux_output_loss: 9.0326\n",
      "Epoch 4/20\n",
      "363/363 [==============================] - 0s 665us/step - loss: 0.6771 - main_output_loss: 0.5691 - aux_output_loss: 1.6485 - val_loss: 1.3388 - val_main_output_loss: 0.5481 - val_aux_output_loss: 8.4552\n",
      "Epoch 5/20\n",
      "363/363 [==============================] - 0s 672us/step - loss: 0.6381 - main_output_loss: 0.5434 - aux_output_loss: 1.4911 - val_loss: 1.2177 - val_main_output_loss: 0.5194 - val_aux_output_loss: 7.5030\n",
      "Epoch 6/20\n",
      "363/363 [==============================] - 0s 659us/step - loss: 0.6079 - main_output_loss: 0.5207 - aux_output_loss: 1.3923 - val_loss: 1.0935 - val_main_output_loss: 0.5106 - val_aux_output_loss: 6.3396\n",
      "Epoch 7/20\n",
      "363/363 [==============================] - 0s 673us/step - loss: 0.5853 - main_output_loss: 0.5040 - aux_output_loss: 1.3175 - val_loss: 0.9918 - val_main_output_loss: 0.5115 - val_aux_output_loss: 5.3151\n",
      "Epoch 8/20\n",
      "363/363 [==============================] - 0s 677us/step - loss: 0.5666 - main_output_loss: 0.4898 - aux_output_loss: 1.2572 - val_loss: 0.8733 - val_main_output_loss: 0.4733 - val_aux_output_loss: 4.4740\n",
      "Epoch 9/20\n",
      "363/363 [==============================] - 0s 675us/step - loss: 0.5504 - main_output_loss: 0.4771 - aux_output_loss: 1.2101 - val_loss: 0.7832 - val_main_output_loss: 0.4555 - val_aux_output_loss: 3.7323\n",
      "Epoch 10/20\n",
      "363/363 [==============================] - 0s 652us/step - loss: 0.5373 - main_output_loss: 0.4671 - aux_output_loss: 1.1695 - val_loss: 0.7170 - val_main_output_loss: 0.4604 - val_aux_output_loss: 3.0262\n",
      "Epoch 11/20\n",
      "363/363 [==============================] - 0s 655us/step - loss: 0.5266 - main_output_loss: 0.4591 - aux_output_loss: 1.1344 - val_loss: 0.6510 - val_main_output_loss: 0.4293 - val_aux_output_loss: 2.6468\n",
      "Epoch 12/20\n",
      "363/363 [==============================] - 0s 651us/step - loss: 0.5173 - main_output_loss: 0.4520 - aux_output_loss: 1.1048 - val_loss: 0.6051 - val_main_output_loss: 0.4310 - val_aux_output_loss: 2.1722\n",
      "Epoch 13/20\n",
      "363/363 [==============================] - 0s 662us/step - loss: 0.5095 - main_output_loss: 0.4465 - aux_output_loss: 1.0765 - val_loss: 0.5644 - val_main_output_loss: 0.4161 - val_aux_output_loss: 1.8992\n",
      "Epoch 14/20\n",
      "363/363 [==============================] - 0s 673us/step - loss: 0.5027 - main_output_loss: 0.4417 - aux_output_loss: 1.0511 - val_loss: 0.5354 - val_main_output_loss: 0.4119 - val_aux_output_loss: 1.6466\n",
      "Epoch 15/20\n",
      "363/363 [==============================] - 0s 662us/step - loss: 0.4967 - main_output_loss: 0.4376 - aux_output_loss: 1.0280 - val_loss: 0.5124 - val_main_output_loss: 0.4047 - val_aux_output_loss: 1.4812\n",
      "Epoch 16/20\n",
      "363/363 [==============================] - 0s 662us/step - loss: 0.4916 - main_output_loss: 0.4343 - aux_output_loss: 1.0070 - val_loss: 0.4934 - val_main_output_loss: 0.4034 - val_aux_output_loss: 1.3035\n",
      "Epoch 17/20\n",
      "363/363 [==============================] - 0s 648us/step - loss: 0.4867 - main_output_loss: 0.4311 - aux_output_loss: 0.9872 - val_loss: 0.4801 - val_main_output_loss: 0.3984 - val_aux_output_loss: 1.2150\n",
      "Epoch 18/20\n",
      "363/363 [==============================] - 0s 665us/step - loss: 0.4829 - main_output_loss: 0.4289 - aux_output_loss: 0.9686 - val_loss: 0.4694 - val_main_output_loss: 0.3962 - val_aux_output_loss: 1.1279\n",
      "Epoch 19/20\n",
      "363/363 [==============================] - 0s 683us/step - loss: 0.4785 - main_output_loss: 0.4260 - aux_output_loss: 0.9510 - val_loss: 0.4580 - val_main_output_loss: 0.3936 - val_aux_output_loss: 1.0372\n",
      "Epoch 20/20\n",
      "363/363 [==============================] - 0s 650us/step - loss: 0.4756 - main_output_loss: 0.4246 - aux_output_loss: 0.9344 - val_loss: 0.4655 - val_main_output_loss: 0.4048 - val_aux_output_loss: 1.0118\n"
     ]
    }
   ],
   "source": [
    "history = model.fit([X_train_A, X_train_B], [y_train, y_train], epochs=20,\n",
    "                    validation_data=([X_valid_A, X_valid_B], [y_valid, y_valid]))"
   ]
  },
  {
   "cell_type": "code",
   "execution_count": 65,
   "id": "7c6f8727",
   "metadata": {},
   "outputs": [
    {
     "name": "stdout",
     "output_type": "stream",
     "text": [
      "162/162 [==============================] - 0s 468us/step - loss: 0.4668 - main_output_loss: 0.4178 - aux_output_loss: 0.9082\n",
      "WARNING:tensorflow:5 out of the last 6 calls to <function Model.make_predict_function.<locals>.predict_function at 0x000002C920650AF0> triggered tf.function retracing. Tracing is expensive and the excessive number of tracings could be due to (1) creating @tf.function repeatedly in a loop, (2) passing tensors with different shapes, (3) passing Python objects instead of tensors. For (1), please define your @tf.function outside of the loop. For (2), @tf.function has experimental_relax_shapes=True option that relaxes argument shapes that can avoid unnecessary retracing. For (3), please refer to https://www.tensorflow.org/tutorials/customization/performance#python_or_tensor_args and https://www.tensorflow.org/api_docs/python/tf/function for  more details.\n"
     ]
    }
   ],
   "source": [
    "total_loss, main_loss, aux_loss = model.evaluate(\n",
    "    [X_test_A, X_test_B], [y_test, y_test])\n",
    "y_pred_main, y_pred_aux = model.predict([X_new_A, X_new_B])"
   ]
  },
  {
   "cell_type": "markdown",
   "id": "cc27bd91",
   "metadata": {},
   "source": [
    "# 使用子类API构建动态模型"
   ]
  },
  {
   "cell_type": "code",
   "execution_count": 66,
   "id": "5dda1480",
   "metadata": {},
   "outputs": [],
   "source": [
    "class WideAndDeepModel(keras.models.Model):\n",
    "    def __init__(self, units=30, activation=\"relu\", **kwargs):\n",
    "        super().__init__(**kwargs)\n",
    "        self.hidden1 = keras.layers.Dense(units, activation=activation)\n",
    "        self.hidden2 = keras.layers.Dense(units, activation=activation)\n",
    "        self.main_output = keras.layers.Dense(1)\n",
    "        self.aux_output = keras.layers.Dense(1)\n",
    "        \n",
    "    def call(self, inputs): #用来建立输入参数的方法\n",
    "        input_A, input_B = inputs\n",
    "        hidden1 = self.hidden1(input_B)\n",
    "        hidden2 = self.hidden2(hidden1)\n",
    "        concat = keras.layers.concatenate([input_A, hidden2])\n",
    "        main_output = self.main_output(concat)\n",
    "        aux_output = self.aux_output(hidden2)\n",
    "        return main_output, aux_output\n",
    "\n",
    "model = WideAndDeepModel(30, activation=\"relu\")"
   ]
  },
  {
   "cell_type": "code",
   "execution_count": 67,
   "id": "784a809d",
   "metadata": {},
   "outputs": [
    {
     "name": "stdout",
     "output_type": "stream",
     "text": [
      "Epoch 1/10\n",
      "363/363 [==============================] - 0s 1ms/step - loss: 2.3298 - output_1_loss: 2.2186 - output_2_loss: 3.3304 - val_loss: 2.1435 - val_output_1_loss: 1.1581 - val_output_2_loss: 11.0117\n",
      "Epoch 2/10\n",
      "363/363 [==============================] - 0s 650us/step - loss: 0.9714 - output_1_loss: 0.8543 - output_2_loss: 2.0252 - val_loss: 1.7567 - val_output_1_loss: 0.8205 - val_output_2_loss: 10.1825\n",
      "Epoch 3/10\n",
      "363/363 [==============================] - 0s 651us/step - loss: 0.8268 - output_1_loss: 0.7289 - output_2_loss: 1.7082 - val_loss: 1.5664 - val_output_1_loss: 0.7913 - val_output_2_loss: 8.5419\n",
      "Epoch 4/10\n",
      "363/363 [==============================] - 0s 648us/step - loss: 0.7636 - output_1_loss: 0.6764 - output_2_loss: 1.5477 - val_loss: 1.3088 - val_output_1_loss: 0.6549 - val_output_2_loss: 7.1933\n",
      "Epoch 5/10\n",
      "363/363 [==============================] - 0s 640us/step - loss: 0.7211 - output_1_loss: 0.6402 - output_2_loss: 1.4489 - val_loss: 1.1357 - val_output_1_loss: 0.5964 - val_output_2_loss: 5.9898\n",
      "Epoch 6/10\n",
      "363/363 [==============================] - 0s 671us/step - loss: 0.6895 - output_1_loss: 0.6124 - output_2_loss: 1.3833 - val_loss: 1.0036 - val_output_1_loss: 0.5937 - val_output_2_loss: 4.6933\n",
      "Epoch 7/10\n",
      "363/363 [==============================] - 0s 653us/step - loss: 0.6632 - output_1_loss: 0.5894 - output_2_loss: 1.3274 - val_loss: 0.8904 - val_output_1_loss: 0.5591 - val_output_2_loss: 3.8714\n",
      "Epoch 8/10\n",
      "363/363 [==============================] - 0s 714us/step - loss: 0.6410 - output_1_loss: 0.5701 - output_2_loss: 1.2796 - val_loss: 0.8009 - val_output_1_loss: 0.5243 - val_output_2_loss: 3.2903\n",
      "Epoch 9/10\n",
      "363/363 [==============================] - 0s 648us/step - loss: 0.6204 - output_1_loss: 0.5514 - output_2_loss: 1.2416 - val_loss: 0.7357 - val_output_1_loss: 0.5144 - val_output_2_loss: 2.7275\n",
      "Epoch 10/10\n",
      "363/363 [==============================] - 0s 643us/step - loss: 0.6024 - output_1_loss: 0.5355 - output_2_loss: 1.2043 - val_loss: 0.6849 - val_output_1_loss: 0.5014 - val_output_2_loss: 2.3370\n",
      "162/162 [==============================] - 0s 462us/step - loss: 0.5841 - output_1_loss: 0.5188 - output_2_loss: 1.1722\n",
      "WARNING:tensorflow:6 out of the last 7 calls to <function Model.make_predict_function.<locals>.predict_function at 0x000002C9209BAD30> triggered tf.function retracing. Tracing is expensive and the excessive number of tracings could be due to (1) creating @tf.function repeatedly in a loop, (2) passing tensors with different shapes, (3) passing Python objects instead of tensors. For (1), please define your @tf.function outside of the loop. For (2), @tf.function has experimental_relax_shapes=True option that relaxes argument shapes that can avoid unnecessary retracing. For (3), please refer to https://www.tensorflow.org/tutorials/customization/performance#python_or_tensor_args and https://www.tensorflow.org/api_docs/python/tf/function for  more details.\n"
     ]
    }
   ],
   "source": [
    "model.compile(loss=\"mse\", loss_weights=[0.9, 0.1], optimizer=keras.optimizers.SGD(learning_rate=1e-3))\n",
    "history = model.fit((X_train_A, X_train_B), (y_train, y_train), epochs=10,\n",
    "                    validation_data=((X_valid_A, X_valid_B), (y_valid, y_valid)))\n",
    "total_loss, main_loss, aux_loss = model.evaluate((X_test_A, X_test_B), (y_test, y_test))\n",
    "y_pred_main, y_pred_aux = model.predict((X_new_A, X_new_B))"
   ]
  },
  {
   "cell_type": "markdown",
   "id": "a2873020",
   "metadata": {},
   "source": [
    "# 保存和还原模型"
   ]
  },
  {
   "cell_type": "code",
   "execution_count": 68,
   "id": "bf47034a",
   "metadata": {},
   "outputs": [],
   "source": [
    "np.random.seed(42)\n",
    "tf.random.set_seed(42)"
   ]
  },
  {
   "cell_type": "code",
   "execution_count": 69,
   "id": "5517b9b6",
   "metadata": {},
   "outputs": [],
   "source": [
    "model = keras.models.Sequential([\n",
    "    keras.layers.Dense(30, activation=\"relu\", input_shape=[8]),\n",
    "    keras.layers.Dense(30, activation=\"relu\"),\n",
    "    keras.layers.Dense(1)\n",
    "])    "
   ]
  },
  {
   "cell_type": "code",
   "execution_count": 70,
   "id": "02078b65",
   "metadata": {},
   "outputs": [
    {
     "name": "stdout",
     "output_type": "stream",
     "text": [
      "Epoch 1/10\n",
      "258/363 [====================>.........] - ETA: 0s - loss: 2.3346WARNING:tensorflow:Callbacks method `on_test_batch_end` is slow compared to the batch time (batch time: 0.0000s vs `on_test_batch_end` time: 0.0010s). Check your callbacks.\n",
      "363/363 [==============================] - 0s 723us/step - loss: 1.8866 - val_loss: 0.7126\n",
      "Epoch 2/10\n",
      "363/363 [==============================] - 0s 531us/step - loss: 0.6577 - val_loss: 0.6880\n",
      "Epoch 3/10\n",
      "363/363 [==============================] - 0s 519us/step - loss: 0.5934 - val_loss: 0.5803\n",
      "Epoch 4/10\n",
      "363/363 [==============================] - 0s 539us/step - loss: 0.5557 - val_loss: 0.5166\n",
      "Epoch 5/10\n",
      "363/363 [==============================] - 0s 522us/step - loss: 0.5272 - val_loss: 0.4895\n",
      "Epoch 6/10\n",
      "363/363 [==============================] - 0s 526us/step - loss: 0.5033 - val_loss: 0.4951\n",
      "Epoch 7/10\n",
      "363/363 [==============================] - 0s 519us/step - loss: 0.4854 - val_loss: 0.4861\n",
      "Epoch 8/10\n",
      "363/363 [==============================] - 0s 524us/step - loss: 0.4709 - val_loss: 0.4554\n",
      "Epoch 9/10\n",
      "363/363 [==============================] - 0s 553us/step - loss: 0.4578 - val_loss: 0.4413\n",
      "Epoch 10/10\n",
      "363/363 [==============================] - 0s 533us/step - loss: 0.4474 - val_loss: 0.4379\n",
      "162/162 [==============================] - 0s 369us/step - loss: 0.4382\n"
     ]
    }
   ],
   "source": [
    "model.compile(loss=\"mse\", optimizer=keras.optimizers.SGD(learning_rate=1e-3))\n",
    "history = model.fit(X_train, y_train, epochs=10, validation_data=(X_valid, y_valid))\n",
    "mse_test = model.evaluate(X_test, y_test)"
   ]
  },
  {
   "cell_type": "code",
   "execution_count": 71,
   "id": "5beca8db",
   "metadata": {},
   "outputs": [],
   "source": [
    "model.save(\"my_keras_model.h5\")"
   ]
  },
  {
   "cell_type": "code",
   "execution_count": 72,
   "id": "2ddd9679",
   "metadata": {},
   "outputs": [],
   "source": [
    "model = keras.models.load_model(\"my_keras_model.h5\") #加载训练好的模型"
   ]
  },
  {
   "cell_type": "code",
   "execution_count": 73,
   "id": "d0ba1fc0",
   "metadata": {},
   "outputs": [
    {
     "name": "stdout",
     "output_type": "stream",
     "text": [
      "WARNING:tensorflow:7 out of the last 8 calls to <function Model.make_predict_function.<locals>.predict_function at 0x000002C920252430> triggered tf.function retracing. Tracing is expensive and the excessive number of tracings could be due to (1) creating @tf.function repeatedly in a loop, (2) passing tensors with different shapes, (3) passing Python objects instead of tensors. For (1), please define your @tf.function outside of the loop. For (2), @tf.function has experimental_relax_shapes=True option that relaxes argument shapes that can avoid unnecessary retracing. For (3), please refer to https://www.tensorflow.org/tutorials/customization/performance#python_or_tensor_args and https://www.tensorflow.org/api_docs/python/tf/function for  more details.\n"
     ]
    },
    {
     "data": {
      "text/plain": [
       "array([[0.5400237],\n",
       "       [1.6505971],\n",
       "       [3.0098243]], dtype=float32)"
      ]
     },
     "execution_count": 73,
     "metadata": {},
     "output_type": "execute_result"
    }
   ],
   "source": [
    "model.predict(X_new)"
   ]
  },
  {
   "cell_type": "code",
   "execution_count": 74,
   "id": "5efd0a43",
   "metadata": {},
   "outputs": [],
   "source": [
    "model.save_weights(\"my_keras_weights.ckpt\") #若是子类化则不能直接保存模型，只能保留它的权重"
   ]
  },
  {
   "cell_type": "code",
   "execution_count": 75,
   "id": "6f96d565",
   "metadata": {},
   "outputs": [
    {
     "data": {
      "text/plain": [
       "<tensorflow.python.training.tracking.util.CheckpointLoadStatus at 0x2c92107baf0>"
      ]
     },
     "execution_count": 75,
     "metadata": {},
     "output_type": "execute_result"
    }
   ],
   "source": [
    "model.load_weights(\"my_keras_weights.ckpt\") #加载权重"
   ]
  },
  {
   "cell_type": "markdown",
   "id": "96848287",
   "metadata": {},
   "source": [
    "# 使用回调函数"
   ]
  },
  {
   "cell_type": "code",
   "execution_count": 76,
   "id": "d6243a7f",
   "metadata": {},
   "outputs": [],
   "source": [
    "keras.backend.clear_session()\n",
    "np.random.seed(42)\n",
    "tf.random.set_seed(42)"
   ]
  },
  {
   "cell_type": "code",
   "execution_count": 77,
   "id": "9652b03e",
   "metadata": {},
   "outputs": [],
   "source": [
    "model = keras.models.Sequential([\n",
    "    keras.layers.Dense(30, activation=\"relu\", input_shape=[8]),\n",
    "    keras.layers.Dense(30, activation=\"relu\"),\n",
    "    keras.layers.Dense(1)\n",
    "])    "
   ]
  },
  {
   "cell_type": "code",
   "execution_count": 78,
   "id": "94ff6314",
   "metadata": {},
   "outputs": [
    {
     "name": "stdout",
     "output_type": "stream",
     "text": [
      "Epoch 1/10\n",
      "  1/363 [..............................] - ETA: 0s - loss: 7.8215WARNING:tensorflow:Callbacks method `on_train_batch_end` is slow compared to the batch time (batch time: 0.0000s vs `on_train_batch_end` time: 0.0010s). Check your callbacks.\n",
      "363/363 [==============================] - 0s 745us/step - loss: 1.8866 - val_loss: 0.7126\n",
      "Epoch 2/10\n",
      "363/363 [==============================] - 0s 566us/step - loss: 0.6577 - val_loss: 0.6880\n",
      "Epoch 3/10\n",
      "363/363 [==============================] - 0s 575us/step - loss: 0.5934 - val_loss: 0.5803\n",
      "Epoch 4/10\n",
      "363/363 [==============================] - 0s 564us/step - loss: 0.5557 - val_loss: 0.5166\n",
      "Epoch 5/10\n",
      "363/363 [==============================] - 0s 556us/step - loss: 0.5272 - val_loss: 0.4895\n",
      "Epoch 6/10\n",
      "363/363 [==============================] - 0s 525us/step - loss: 0.5033 - val_loss: 0.4951\n",
      "Epoch 7/10\n",
      "363/363 [==============================] - 0s 555us/step - loss: 0.4854 - val_loss: 0.4861\n",
      "Epoch 8/10\n",
      "363/363 [==============================] - 0s 582us/step - loss: 0.4709 - val_loss: 0.4554\n",
      "Epoch 9/10\n",
      "363/363 [==============================] - 0s 547us/step - loss: 0.4578 - val_loss: 0.4413\n",
      "Epoch 10/10\n",
      "363/363 [==============================] - 0s 559us/step - loss: 0.4474 - val_loss: 0.4379\n",
      "162/162 [==============================] - 0s 351us/step - loss: 0.4382\n"
     ]
    }
   ],
   "source": [
    "#保存在验证集中正确率最高的模型\n",
    "model.compile(loss=\"mse\", optimizer=keras.optimizers.SGD(learning_rate=1e-3))\n",
    "checkpoint_cb = keras.callbacks.ModelCheckpoint(\"my_keras_model.h5\", save_best_only=True) #定期保存模型的检查点\n",
    "history = model.fit(X_train, y_train, epochs=10,\n",
    "                    validation_data=(X_valid, y_valid),\n",
    "                    callbacks=[checkpoint_cb])\n",
    "model = keras.models.load_model(\"my_keras_model.h5\") # rollback to best model返回最好的模型\n",
    "mse_test = model.evaluate(X_test, y_test)"
   ]
  },
  {
   "cell_type": "code",
   "execution_count": 79,
   "id": "d781c1e2",
   "metadata": {},
   "outputs": [
    {
     "name": "stdout",
     "output_type": "stream",
     "text": [
      "Epoch 1/100\n",
      "363/363 [==============================] - 0s 778us/step - loss: 0.4393 - val_loss: 0.4110\n",
      "Epoch 2/100\n",
      "363/363 [==============================] - 0s 528us/step - loss: 0.4315 - val_loss: 0.4266\n",
      "Epoch 3/100\n",
      "363/363 [==============================] - 0s 573us/step - loss: 0.4259 - val_loss: 0.3996\n",
      "Epoch 4/100\n",
      "363/363 [==============================] - 0s 564us/step - loss: 0.4201 - val_loss: 0.3939\n",
      "Epoch 5/100\n",
      "363/363 [==============================] - 0s 566us/step - loss: 0.4154 - val_loss: 0.3889\n",
      "Epoch 6/100\n",
      "363/363 [==============================] - 0s 560us/step - loss: 0.4111 - val_loss: 0.3866\n",
      "Epoch 7/100\n",
      "363/363 [==============================] - 0s 552us/step - loss: 0.4074 - val_loss: 0.3860\n",
      "Epoch 8/100\n",
      "363/363 [==============================] - 0s 555us/step - loss: 0.4040 - val_loss: 0.3793\n",
      "Epoch 9/100\n",
      "363/363 [==============================] - 0s 555us/step - loss: 0.4008 - val_loss: 0.3746\n",
      "Epoch 10/100\n",
      "363/363 [==============================] - 0s 558us/step - loss: 0.3976 - val_loss: 0.3723\n",
      "Epoch 11/100\n",
      "363/363 [==============================] - 0s 558us/step - loss: 0.3950 - val_loss: 0.3697\n",
      "Epoch 12/100\n",
      "363/363 [==============================] - 0s 557us/step - loss: 0.3923 - val_loss: 0.3669\n",
      "Epoch 13/100\n",
      "363/363 [==============================] - 0s 621us/step - loss: 0.3897 - val_loss: 0.3661\n",
      "Epoch 14/100\n",
      "363/363 [==============================] - 0s 558us/step - loss: 0.3874 - val_loss: 0.3631\n",
      "Epoch 15/100\n",
      "363/363 [==============================] - 0s 525us/step - loss: 0.3851 - val_loss: 0.3660\n",
      "Epoch 16/100\n",
      "363/363 [==============================] - 0s 565us/step - loss: 0.3829 - val_loss: 0.3625\n",
      "Epoch 17/100\n",
      "363/363 [==============================] - 0s 558us/step - loss: 0.3810 - val_loss: 0.3592\n",
      "Epoch 18/100\n",
      "363/363 [==============================] - 0s 566us/step - loss: 0.3788 - val_loss: 0.3563\n",
      "Epoch 19/100\n",
      "363/363 [==============================] - 0s 566us/step - loss: 0.3766 - val_loss: 0.3535\n",
      "Epoch 20/100\n",
      "363/363 [==============================] - 0s 541us/step - loss: 0.3750 - val_loss: 0.3709\n",
      "Epoch 21/100\n",
      "363/363 [==============================] - 0s 572us/step - loss: 0.3732 - val_loss: 0.3512\n",
      "Epoch 22/100\n",
      "363/363 [==============================] - 0s 532us/step - loss: 0.3715 - val_loss: 0.3699\n",
      "Epoch 23/100\n",
      "363/363 [==============================] - 0s 567us/step - loss: 0.3700 - val_loss: 0.3476\n",
      "Epoch 24/100\n",
      "363/363 [==============================] - 0s 535us/step - loss: 0.3685 - val_loss: 0.3561\n",
      "Epoch 25/100\n",
      "363/363 [==============================] - 0s 528us/step - loss: 0.3671 - val_loss: 0.3527\n",
      "Epoch 26/100\n",
      "363/363 [==============================] - 0s 516us/step - loss: 0.3658 - val_loss: 0.3700\n",
      "Epoch 27/100\n",
      "363/363 [==============================] - 0s 574us/step - loss: 0.3647 - val_loss: 0.3432\n",
      "Epoch 28/100\n",
      "363/363 [==============================] - 0s 536us/step - loss: 0.3635 - val_loss: 0.3592\n",
      "Epoch 29/100\n",
      "363/363 [==============================] - 0s 542us/step - loss: 0.3625 - val_loss: 0.3521\n",
      "Epoch 30/100\n",
      "363/363 [==============================] - 0s 524us/step - loss: 0.3613 - val_loss: 0.3626\n",
      "Epoch 31/100\n",
      "363/363 [==============================] - 0s 558us/step - loss: 0.3601 - val_loss: 0.3431\n",
      "Epoch 32/100\n",
      "363/363 [==============================] - 0s 538us/step - loss: 0.3589 - val_loss: 0.3765\n",
      "Epoch 33/100\n",
      "363/363 [==============================] - 0s 573us/step - loss: 0.3584 - val_loss: 0.3374\n",
      "Epoch 34/100\n",
      "363/363 [==============================] - 0s 528us/step - loss: 0.3572 - val_loss: 0.3407\n",
      "Epoch 35/100\n",
      "363/363 [==============================] - 0s 518us/step - loss: 0.3563 - val_loss: 0.3614\n",
      "Epoch 36/100\n",
      "363/363 [==============================] - 0s 569us/step - loss: 0.3555 - val_loss: 0.3348\n",
      "Epoch 37/100\n",
      "363/363 [==============================] - 0s 517us/step - loss: 0.3546 - val_loss: 0.3573\n",
      "Epoch 38/100\n",
      "363/363 [==============================] - 0s 532us/step - loss: 0.3538 - val_loss: 0.3367\n",
      "Epoch 39/100\n",
      "363/363 [==============================] - 0s 528us/step - loss: 0.3530 - val_loss: 0.3425\n",
      "Epoch 40/100\n",
      "363/363 [==============================] - 0s 527us/step - loss: 0.3523 - val_loss: 0.3369\n",
      "Epoch 41/100\n",
      "363/363 [==============================] - 0s 529us/step - loss: 0.3515 - val_loss: 0.3515\n",
      "Epoch 42/100\n",
      "363/363 [==============================] - 0s 536us/step - loss: 0.3511 - val_loss: 0.3426\n",
      "Epoch 43/100\n",
      "363/363 [==============================] - 0s 569us/step - loss: 0.3500 - val_loss: 0.3677\n",
      "Epoch 44/100\n",
      "363/363 [==============================] - 0s 530us/step - loss: 0.3496 - val_loss: 0.3564\n",
      "Epoch 45/100\n",
      "363/363 [==============================] - 0s 562us/step - loss: 0.3490 - val_loss: 0.3336\n",
      "Epoch 46/100\n",
      "363/363 [==============================] - 0s 541us/step - loss: 0.3481 - val_loss: 0.3457\n",
      "Epoch 47/100\n",
      "363/363 [==============================] - 0s 532us/step - loss: 0.3478 - val_loss: 0.3433\n",
      "Epoch 48/100\n",
      "363/363 [==============================] - 0s 524us/step - loss: 0.3471 - val_loss: 0.3659\n",
      "Epoch 49/100\n",
      "363/363 [==============================] - 0s 560us/step - loss: 0.3466 - val_loss: 0.3286\n",
      "Epoch 50/100\n",
      "363/363 [==============================] - 0s 551us/step - loss: 0.3460 - val_loss: 0.3268\n",
      "Epoch 51/100\n",
      "363/363 [==============================] - 0s 530us/step - loss: 0.3454 - val_loss: 0.3439\n",
      "Epoch 52/100\n",
      "363/363 [==============================] - 0s 556us/step - loss: 0.3449 - val_loss: 0.3263\n",
      "Epoch 53/100\n",
      "363/363 [==============================] - 0s 535us/step - loss: 0.3444 - val_loss: 0.3910\n",
      "Epoch 54/100\n",
      "363/363 [==============================] - 0s 558us/step - loss: 0.3439 - val_loss: 0.3275\n",
      "Epoch 55/100\n",
      "363/363 [==============================] - 0s 524us/step - loss: 0.3435 - val_loss: 0.3561\n",
      "Epoch 56/100\n",
      "363/363 [==============================] - 0s 571us/step - loss: 0.3430 - val_loss: 0.3237\n",
      "Epoch 57/100\n",
      "363/363 [==============================] - 0s 530us/step - loss: 0.3423 - val_loss: 0.3242\n",
      "Epoch 58/100\n",
      "363/363 [==============================] - 0s 556us/step - loss: 0.3419 - val_loss: 0.3765\n",
      "Epoch 59/100\n",
      "363/363 [==============================] - 0s 522us/step - loss: 0.3417 - val_loss: 0.3289\n",
      "Epoch 60/100\n",
      "363/363 [==============================] - 0s 521us/step - loss: 0.3410 - val_loss: 0.3502\n",
      "Epoch 61/100\n",
      "363/363 [==============================] - 0s 528us/step - loss: 0.3404 - val_loss: 0.3456\n",
      "Epoch 62/100\n",
      "363/363 [==============================] - 0s 524us/step - loss: 0.3402 - val_loss: 0.3445\n",
      "Epoch 63/100\n",
      "363/363 [==============================] - 0s 529us/step - loss: 0.3392 - val_loss: 0.3290\n",
      "Epoch 64/100\n",
      "363/363 [==============================] - 0s 556us/step - loss: 0.3393 - val_loss: 0.3217\n",
      "Epoch 65/100\n",
      "363/363 [==============================] - 0s 529us/step - loss: 0.3387 - val_loss: 0.3351\n",
      "Epoch 66/100\n",
      "363/363 [==============================] - 0s 516us/step - loss: 0.3383 - val_loss: 0.3232\n",
      "Epoch 67/100\n",
      "363/363 [==============================] - 0s 524us/step - loss: 0.3376 - val_loss: 0.3566\n",
      "Epoch 68/100\n",
      "363/363 [==============================] - 0s 524us/step - loss: 0.3374 - val_loss: 0.3257\n",
      "Epoch 69/100\n",
      "363/363 [==============================] - 0s 529us/step - loss: 0.3370 - val_loss: 0.3348\n",
      "Epoch 70/100\n",
      "363/363 [==============================] - 0s 554us/step - loss: 0.3365 - val_loss: 0.3560\n",
      "Epoch 71/100\n",
      "363/363 [==============================] - 0s 525us/step - loss: 0.3361 - val_loss: 0.3583\n",
      "Epoch 72/100\n",
      "363/363 [==============================] - 0s 538us/step - loss: 0.3357 - val_loss: 0.3287\n",
      "Epoch 73/100\n",
      "363/363 [==============================] - 0s 591us/step - loss: 0.3351 - val_loss: 0.3203\n",
      "Epoch 74/100\n",
      "363/363 [==============================] - 0s 522us/step - loss: 0.3350 - val_loss: 0.3840\n",
      "Epoch 75/100\n",
      "363/363 [==============================] - 0s 559us/step - loss: 0.3347 - val_loss: 0.3233\n",
      "Epoch 76/100\n",
      "363/363 [==============================] - 0s 514us/step - loss: 0.3342 - val_loss: 0.3476\n",
      "Epoch 77/100\n",
      "363/363 [==============================] - 0s 536us/step - loss: 0.3338 - val_loss: 0.3407\n",
      "Epoch 78/100\n",
      "363/363 [==============================] - 0s 536us/step - loss: 0.3335 - val_loss: 0.3462\n",
      "Epoch 79/100\n",
      "363/363 [==============================] - 0s 527us/step - loss: 0.3332 - val_loss: 0.3347\n"
     ]
    },
    {
     "name": "stdout",
     "output_type": "stream",
     "text": [
      "Epoch 80/100\n",
      "363/363 [==============================] - 0s 533us/step - loss: 0.3329 - val_loss: 0.3354\n",
      "Epoch 81/100\n",
      "363/363 [==============================] - 0s 525us/step - loss: 0.3324 - val_loss: 0.3274\n",
      "Epoch 82/100\n",
      "363/363 [==============================] - 0s 565us/step - loss: 0.3320 - val_loss: 0.3167\n",
      "Epoch 83/100\n",
      "363/363 [==============================] - 0s 525us/step - loss: 0.3317 - val_loss: 0.3280\n",
      "Epoch 84/100\n",
      "363/363 [==============================] - 0s 524us/step - loss: 0.3312 - val_loss: 0.3634\n",
      "Epoch 85/100\n",
      "363/363 [==============================] - 0s 536us/step - loss: 0.3310 - val_loss: 0.3176\n",
      "Epoch 86/100\n",
      "363/363 [==============================] - 0s 564us/step - loss: 0.3308 - val_loss: 0.3156\n",
      "Epoch 87/100\n",
      "363/363 [==============================] - 0s 525us/step - loss: 0.3305 - val_loss: 0.3529\n",
      "Epoch 88/100\n",
      "363/363 [==============================] - 0s 550us/step - loss: 0.3299 - val_loss: 0.3258\n",
      "Epoch 89/100\n",
      "363/363 [==============================] - 0s 578us/step - loss: 0.3294 - val_loss: 0.3630\n",
      "Epoch 90/100\n",
      "363/363 [==============================] - 0s 522us/step - loss: 0.3296 - val_loss: 0.3376\n",
      "Epoch 91/100\n",
      "363/363 [==============================] - 0s 538us/step - loss: 0.3291 - val_loss: 0.3211\n",
      "Epoch 92/100\n",
      "363/363 [==============================] - 0s 531us/step - loss: 0.3287 - val_loss: 0.3456\n",
      "Epoch 93/100\n",
      "363/363 [==============================] - 0s 528us/step - loss: 0.3285 - val_loss: 0.3158\n",
      "Epoch 94/100\n",
      "363/363 [==============================] - 0s 514us/step - loss: 0.3281 - val_loss: 0.3409\n",
      "Epoch 95/100\n",
      "363/363 [==============================] - 0s 557us/step - loss: 0.3276 - val_loss: 0.3379\n",
      "Epoch 96/100\n",
      "363/363 [==============================] - 0s 563us/step - loss: 0.3273 - val_loss: 0.3213\n",
      "162/162 [==============================] - 0s 376us/step - loss: 0.3310\n"
     ]
    }
   ],
   "source": [
    "#实现提前停止的另一种方法，保存在验证集中正确率最高的模型并在后面十个轮次在验证集上没有任何进展，就中断训练\n",
    "model.compile(loss=\"mse\", optimizer=keras.optimizers.SGD(learning_rate=1e-3))\n",
    "early_stopping_cb = keras.callbacks.EarlyStopping(patience=10,\n",
    "                                                  restore_best_weights=True)\n",
    "history = model.fit(X_train, y_train, epochs=100,\n",
    "                    validation_data=(X_valid, y_valid),\n",
    "                    callbacks=[checkpoint_cb, early_stopping_cb])\n",
    "mse_test = model.evaluate(X_test, y_test)"
   ]
  },
  {
   "cell_type": "code",
   "execution_count": 80,
   "id": "217dea0d",
   "metadata": {},
   "outputs": [],
   "source": [
    "#自定义回调，显示训练过程中验证损失与训练损失之间的比率检测过拟合\n",
    "class PrintValTrainRatioCallback(keras.callbacks.Callback):\n",
    "    def on_epoch_end(self, epoch, logs):\n",
    "        print(\"\\nval/train: {:.2f}\".format(logs[\"val_loss\"] / logs[\"loss\"]))"
   ]
  },
  {
   "cell_type": "code",
   "execution_count": 81,
   "id": "631872d0",
   "metadata": {},
   "outputs": [
    {
     "name": "stdout",
     "output_type": "stream",
     "text": [
      "Epoch 1/2\n",
      "344/363 [===========================>..] - ETA: 0s - loss: 0.3279\n",
      "val/train: 1.08\n",
      "363/363 [==============================] - 0s 643us/step - loss: 0.3302 - val_loss: 0.3556\n",
      "Epoch 2/2\n",
      "243/363 [===================>..........] - ETA: 0s - loss: 0.3294\n",
      "val/train: 1.00\n",
      "363/363 [==============================] - 0s 540us/step - loss: 0.3301 - val_loss: 0.3304\n"
     ]
    }
   ],
   "source": [
    "val_train_ratio_cb = PrintValTrainRatioCallback()\n",
    "history = model.fit(X_train, y_train, epochs=2,\n",
    "                    validation_data=(X_valid, y_valid),\n",
    "                    callbacks=[val_train_ratio_cb])"
   ]
  },
  {
   "cell_type": "markdown",
   "id": "e01dac5c",
   "metadata": {},
   "source": [
    "# 使用TensorBoard进行可视化"
   ]
  },
  {
   "cell_type": "code",
   "execution_count": 82,
   "id": "82d3e4af",
   "metadata": {},
   "outputs": [],
   "source": [
    "root_logdir = os.path.join(os.curdir, \"my_logs\") #设置根日志目录，curdir获取当前执行python文件的文件夹"
   ]
  },
  {
   "cell_type": "code",
   "execution_count": 83,
   "id": "244fb107",
   "metadata": {},
   "outputs": [
    {
     "data": {
      "text/plain": [
       "'.'"
      ]
     },
     "execution_count": 83,
     "metadata": {},
     "output_type": "execute_result"
    }
   ],
   "source": [
    "os.curdir"
   ]
  },
  {
   "cell_type": "code",
   "execution_count": 84,
   "id": "0a430855",
   "metadata": {},
   "outputs": [
    {
     "data": {
      "text/plain": [
       "'.\\\\my_logs\\\\run_2022_04_08-03_58_19'"
      ]
     },
     "execution_count": 84,
     "metadata": {},
     "output_type": "execute_result"
    }
   ],
   "source": [
    "def get_run_logdir():\n",
    "    import time\n",
    "    run_id = time.strftime(\"run_%Y_%m_%d-%H_%M_%S\") #返回以可读字符串表示的当地时间\n",
    "    return os.path.join(root_logdir, run_id)\n",
    "\n",
    "run_logdir = get_run_logdir()\n",
    "run_logdir"
   ]
  },
  {
   "cell_type": "code",
   "execution_count": 85,
   "id": "23475c00",
   "metadata": {},
   "outputs": [],
   "source": [
    "keras.backend.clear_session()\n",
    "np.random.seed(42)\n",
    "tf.random.set_seed(42)"
   ]
  },
  {
   "cell_type": "code",
   "execution_count": 86,
   "id": "80a1ae5d",
   "metadata": {},
   "outputs": [],
   "source": [
    "model = keras.models.Sequential([\n",
    "    keras.layers.Dense(30, activation=\"relu\", input_shape=[8]),\n",
    "    keras.layers.Dense(30, activation=\"relu\"),\n",
    "    keras.layers.Dense(1)\n",
    "])    \n",
    "model.compile(loss=\"mse\", optimizer=keras.optimizers.SGD(learning_rate=1e-3))"
   ]
  },
  {
   "cell_type": "code",
   "execution_count": 87,
   "id": "3be3fcf0",
   "metadata": {},
   "outputs": [
    {
     "name": "stdout",
     "output_type": "stream",
     "text": [
      "Epoch 1/30\n",
      "  1/363 [..............................] - ETA: 0s - loss: 7.8215WARNING:tensorflow:From D:\\software\\Anaconda3\\envs\\tensorflow-envs\\lib\\site-packages\\tensorflow\\python\\ops\\summary_ops_v2.py:1277: stop (from tensorflow.python.eager.profiler) is deprecated and will be removed after 2020-07-01.\n",
      "Instructions for updating:\n",
      "use `tf.profiler.experimental.stop` instead.\n",
      "WARNING:tensorflow:Callbacks method `on_train_batch_end` is slow compared to the batch time (batch time: 0.0010s vs `on_train_batch_end` time: 0.0189s). Check your callbacks.\n",
      "363/363 [==============================] - 0s 844us/step - loss: 1.8866 - val_loss: 0.7126\n",
      "Epoch 2/30\n",
      "363/363 [==============================] - 0s 560us/step - loss: 0.6577 - val_loss: 0.6880\n",
      "Epoch 3/30\n",
      "363/363 [==============================] - 0s 545us/step - loss: 0.5934 - val_loss: 0.5803\n",
      "Epoch 4/30\n",
      "363/363 [==============================] - 0s 557us/step - loss: 0.5557 - val_loss: 0.5166\n",
      "Epoch 5/30\n",
      "363/363 [==============================] - 0s 535us/step - loss: 0.5272 - val_loss: 0.4895\n",
      "Epoch 6/30\n",
      "363/363 [==============================] - 0s 555us/step - loss: 0.5033 - val_loss: 0.4951\n",
      "Epoch 7/30\n",
      "363/363 [==============================] - 0s 535us/step - loss: 0.4854 - val_loss: 0.4861\n",
      "Epoch 8/30\n",
      "363/363 [==============================] - 0s 527us/step - loss: 0.4709 - val_loss: 0.4554\n",
      "Epoch 9/30\n",
      "363/363 [==============================] - 0s 533us/step - loss: 0.4578 - val_loss: 0.4413\n",
      "Epoch 10/30\n",
      "363/363 [==============================] - 0s 533us/step - loss: 0.4474 - val_loss: 0.4379\n",
      "Epoch 11/30\n",
      "363/363 [==============================] - 0s 537us/step - loss: 0.4393 - val_loss: 0.4396\n",
      "Epoch 12/30\n",
      "363/363 [==============================] - 0s 533us/step - loss: 0.4318 - val_loss: 0.4507\n",
      "Epoch 13/30\n",
      "363/363 [==============================] - 0s 570us/step - loss: 0.4261 - val_loss: 0.3997\n",
      "Epoch 14/30\n",
      "363/363 [==============================] - 0s 552us/step - loss: 0.4202 - val_loss: 0.3956\n",
      "Epoch 15/30\n",
      "363/363 [==============================] - 0s 551us/step - loss: 0.4155 - val_loss: 0.3916\n",
      "Epoch 16/30\n",
      "363/363 [==============================] - 0s 574us/step - loss: 0.4112 - val_loss: 0.3937\n",
      "Epoch 17/30\n",
      "363/363 [==============================] - 0s 592us/step - loss: 0.4077 - val_loss: 0.3809\n",
      "Epoch 18/30\n",
      "363/363 [==============================] - 0s 555us/step - loss: 0.4040 - val_loss: 0.3793\n",
      "Epoch 19/30\n",
      "363/363 [==============================] - 0s 554us/step - loss: 0.4004 - val_loss: 0.3850\n",
      "Epoch 20/30\n",
      "363/363 [==============================] - 0s 549us/step - loss: 0.3980 - val_loss: 0.3809\n",
      "Epoch 21/30\n",
      "363/363 [==============================] - 0s 547us/step - loss: 0.3949 - val_loss: 0.3701\n",
      "Epoch 22/30\n",
      "363/363 [==============================] - 0s 556us/step - loss: 0.3924 - val_loss: 0.3781\n",
      "Epoch 23/30\n",
      "363/363 [==============================] - 0s 562us/step - loss: 0.3898 - val_loss: 0.3650\n",
      "Epoch 24/30\n",
      "363/363 [==============================] - 0s 534us/step - loss: 0.3874 - val_loss: 0.3655\n",
      "Epoch 25/30\n",
      "363/363 [==============================] - 0s 543us/step - loss: 0.3851 - val_loss: 0.3611\n",
      "Epoch 26/30\n",
      "363/363 [==============================] - 0s 564us/step - loss: 0.3829 - val_loss: 0.3626\n",
      "Epoch 27/30\n",
      "363/363 [==============================] - 0s 555us/step - loss: 0.3809 - val_loss: 0.3564\n",
      "Epoch 28/30\n",
      "363/363 [==============================] - 0s 539us/step - loss: 0.3788 - val_loss: 0.3579\n",
      "Epoch 29/30\n",
      "363/363 [==============================] - 0s 560us/step - loss: 0.3769 - val_loss: 0.3561\n",
      "Epoch 30/30\n",
      "363/363 [==============================] - 0s 555us/step - loss: 0.3750 - val_loss: 0.3548\n"
     ]
    }
   ],
   "source": [
    "tensorboard_cb = keras.callbacks.TensorBoard(run_logdir)\n",
    "history = model.fit(X_train, y_train, epochs=30,\n",
    "                    validation_data=(X_valid, y_valid),\n",
    "                    callbacks=[checkpoint_cb, tensorboard_cb])"
   ]
  },
  {
   "cell_type": "markdown",
   "id": "a8d89035",
   "metadata": {},
   "source": [
    "要启动TensorBoard服务器，可以加载TensorBoard的jupyter扩展，然后像这样运行它:"
   ]
  },
  {
   "cell_type": "code",
   "execution_count": 144,
   "id": "5146af49",
   "metadata": {
    "scrolled": true
   },
   "outputs": [
    {
     "name": "stdout",
     "output_type": "stream",
     "text": [
      "The tensorboard extension is already loaded. To reload it, use:\n",
      "  %reload_ext tensorboard\n"
     ]
    },
    {
     "data": {
      "text/plain": [
       "Reusing TensorBoard on port 6006 (pid 18748), started 3:22:56 ago. (Use '!kill 18748' to kill it.)"
      ]
     },
     "metadata": {},
     "output_type": "display_data"
    },
    {
     "data": {
      "text/html": [
       "\n",
       "      <iframe id=\"tensorboard-frame-5e715ea242d08c0a\" width=\"100%\" height=\"800\" frameborder=\"0\">\n",
       "      </iframe>\n",
       "      <script>\n",
       "        (function() {\n",
       "          const frame = document.getElementById(\"tensorboard-frame-5e715ea242d08c0a\");\n",
       "          const url = new URL(\"/\", window.location);\n",
       "          const port = 6006;\n",
       "          if (port) {\n",
       "            url.port = port;\n",
       "          }\n",
       "          frame.src = url;\n",
       "        })();\n",
       "      </script>\n",
       "    "
      ],
      "text/plain": [
       "<IPython.core.display.HTML object>"
      ]
     },
     "metadata": {},
     "output_type": "display_data"
    }
   ],
   "source": [
    "%load_ext tensorboard\n",
    "%tensorboard --logdir=./my_logs --port=6006"
   ]
  },
  {
   "cell_type": "code",
   "execution_count": 89,
   "id": "98f708ae",
   "metadata": {},
   "outputs": [
    {
     "data": {
      "text/plain": [
       "'.\\\\my_logs\\\\run_2022_04_08-03_58_25'"
      ]
     },
     "execution_count": 89,
     "metadata": {},
     "output_type": "execute_result"
    }
   ],
   "source": [
    "run_logdir2 = get_run_logdir()\n",
    "run_logdir2"
   ]
  },
  {
   "cell_type": "code",
   "execution_count": 90,
   "id": "36a780b6",
   "metadata": {},
   "outputs": [],
   "source": [
    "keras.backend.clear_session()\n",
    "np.random.seed(42)\n",
    "tf.random.set_seed(42)"
   ]
  },
  {
   "cell_type": "code",
   "execution_count": 91,
   "id": "ff0a4b23",
   "metadata": {},
   "outputs": [],
   "source": [
    "model = keras.models.Sequential([\n",
    "    keras.layers.Dense(30, activation=\"relu\", input_shape=[8]),\n",
    "    keras.layers.Dense(30, activation=\"relu\"),\n",
    "    keras.layers.Dense(1)\n",
    "])    \n",
    "model.compile(loss=\"mse\", optimizer=keras.optimizers.SGD(learning_rate=0.05))"
   ]
  },
  {
   "cell_type": "code",
   "execution_count": 92,
   "id": "7e7e2002",
   "metadata": {},
   "outputs": [
    {
     "name": "stdout",
     "output_type": "stream",
     "text": [
      "Epoch 1/30\n",
      "  2/363 [..............................] - ETA: 39s - loss: 5.0901WARNING:tensorflow:Callbacks method `on_train_batch_end` is slow compared to the batch time (batch time: 0.0010s vs `on_train_batch_end` time: 0.2188s). Check your callbacks.\n",
      "363/363 [==============================] - 1s 2ms/step - loss: 0.5530 - val_loss: 302.8536\n",
      "Epoch 2/30\n",
      "363/363 [==============================] - 0s 595us/step - loss: 5292745216.0000 - val_loss: 1.3230\n",
      "Epoch 3/30\n",
      "363/363 [==============================] - 0s 571us/step - loss: 1.3411 - val_loss: 1.3176\n",
      "Epoch 4/30\n",
      "363/363 [==============================] - 0s 539us/step - loss: 1.3423 - val_loss: 1.3261\n",
      "Epoch 5/30\n",
      "363/363 [==============================] - 0s 541us/step - loss: 1.3423 - val_loss: 1.3154\n",
      "Epoch 6/30\n",
      "363/363 [==============================] - 0s 532us/step - loss: 1.3431 - val_loss: 1.3203\n",
      "Epoch 7/30\n",
      "363/363 [==============================] - 0s 588us/step - loss: 1.3425 - val_loss: 1.3149\n",
      "Epoch 8/30\n",
      "363/363 [==============================] - 0s 532us/step - loss: 1.3433 - val_loss: 1.3157\n",
      "Epoch 9/30\n",
      "363/363 [==============================] - 0s 529us/step - loss: 1.3435 - val_loss: 1.3150\n",
      "Epoch 10/30\n",
      "363/363 [==============================] - 0s 543us/step - loss: 1.3423 - val_loss: 1.3172\n",
      "Epoch 11/30\n",
      "363/363 [==============================] - 0s 547us/step - loss: 1.3432 - val_loss: 1.3174\n",
      "Epoch 12/30\n",
      "363/363 [==============================] - 0s 558us/step - loss: 1.3426 - val_loss: 1.3150\n",
      "Epoch 13/30\n",
      "363/363 [==============================] - 0s 588us/step - loss: 1.3422 - val_loss: 1.3270\n",
      "Epoch 14/30\n",
      "363/363 [==============================] - 0s 541us/step - loss: 1.3430 - val_loss: 1.3195\n",
      "Epoch 15/30\n",
      "363/363 [==============================] - 0s 544us/step - loss: 1.3426 - val_loss: 1.3157\n",
      "Epoch 16/30\n",
      "363/363 [==============================] - 0s 537us/step - loss: 1.3422 - val_loss: 1.3182\n",
      "Epoch 17/30\n",
      "363/363 [==============================] - 0s 611us/step - loss: 1.3429 - val_loss: 1.3223\n",
      "Epoch 18/30\n",
      "363/363 [==============================] - 0s 531us/step - loss: 1.3422 - val_loss: 1.3154\n",
      "Epoch 19/30\n",
      "363/363 [==============================] - 0s 536us/step - loss: 1.3421 - val_loss: 1.3168\n",
      "Epoch 20/30\n",
      "363/363 [==============================] - 0s 531us/step - loss: 1.3430 - val_loss: 1.3151\n",
      "Epoch 21/30\n",
      "363/363 [==============================] - 0s 543us/step - loss: 1.3418 - val_loss: 1.3174\n",
      "Epoch 22/30\n",
      "363/363 [==============================] - 0s 531us/step - loss: 1.3424 - val_loss: 1.3204\n",
      "Epoch 23/30\n",
      "363/363 [==============================] - 0s 540us/step - loss: 1.3420 - val_loss: 1.3164\n",
      "Epoch 24/30\n",
      "363/363 [==============================] - 0s 552us/step - loss: 1.3429 - val_loss: 1.3157\n",
      "Epoch 25/30\n",
      "363/363 [==============================] - 0s 532us/step - loss: 1.3422 - val_loss: 1.3180\n",
      "Epoch 26/30\n",
      "363/363 [==============================] - 0s 558us/step - loss: 1.3425 - val_loss: 1.3195\n",
      "Epoch 27/30\n",
      "363/363 [==============================] - 0s 583us/step - loss: 1.3422 - val_loss: 1.3157\n",
      "Epoch 28/30\n",
      "363/363 [==============================] - 0s 541us/step - loss: 1.3425 - val_loss: 1.3222\n",
      "Epoch 29/30\n",
      "363/363 [==============================] - 0s 544us/step - loss: 1.3431 - val_loss: 1.3267\n",
      "Epoch 30/30\n",
      "363/363 [==============================] - 0s 532us/step - loss: 1.3424 - val_loss: 1.3174\n"
     ]
    }
   ],
   "source": [
    "tensorboard_cb = keras.callbacks.TensorBoard(run_logdir2)\n",
    "history = model.fit(X_train, y_train, epochs=30,\n",
    "                    validation_data=(X_valid, y_valid),\n",
    "                    callbacks=[checkpoint_cb, tensorboard_cb])"
   ]
  },
  {
   "cell_type": "markdown",
   "id": "16a5bf58",
   "metadata": {},
   "source": [
    "# 微调神经网络超参数"
   ]
  },
  {
   "cell_type": "code",
   "execution_count": 93,
   "id": "4762d162",
   "metadata": {},
   "outputs": [],
   "source": [
    "keras.backend.clear_session()\n",
    "np.random.seed(42)\n",
    "tf.random.set_seed(42)"
   ]
  },
  {
   "cell_type": "markdown",
   "id": "ec36cd23",
   "metadata": {},
   "source": [
    "将Keras模型包装在模仿常规Scikit-Learn回归器的对象中"
   ]
  },
  {
   "cell_type": "code",
   "execution_count": 94,
   "id": "da8f3d37",
   "metadata": {},
   "outputs": [],
   "source": [
    "#创建一个函数，将在给一组超参数的情况下构建并编译Keras模型\n",
    "def build_model(n_hidden=1, n_neurons=30, learning_rate=3e-3, input_shape=[8]):\n",
    "    model = keras.models.Sequential()\n",
    "    model.add(keras.layers.InputLayer(input_shape=input_shape))\n",
    "    for layer in range(n_hidden):\n",
    "        model.add(keras.layers.Dense(n_neurons, activation=\"relu\"))\n",
    "    model.add(keras.layers.Dense(1))\n",
    "    optimizer = keras.optimizers.SGD(learning_rate=learning_rate)\n",
    "    model.compile(loss=\"mse\", optimizer=optimizer)\n",
    "    return model"
   ]
  },
  {
   "cell_type": "code",
   "execution_count": 95,
   "id": "74eb8a73",
   "metadata": {},
   "outputs": [],
   "source": [
    "#基于build_model()函数创建一个KerasRegressor，KerasRegressor对象是使用build_mode()构建的Keras模型的一个包装\n",
    "keras_reg = keras.wrappers.scikit_learn.KerasRegressor(build_model)"
   ]
  },
  {
   "cell_type": "code",
   "execution_count": 96,
   "id": "f71e92e9",
   "metadata": {},
   "outputs": [
    {
     "name": "stdout",
     "output_type": "stream",
     "text": [
      "Epoch 1/100\n",
      "363/363 [==============================] - 0s 703us/step - loss: 1.0896 - val_loss: 20.7721\n",
      "Epoch 2/100\n",
      "363/363 [==============================] - 0s 495us/step - loss: 0.7606 - val_loss: 5.0266\n",
      "Epoch 3/100\n",
      "363/363 [==============================] - 0s 505us/step - loss: 0.5456 - val_loss: 0.5490\n",
      "Epoch 4/100\n",
      "363/363 [==============================] - 0s 511us/step - loss: 0.4732 - val_loss: 0.4529\n",
      "Epoch 5/100\n",
      "363/363 [==============================] - 0s 509us/step - loss: 0.4503 - val_loss: 0.4188\n",
      "Epoch 6/100\n",
      "363/363 [==============================] - 0s 501us/step - loss: 0.4338 - val_loss: 0.4129\n",
      "Epoch 7/100\n",
      "363/363 [==============================] - 0s 499us/step - loss: 0.4241 - val_loss: 0.4004\n",
      "Epoch 8/100\n",
      "363/363 [==============================] - 0s 503us/step - loss: 0.4168 - val_loss: 0.3944\n",
      "Epoch 9/100\n",
      "363/363 [==============================] - 0s 499us/step - loss: 0.4108 - val_loss: 0.3961\n",
      "Epoch 10/100\n",
      "363/363 [==============================] - 0s 502us/step - loss: 0.4060 - val_loss: 0.4071\n",
      "Epoch 11/100\n",
      "363/363 [==============================] - 0s 536us/step - loss: 0.4021 - val_loss: 0.3855\n",
      "Epoch 12/100\n",
      "363/363 [==============================] - 0s 489us/step - loss: 0.3984 - val_loss: 0.4136\n",
      "Epoch 13/100\n",
      "363/363 [==============================] - 0s 499us/step - loss: 0.3951 - val_loss: 0.3997\n",
      "Epoch 14/100\n",
      "363/363 [==============================] - 0s 495us/step - loss: 0.3921 - val_loss: 0.3818\n",
      "Epoch 15/100\n",
      "363/363 [==============================] - 0s 513us/step - loss: 0.3894 - val_loss: 0.3829\n",
      "Epoch 16/100\n",
      "363/363 [==============================] - 0s 502us/step - loss: 0.3869 - val_loss: 0.3739\n",
      "Epoch 17/100\n",
      "363/363 [==============================] - 0s 510us/step - loss: 0.3848 - val_loss: 0.4022\n",
      "Epoch 18/100\n",
      "363/363 [==============================] - 0s 497us/step - loss: 0.3829 - val_loss: 0.3873\n",
      "Epoch 19/100\n",
      "363/363 [==============================] - 0s 503us/step - loss: 0.3807 - val_loss: 0.3768\n",
      "Epoch 20/100\n",
      "363/363 [==============================] - 0s 492us/step - loss: 0.3791 - val_loss: 0.4191\n",
      "Epoch 21/100\n",
      "363/363 [==============================] - 0s 502us/step - loss: 0.3774 - val_loss: 0.3927\n",
      "Epoch 22/100\n",
      "363/363 [==============================] - 0s 500us/step - loss: 0.3756 - val_loss: 0.4237\n",
      "Epoch 23/100\n",
      "363/363 [==============================] - 0s 492us/step - loss: 0.3742 - val_loss: 0.3523\n",
      "Epoch 24/100\n",
      "363/363 [==============================] - 0s 496us/step - loss: 0.3725 - val_loss: 0.3842\n",
      "Epoch 25/100\n",
      "363/363 [==============================] - 0s 493us/step - loss: 0.3710 - val_loss: 0.4162\n",
      "Epoch 26/100\n",
      "363/363 [==============================] - 0s 506us/step - loss: 0.3700 - val_loss: 0.3980\n",
      "Epoch 27/100\n",
      "363/363 [==============================] - 0s 530us/step - loss: 0.3691 - val_loss: 0.3474\n",
      "Epoch 28/100\n",
      "363/363 [==============================] - 0s 503us/step - loss: 0.3677 - val_loss: 0.3920\n",
      "Epoch 29/100\n",
      "363/363 [==============================] - 0s 495us/step - loss: 0.3670 - val_loss: 0.3566\n",
      "Epoch 30/100\n",
      "363/363 [==============================] - 0s 509us/step - loss: 0.3653 - val_loss: 0.4191\n",
      "Epoch 31/100\n",
      "363/363 [==============================] - 0s 495us/step - loss: 0.3647 - val_loss: 0.3721\n",
      "Epoch 32/100\n",
      "363/363 [==============================] - 0s 501us/step - loss: 0.3633 - val_loss: 0.3948\n",
      "Epoch 33/100\n",
      "363/363 [==============================] - 0s 502us/step - loss: 0.3632 - val_loss: 0.3423\n",
      "Epoch 34/100\n",
      "363/363 [==============================] - 0s 503us/step - loss: 0.3617 - val_loss: 0.3453\n",
      "Epoch 35/100\n",
      "363/363 [==============================] - 0s 495us/step - loss: 0.3610 - val_loss: 0.4068\n",
      "Epoch 36/100\n",
      "363/363 [==============================] - 0s 490us/step - loss: 0.3608 - val_loss: 0.3417\n",
      "Epoch 37/100\n",
      "363/363 [==============================] - 0s 506us/step - loss: 0.3596 - val_loss: 0.3787\n",
      "Epoch 38/100\n",
      "363/363 [==============================] - 0s 522us/step - loss: 0.3589 - val_loss: 0.3379\n",
      "Epoch 39/100\n",
      "363/363 [==============================] - 0s 506us/step - loss: 0.3582 - val_loss: 0.3419\n",
      "Epoch 40/100\n",
      "363/363 [==============================] - 0s 519us/step - loss: 0.3572 - val_loss: 0.3705\n",
      "Epoch 41/100\n",
      "363/363 [==============================] - 0s 507us/step - loss: 0.3570 - val_loss: 0.3659\n",
      "Epoch 42/100\n",
      "363/363 [==============================] - 0s 500us/step - loss: 0.3563 - val_loss: 0.3803\n",
      "Epoch 43/100\n",
      "363/363 [==============================] - 0s 513us/step - loss: 0.3552 - val_loss: 0.3765\n",
      "Epoch 44/100\n",
      "363/363 [==============================] - 0s 540us/step - loss: 0.3548 - val_loss: 0.3814\n",
      "Epoch 45/100\n",
      "363/363 [==============================] - 0s 513us/step - loss: 0.3543 - val_loss: 0.3326\n",
      "Epoch 46/100\n",
      "363/363 [==============================] - 0s 574us/step - loss: 0.3532 - val_loss: 0.3385\n",
      "Epoch 47/100\n",
      "363/363 [==============================] - 0s 514us/step - loss: 0.3527 - val_loss: 0.3655\n",
      "Epoch 48/100\n",
      "363/363 [==============================] - 0s 507us/step - loss: 0.3521 - val_loss: 0.3579\n",
      "Epoch 49/100\n",
      "363/363 [==============================] - 0s 507us/step - loss: 0.3525 - val_loss: 0.3360\n",
      "Epoch 50/100\n",
      "363/363 [==============================] - 0s 503us/step - loss: 0.3510 - val_loss: 0.3318\n",
      "Epoch 51/100\n",
      "363/363 [==============================] - 0s 511us/step - loss: 0.3504 - val_loss: 0.3562\n",
      "Epoch 52/100\n",
      "363/363 [==============================] - 0s 519us/step - loss: 0.3502 - val_loss: 0.3520\n",
      "Epoch 53/100\n",
      "363/363 [==============================] - 0s 522us/step - loss: 0.3496 - val_loss: 0.4579\n",
      "Epoch 54/100\n",
      "363/363 [==============================] - 0s 520us/step - loss: 0.3497 - val_loss: 0.3808\n",
      "Epoch 55/100\n",
      "363/363 [==============================] - 0s 536us/step - loss: 0.3490 - val_loss: 0.3539\n",
      "Epoch 56/100\n",
      "363/363 [==============================] - 0s 526us/step - loss: 0.3485 - val_loss: 0.3723\n",
      "Epoch 57/100\n",
      "363/363 [==============================] - 0s 528us/step - loss: 0.3479 - val_loss: 0.3336\n",
      "Epoch 58/100\n",
      "363/363 [==============================] - 0s 497us/step - loss: 0.3469 - val_loss: 0.4011\n",
      "Epoch 59/100\n",
      "363/363 [==============================] - 0s 510us/step - loss: 0.3475 - val_loss: 0.3264\n",
      "Epoch 60/100\n",
      "363/363 [==============================] - 0s 517us/step - loss: 0.3465 - val_loss: 0.3271\n",
      "Epoch 61/100\n",
      "363/363 [==============================] - 0s 495us/step - loss: 0.3452 - val_loss: 0.3346\n",
      "Epoch 62/100\n",
      "363/363 [==============================] - 0s 493us/step - loss: 0.3453 - val_loss: 0.3493\n",
      "Epoch 63/100\n",
      "363/363 [==============================] - 0s 503us/step - loss: 0.3444 - val_loss: 0.3402\n",
      "Epoch 64/100\n",
      "363/363 [==============================] - 0s 494us/step - loss: 0.3450 - val_loss: 0.3275\n",
      "Epoch 65/100\n",
      "363/363 [==============================] - 0s 501us/step - loss: 0.3437 - val_loss: 0.3296\n",
      "Epoch 66/100\n",
      "363/363 [==============================] - 0s 495us/step - loss: 0.3431 - val_loss: 0.3307\n",
      "Epoch 67/100\n",
      "363/363 [==============================] - 0s 510us/step - loss: 0.3428 - val_loss: 0.3252\n",
      "Epoch 68/100\n",
      "363/363 [==============================] - 0s 499us/step - loss: 0.3423 - val_loss: 0.3242\n",
      "Epoch 69/100\n",
      "363/363 [==============================] - 0s 505us/step - loss: 0.3419 - val_loss: 0.3254\n",
      "Epoch 70/100\n",
      "363/363 [==============================] - 0s 495us/step - loss: 0.3413 - val_loss: 0.3672\n",
      "Epoch 71/100\n",
      "363/363 [==============================] - 0s 503us/step - loss: 0.3414 - val_loss: 0.3375\n",
      "Epoch 72/100\n",
      "363/363 [==============================] - 0s 506us/step - loss: 0.3405 - val_loss: 0.3271\n",
      "Epoch 73/100\n",
      "363/363 [==============================] - 0s 503us/step - loss: 0.3399 - val_loss: 0.3242\n",
      "Epoch 74/100\n",
      "363/363 [==============================] - 0s 495us/step - loss: 0.3402 - val_loss: 0.3665\n",
      "Epoch 75/100\n",
      "363/363 [==============================] - 0s 506us/step - loss: 0.3397 - val_loss: 0.3283\n",
      "Epoch 76/100\n",
      "363/363 [==============================] - 0s 497us/step - loss: 0.3395 - val_loss: 0.3240\n",
      "Epoch 77/100\n",
      "363/363 [==============================] - 0s 495us/step - loss: 0.3383 - val_loss: 0.3381\n",
      "Epoch 78/100\n",
      "363/363 [==============================] - 0s 500us/step - loss: 0.3384 - val_loss: 0.3356\n",
      "Epoch 79/100\n",
      "363/363 [==============================] - 0s 562us/step - loss: 0.3383 - val_loss: 0.3224\n"
     ]
    },
    {
     "name": "stdout",
     "output_type": "stream",
     "text": [
      "Epoch 80/100\n",
      "363/363 [==============================] - 0s 494us/step - loss: 0.3376 - val_loss: 0.3595\n",
      "Epoch 81/100\n",
      "363/363 [==============================] - 0s 501us/step - loss: 0.3383 - val_loss: 0.3432\n",
      "Epoch 82/100\n",
      "363/363 [==============================] - 0s 495us/step - loss: 0.3371 - val_loss: 0.3211\n",
      "Epoch 83/100\n",
      "363/363 [==============================] - 0s 496us/step - loss: 0.3367 - val_loss: 0.3342\n",
      "Epoch 84/100\n",
      "363/363 [==============================] - 0s 516us/step - loss: 0.3362 - val_loss: 0.4136\n",
      "Epoch 85/100\n",
      "363/363 [==============================] - 0s 508us/step - loss: 0.3369 - val_loss: 0.3285\n",
      "Epoch 86/100\n",
      "363/363 [==============================] - 0s 495us/step - loss: 0.3359 - val_loss: 0.3440\n",
      "Epoch 87/100\n",
      "363/363 [==============================] - 0s 500us/step - loss: 0.3357 - val_loss: 0.3733\n",
      "Epoch 88/100\n",
      "363/363 [==============================] - 0s 493us/step - loss: 0.3355 - val_loss: 0.3188\n",
      "Epoch 89/100\n",
      "363/363 [==============================] - 0s 496us/step - loss: 0.3346 - val_loss: 0.3492\n",
      "Epoch 90/100\n",
      "363/363 [==============================] - 0s 503us/step - loss: 0.3348 - val_loss: 0.3175\n",
      "Epoch 91/100\n",
      "363/363 [==============================] - 0s 501us/step - loss: 0.3339 - val_loss: 0.3594\n",
      "Epoch 92/100\n",
      "363/363 [==============================] - 0s 544us/step - loss: 0.3342 - val_loss: 0.3169\n",
      "Epoch 93/100\n",
      "363/363 [==============================] - 0s 499us/step - loss: 0.3333 - val_loss: 0.3607\n",
      "Epoch 94/100\n",
      "363/363 [==============================] - 0s 511us/step - loss: 0.3344 - val_loss: 0.5184\n",
      "Epoch 95/100\n",
      "363/363 [==============================] - 0s 503us/step - loss: 0.3339 - val_loss: 0.7536\n",
      "Epoch 96/100\n",
      "363/363 [==============================] - 0s 506us/step - loss: 0.3370 - val_loss: 0.5075\n",
      "Epoch 97/100\n",
      "363/363 [==============================] - 0s 512us/step - loss: 0.3340 - val_loss: 0.8087\n",
      "Epoch 98/100\n",
      "363/363 [==============================] - 0s 500us/step - loss: 0.3354 - val_loss: 1.0447\n",
      "Epoch 99/100\n",
      "363/363 [==============================] - 0s 500us/step - loss: 0.3346 - val_loss: 1.6881\n",
      "Epoch 100/100\n",
      "363/363 [==============================] - 0s 508us/step - loss: 0.3495 - val_loss: 1.9265\n"
     ]
    },
    {
     "data": {
      "text/plain": [
       "<tensorflow.python.keras.callbacks.History at 0x2c920284400>"
      ]
     },
     "execution_count": 96,
     "metadata": {},
     "output_type": "execute_result"
    }
   ],
   "source": [
    "keras_reg.fit(X_train, y_train, epochs=100,\n",
    "              validation_data=(X_valid, y_valid),\n",
    "              callbacks=[keras.callbacks.EarlyStopping(patience=10)])"
   ]
  },
  {
   "cell_type": "code",
   "execution_count": 97,
   "id": "a92a38f4",
   "metadata": {},
   "outputs": [
    {
     "name": "stdout",
     "output_type": "stream",
     "text": [
      "  1/162 [..............................] - ETA: 0s - loss: 0.2524WARNING:tensorflow:Callbacks method `on_test_batch_begin` is slow compared to the batch time (batch time: 0.0000s vs `on_test_batch_begin` time: 0.0010s). Check your callbacks.\n",
      "162/162 [==============================] - 0s 357us/step - loss: 0.3409\n"
     ]
    }
   ],
   "source": [
    "mse_test = keras_reg.score(X_test, y_test)"
   ]
  },
  {
   "cell_type": "code",
   "execution_count": 98,
   "id": "5eff2989",
   "metadata": {},
   "outputs": [
    {
     "name": "stdout",
     "output_type": "stream",
     "text": [
      "WARNING:tensorflow:8 out of the last 9 calls to <function Model.make_predict_function.<locals>.predict_function at 0x000002C920650820> triggered tf.function retracing. Tracing is expensive and the excessive number of tracings could be due to (1) creating @tf.function repeatedly in a loop, (2) passing tensors with different shapes, (3) passing Python objects instead of tensors. For (1), please define your @tf.function outside of the loop. For (2), @tf.function has experimental_relax_shapes=True option that relaxes argument shapes that can avoid unnecessary retracing. For (3), please refer to https://www.tensorflow.org/tutorials/customization/performance#python_or_tensor_args and https://www.tensorflow.org/api_docs/python/tf/function for  more details.\n"
     ]
    }
   ],
   "source": [
    "y_pred = keras_reg.predict(X_new)"
   ]
  },
  {
   "cell_type": "code",
   "execution_count": 99,
   "id": "c6a3b763",
   "metadata": {},
   "outputs": [
    {
     "data": {
      "text/plain": [
       "array([0.58884525, 1.5484407 , 4.1112185 ], dtype=float32)"
      ]
     },
     "execution_count": 99,
     "metadata": {},
     "output_type": "execute_result"
    }
   ],
   "source": [
    "y_pred"
   ]
  },
  {
   "cell_type": "code",
   "execution_count": 100,
   "id": "6854591d",
   "metadata": {},
   "outputs": [
    {
     "name": "stdout",
     "output_type": "stream",
     "text": [
      "Fitting 3 folds for each of 10 candidates, totalling 30 fits\n",
      "Epoch 1/100\n",
      "242/242 [==============================] - 0s 849us/step - loss: 0.7861 - val_loss: 0.4686\n",
      "Epoch 2/100\n",
      "242/242 [==============================] - 0s 576us/step - loss: 0.4791 - val_loss: 0.4998\n",
      "Epoch 3/100\n",
      "242/242 [==============================] - 0s 559us/step - loss: 0.4595 - val_loss: 0.4157\n",
      "Epoch 4/100\n",
      "242/242 [==============================] - 0s 561us/step - loss: 0.4497 - val_loss: 0.4080\n",
      "Epoch 5/100\n",
      "242/242 [==============================] - 0s 551us/step - loss: 0.4455 - val_loss: 0.5519\n",
      "Epoch 6/100\n",
      "242/242 [==============================] - 0s 573us/step - loss: 0.4427 - val_loss: 0.4784\n",
      "Epoch 7/100\n",
      "242/242 [==============================] - 0s 598us/step - loss: 0.4468 - val_loss: 0.5038\n",
      "Epoch 8/100\n",
      "242/242 [==============================] - 0s 581us/step - loss: 0.4394 - val_loss: 0.6504\n",
      "Epoch 9/100\n",
      "242/242 [==============================] - 0s 581us/step - loss: 0.4631 - val_loss: 0.4199\n",
      "Epoch 10/100\n",
      "242/242 [==============================] - 0s 589us/step - loss: 0.4528 - val_loss: 0.5007\n",
      "Epoch 11/100\n",
      "242/242 [==============================] - 0s 569us/step - loss: 0.4414 - val_loss: 0.5845\n",
      "Epoch 12/100\n",
      "242/242 [==============================] - 0s 568us/step - loss: 0.4419 - val_loss: 0.4339\n",
      "Epoch 13/100\n",
      "242/242 [==============================] - 0s 589us/step - loss: 0.4601 - val_loss: 0.4623\n",
      "Epoch 14/100\n",
      "242/242 [==============================] - 0s 571us/step - loss: 0.4415 - val_loss: 0.4809\n",
      "121/121 [==============================] - 0s 354us/step - loss: 0.4551\n",
      "[CV] END learning_rate=0.022174573948353458, n_hidden=1, n_neurons=4; total time=   2.3s\n",
      "Epoch 1/100\n",
      "242/242 [==============================] - 0s 882us/step - loss: 0.8053 - val_loss: 0.4446\n",
      "Epoch 2/100\n",
      "242/242 [==============================] - 0s 565us/step - loss: 0.4572 - val_loss: 0.4158\n",
      "Epoch 3/100\n",
      "242/242 [==============================] - 0s 573us/step - loss: 0.4376 - val_loss: 0.3959\n",
      "Epoch 4/100\n",
      "242/242 [==============================] - 0s 565us/step - loss: 0.4300 - val_loss: 0.3926\n",
      "Epoch 5/100\n",
      "242/242 [==============================] - 0s 571us/step - loss: 0.4283 - val_loss: 0.3928\n",
      "Epoch 6/100\n",
      "242/242 [==============================] - 0s 554us/step - loss: 0.4243 - val_loss: 0.3911\n",
      "Epoch 7/100\n",
      "242/242 [==============================] - 0s 577us/step - loss: 0.4223 - val_loss: 0.3937\n",
      "Epoch 8/100\n",
      "242/242 [==============================] - 0s 576us/step - loss: 0.4213 - val_loss: 0.3834\n",
      "Epoch 9/100\n",
      "242/242 [==============================] - 0s 556us/step - loss: 0.4193 - val_loss: 0.3840\n",
      "Epoch 10/100\n",
      "242/242 [==============================] - 0s 571us/step - loss: 0.4206 - val_loss: 0.3852\n",
      "Epoch 11/100\n",
      "242/242 [==============================] - 0s 608us/step - loss: 0.4199 - val_loss: 0.3839\n",
      "Epoch 12/100\n",
      "242/242 [==============================] - 0s 646us/step - loss: 0.4175 - val_loss: 0.3882\n",
      "Epoch 13/100\n",
      "242/242 [==============================] - 0s 549us/step - loss: 0.4163 - val_loss: 0.3934\n",
      "Epoch 14/100\n",
      "242/242 [==============================] - 0s 559us/step - loss: 0.4139 - val_loss: 0.3865\n",
      "Epoch 15/100\n",
      "242/242 [==============================] - 0s 567us/step - loss: 0.4109 - val_loss: 0.3787\n",
      "Epoch 16/100\n",
      "242/242 [==============================] - 0s 569us/step - loss: 0.4091 - val_loss: 0.3780\n",
      "Epoch 17/100\n",
      "242/242 [==============================] - 0s 565us/step - loss: 0.4110 - val_loss: 0.3746\n",
      "Epoch 18/100\n",
      "242/242 [==============================] - 0s 552us/step - loss: 0.4102 - val_loss: 0.3765\n",
      "Epoch 19/100\n",
      "242/242 [==============================] - 0s 565us/step - loss: 0.4057 - val_loss: 0.3753\n",
      "Epoch 20/100\n",
      "242/242 [==============================] - 0s 565us/step - loss: 0.4027 - val_loss: 0.3751\n",
      "Epoch 21/100\n",
      "242/242 [==============================] - 0s 571us/step - loss: 0.4034 - val_loss: 0.3785\n",
      "Epoch 22/100\n",
      "242/242 [==============================] - 0s 571us/step - loss: 0.4013 - val_loss: 0.3695\n",
      "Epoch 23/100\n",
      "242/242 [==============================] - 0s 561us/step - loss: 0.4005 - val_loss: 0.3714\n",
      "Epoch 24/100\n",
      "242/242 [==============================] - 0s 563us/step - loss: 0.3968 - val_loss: 0.3650\n",
      "Epoch 25/100\n",
      "242/242 [==============================] - 0s 573us/step - loss: 0.3946 - val_loss: 0.3800\n",
      "Epoch 26/100\n",
      "242/242 [==============================] - 0s 567us/step - loss: 0.3936 - val_loss: 0.3646\n",
      "Epoch 27/100\n",
      "242/242 [==============================] - 0s 589us/step - loss: 0.3905 - val_loss: 0.3626\n",
      "Epoch 28/100\n",
      "242/242 [==============================] - 0s 582us/step - loss: 0.3908 - val_loss: 0.3582\n",
      "Epoch 29/100\n",
      "242/242 [==============================] - 0s 569us/step - loss: 0.3916 - val_loss: 0.3612\n",
      "Epoch 30/100\n",
      "242/242 [==============================] - 0s 572us/step - loss: 0.3929 - val_loss: 0.3862\n",
      "Epoch 31/100\n",
      "242/242 [==============================] - 0s 581us/step - loss: 0.3862 - val_loss: 0.3944\n",
      "Epoch 32/100\n",
      "242/242 [==============================] - 0s 573us/step - loss: 0.3886 - val_loss: 0.3983\n",
      "Epoch 33/100\n",
      "242/242 [==============================] - 0s 638us/step - loss: 0.3850 - val_loss: 0.4880\n",
      "Epoch 34/100\n",
      "242/242 [==============================] - 0s 560us/step - loss: 0.3837 - val_loss: 0.4702\n",
      "Epoch 35/100\n",
      "242/242 [==============================] - 0s 565us/step - loss: 0.3855 - val_loss: 0.5250\n",
      "Epoch 36/100\n",
      "242/242 [==============================] - 0s 589us/step - loss: 0.3828 - val_loss: 0.5563\n",
      "Epoch 37/100\n",
      "242/242 [==============================] - 0s 564us/step - loss: 0.3822 - val_loss: 0.6552\n",
      "Epoch 38/100\n",
      "242/242 [==============================] - 0s 565us/step - loss: 0.3818 - val_loss: 0.6001\n",
      "121/121 [==============================] - 0s 363us/step - loss: 0.4077\n",
      "[CV] END learning_rate=0.022174573948353458, n_hidden=1, n_neurons=4; total time=   5.6s\n",
      "Epoch 1/100\n",
      "242/242 [==============================] - 0s 845us/step - loss: 1.2946 - val_loss: 12.7473\n",
      "Epoch 2/100\n",
      "242/242 [==============================] - 0s 572us/step - loss: 0.7094 - val_loss: 5.5930\n",
      "Epoch 3/100\n",
      "242/242 [==============================] - 0s 569us/step - loss: 0.5759 - val_loss: 0.4561\n",
      "Epoch 4/100\n",
      "242/242 [==============================] - 0s 565us/step - loss: 0.4526 - val_loss: 0.3987\n",
      "Epoch 5/100\n",
      "242/242 [==============================] - 0s 565us/step - loss: 0.4298 - val_loss: 0.3912\n",
      "Epoch 6/100\n",
      "242/242 [==============================] - 0s 569us/step - loss: 0.4166 - val_loss: 0.3894\n",
      "Epoch 7/100\n",
      "242/242 [==============================] - 0s 569us/step - loss: 0.4137 - val_loss: 0.3827\n",
      "Epoch 8/100\n",
      "242/242 [==============================] - 0s 580us/step - loss: 0.4245 - val_loss: 0.3973\n",
      "Epoch 9/100\n",
      "242/242 [==============================] - 0s 568us/step - loss: 0.4184 - val_loss: 0.3805\n",
      "Epoch 10/100\n",
      "242/242 [==============================] - 0s 563us/step - loss: 0.4156 - val_loss: 0.3751\n",
      "Epoch 11/100\n",
      "242/242 [==============================] - 0s 559us/step - loss: 0.4038 - val_loss: 0.3739\n",
      "Epoch 12/100\n",
      "242/242 [==============================] - 0s 577us/step - loss: 0.4012 - val_loss: 0.3732\n",
      "Epoch 13/100\n",
      "242/242 [==============================] - 0s 573us/step - loss: 0.3997 - val_loss: 0.3781\n",
      "Epoch 14/100\n",
      "242/242 [==============================] - 0s 552us/step - loss: 0.3975 - val_loss: 0.3738\n",
      "Epoch 15/100\n",
      "242/242 [==============================] - 0s 580us/step - loss: 0.3958 - val_loss: 0.3723\n",
      "Epoch 16/100\n",
      "242/242 [==============================] - 0s 577us/step - loss: 0.4001 - val_loss: 0.3723\n",
      "Epoch 17/100\n",
      "242/242 [==============================] - 0s 565us/step - loss: 0.3951 - val_loss: 0.3719\n",
      "Epoch 18/100\n",
      "242/242 [==============================] - 0s 565us/step - loss: 0.3929 - val_loss: 0.3717\n",
      "Epoch 19/100\n",
      "242/242 [==============================] - 0s 636us/step - loss: 0.3929 - val_loss: 0.3629\n",
      "Epoch 20/100\n",
      "242/242 [==============================] - 0s 560us/step - loss: 0.3901 - val_loss: 0.3627\n",
      "Epoch 21/100\n",
      "242/242 [==============================] - 0s 565us/step - loss: 0.4040 - val_loss: 0.3646\n",
      "Epoch 22/100\n",
      "242/242 [==============================] - 0s 560us/step - loss: 0.3893 - val_loss: 0.3610\n",
      "Epoch 23/100\n",
      "242/242 [==============================] - 0s 573us/step - loss: 0.3880 - val_loss: 0.3590\n",
      "Epoch 24/100\n"
     ]
    },
    {
     "name": "stdout",
     "output_type": "stream",
     "text": [
      "242/242 [==============================] - 0s 576us/step - loss: 0.3871 - val_loss: 0.3621\n",
      "Epoch 25/100\n",
      "242/242 [==============================] - 0s 548us/step - loss: 0.3902 - val_loss: 0.3609\n",
      "Epoch 26/100\n",
      "242/242 [==============================] - 0s 560us/step - loss: 0.3903 - val_loss: 0.3605\n",
      "Epoch 27/100\n",
      "242/242 [==============================] - 0s 559us/step - loss: 0.3886 - val_loss: 0.3618\n",
      "Epoch 28/100\n",
      "242/242 [==============================] - 0s 565us/step - loss: 0.3863 - val_loss: 0.3622\n",
      "Epoch 29/100\n",
      "242/242 [==============================] - 0s 564us/step - loss: 0.4029 - val_loss: 0.3574\n",
      "Epoch 30/100\n",
      "242/242 [==============================] - 0s 573us/step - loss: 0.3858 - val_loss: 0.3561\n",
      "Epoch 31/100\n",
      "242/242 [==============================] - 0s 569us/step - loss: 0.3844 - val_loss: 0.3645\n",
      "Epoch 32/100\n",
      "242/242 [==============================] - 0s 546us/step - loss: 0.3900 - val_loss: 0.3552\n",
      "Epoch 33/100\n",
      "242/242 [==============================] - 0s 557us/step - loss: 0.3873 - val_loss: 0.3657\n",
      "Epoch 34/100\n",
      "242/242 [==============================] - 0s 598us/step - loss: 0.3934 - val_loss: 0.3619\n",
      "Epoch 35/100\n",
      "242/242 [==============================] - 0s 560us/step - loss: 0.3841 - val_loss: 0.3574\n",
      "Epoch 36/100\n",
      "242/242 [==============================] - 0s 548us/step - loss: 0.3816 - val_loss: 0.3531\n",
      "Epoch 37/100\n",
      "242/242 [==============================] - 0s 545us/step - loss: 0.3828 - val_loss: 0.3704\n",
      "Epoch 38/100\n",
      "242/242 [==============================] - 0s 556us/step - loss: 0.3860 - val_loss: 0.3533\n",
      "Epoch 39/100\n",
      "242/242 [==============================] - 0s 561us/step - loss: 0.3818 - val_loss: 0.3523\n",
      "Epoch 40/100\n",
      "242/242 [==============================] - 0s 565us/step - loss: 0.3810 - val_loss: 0.3531\n",
      "Epoch 41/100\n",
      "242/242 [==============================] - 0s 559us/step - loss: 0.3802 - val_loss: 0.3529\n",
      "Epoch 42/100\n",
      "242/242 [==============================] - 0s 561us/step - loss: 0.3799 - val_loss: 0.3524\n",
      "Epoch 43/100\n",
      "242/242 [==============================] - 0s 563us/step - loss: 0.3847 - val_loss: 0.3527\n",
      "Epoch 44/100\n",
      "242/242 [==============================] - 0s 571us/step - loss: 0.3794 - val_loss: 0.3511\n",
      "Epoch 45/100\n",
      "242/242 [==============================] - 0s 565us/step - loss: 0.3816 - val_loss: 0.3543\n",
      "Epoch 46/100\n",
      "242/242 [==============================] - 0s 576us/step - loss: 0.3795 - val_loss: 0.3509\n",
      "Epoch 47/100\n",
      "242/242 [==============================] - 0s 569us/step - loss: 0.3789 - val_loss: 0.3492\n",
      "Epoch 48/100\n",
      "242/242 [==============================] - 0s 589us/step - loss: 0.3787 - val_loss: 0.3494\n",
      "Epoch 49/100\n",
      "242/242 [==============================] - 0s 572us/step - loss: 0.3781 - val_loss: 0.3601\n",
      "Epoch 50/100\n",
      "242/242 [==============================] - 0s 565us/step - loss: 0.3865 - val_loss: 0.3525\n",
      "Epoch 51/100\n",
      "242/242 [==============================] - 0s 561us/step - loss: 0.3795 - val_loss: 0.3525\n",
      "Epoch 52/100\n",
      "242/242 [==============================] - 0s 560us/step - loss: 0.3791 - val_loss: 0.3516\n",
      "Epoch 53/100\n",
      "242/242 [==============================] - 0s 572us/step - loss: 0.3795 - val_loss: 0.3503\n",
      "Epoch 54/100\n",
      "242/242 [==============================] - 0s 552us/step - loss: 0.3845 - val_loss: 0.3905\n",
      "Epoch 55/100\n",
      "242/242 [==============================] - 0s 565us/step - loss: 0.4265 - val_loss: 0.3610\n",
      "Epoch 56/100\n",
      "242/242 [==============================] - 0s 602us/step - loss: 0.3874 - val_loss: 0.3558\n",
      "Epoch 57/100\n",
      "242/242 [==============================] - 0s 557us/step - loss: 0.3880 - val_loss: 0.3526\n",
      "121/121 [==============================] - 0s 360us/step - loss: 0.3746\n",
      "[CV] END learning_rate=0.022174573948353458, n_hidden=1, n_neurons=4; total time=   8.3s\n",
      "Epoch 1/100\n",
      "242/242 [==============================] - 0s 923us/step - loss: 1.1145 - val_loss: 7.0347\n",
      "Epoch 2/100\n",
      "242/242 [==============================] - 0s 638us/step - loss: 0.6442 - val_loss: 7.5879\n",
      "Epoch 3/100\n",
      "242/242 [==============================] - 0s 631us/step - loss: 0.5361 - val_loss: 0.4715\n",
      "Epoch 4/100\n",
      "242/242 [==============================] - 0s 639us/step - loss: 0.4254 - val_loss: 0.3821\n",
      "Epoch 5/100\n",
      "242/242 [==============================] - 0s 632us/step - loss: 0.4021 - val_loss: 0.3746\n",
      "Epoch 6/100\n",
      "242/242 [==============================] - 0s 633us/step - loss: 0.3892 - val_loss: 0.4037\n",
      "Epoch 7/100\n",
      "242/242 [==============================] - 0s 635us/step - loss: 0.3807 - val_loss: 0.3758\n",
      "Epoch 8/100\n",
      "242/242 [==============================] - 0s 643us/step - loss: 0.3734 - val_loss: 0.3965\n",
      "Epoch 9/100\n",
      "242/242 [==============================] - 0s 631us/step - loss: 0.3687 - val_loss: 0.3791\n",
      "Epoch 10/100\n",
      "242/242 [==============================] - 0s 622us/step - loss: 0.3646 - val_loss: 0.3873\n",
      "Epoch 11/100\n",
      "242/242 [==============================] - 0s 602us/step - loss: 0.3622 - val_loss: 0.3440\n",
      "Epoch 12/100\n",
      "242/242 [==============================] - 0s 626us/step - loss: 0.3572 - val_loss: 0.3594\n",
      "Epoch 13/100\n",
      "242/242 [==============================] - 0s 631us/step - loss: 0.3536 - val_loss: 0.3718\n",
      "Epoch 14/100\n",
      "242/242 [==============================] - 0s 635us/step - loss: 0.3523 - val_loss: 0.3684\n",
      "Epoch 15/100\n",
      "242/242 [==============================] - 0s 635us/step - loss: 0.3490 - val_loss: 0.3500\n",
      "Epoch 16/100\n",
      "242/242 [==============================] - 0s 738us/step - loss: 0.3471 - val_loss: 0.3652\n",
      "Epoch 17/100\n",
      "242/242 [==============================] - 0s 626us/step - loss: 0.3444 - val_loss: 0.3542\n",
      "Epoch 18/100\n",
      "242/242 [==============================] - 0s 622us/step - loss: 0.3425 - val_loss: 0.3562\n",
      "Epoch 19/100\n",
      "242/242 [==============================] - 0s 631us/step - loss: 0.3404 - val_loss: 0.3483\n",
      "Epoch 20/100\n",
      "242/242 [==============================] - 0s 622us/step - loss: 0.3380 - val_loss: 0.3529\n",
      "Epoch 21/100\n",
      "242/242 [==============================] - 0s 627us/step - loss: 0.3376 - val_loss: 0.3442\n",
      "  1/121 [..............................] - ETA: 0s - loss: 0.5737WARNING:tensorflow:Callbacks method `on_test_batch_end` is slow compared to the batch time (batch time: 0.0000s vs `on_test_batch_end` time: 0.0010s). Check your callbacks.\n",
      "121/121 [==============================] - 0s 387us/step - loss: 0.3574\n",
      "[CV] END learning_rate=0.005432590230265343, n_hidden=2, n_neurons=94; total time=   3.6s\n",
      "Epoch 1/100\n",
      "242/242 [==============================] - 0s 947us/step - loss: 1.0005 - val_loss: 0.9596\n",
      "Epoch 2/100\n",
      "242/242 [==============================] - 0s 629us/step - loss: 0.5063 - val_loss: 0.7571\n",
      "Epoch 3/100\n",
      "242/242 [==============================] - 0s 631us/step - loss: 0.4379 - val_loss: 0.7232\n",
      "Epoch 4/100\n",
      "242/242 [==============================] - 0s 651us/step - loss: 0.4091 - val_loss: 0.4714\n",
      "Epoch 5/100\n",
      "242/242 [==============================] - 0s 626us/step - loss: 0.3912 - val_loss: 0.3650\n",
      "Epoch 6/100\n",
      "242/242 [==============================] - 0s 635us/step - loss: 0.3792 - val_loss: 0.4524\n",
      "Epoch 7/100\n",
      "242/242 [==============================] - 0s 635us/step - loss: 0.3720 - val_loss: 0.6994\n",
      "Epoch 8/100\n",
      "242/242 [==============================] - 0s 631us/step - loss: 0.3643 - val_loss: 0.8516\n",
      "Epoch 9/100\n",
      "242/242 [==============================] - 0s 616us/step - loss: 0.3577 - val_loss: 1.0870\n",
      "Epoch 10/100\n",
      "242/242 [==============================] - 0s 655us/step - loss: 0.3540 - val_loss: 0.8715\n",
      "Epoch 11/100\n",
      "242/242 [==============================] - 0s 618us/step - loss: 0.3487 - val_loss: 1.0093\n",
      "Epoch 12/100\n",
      "242/242 [==============================] - 0s 639us/step - loss: 0.3446 - val_loss: 1.0464\n",
      "Epoch 13/100\n",
      "242/242 [==============================] - 0s 647us/step - loss: 0.3422 - val_loss: 1.2580\n",
      "Epoch 14/100\n",
      "242/242 [==============================] - 0s 606us/step - loss: 0.3403 - val_loss: 1.1236\n",
      "Epoch 15/100\n",
      "242/242 [==============================] - 0s 627us/step - loss: 0.3379 - val_loss: 1.1401\n",
      "121/121 [==============================] - 0s 346us/step - loss: 0.3617\n",
      "[CV] END learning_rate=0.005432590230265343, n_hidden=2, n_neurons=94; total time=   2.6s\n",
      "Epoch 1/100\n",
      "242/242 [==============================] - 0s 918us/step - loss: 1.0109 - val_loss: 9.2330\n",
      "Epoch 2/100\n",
      "242/242 [==============================] - 0s 614us/step - loss: 0.5932 - val_loss: 11.2919\n",
      "Epoch 3/100\n"
     ]
    },
    {
     "name": "stdout",
     "output_type": "stream",
     "text": [
      "242/242 [==============================] - 0s 635us/step - loss: 0.5470 - val_loss: 2.4708\n",
      "Epoch 4/100\n",
      "242/242 [==============================] - 0s 634us/step - loss: 0.4562 - val_loss: 4.1857\n",
      "Epoch 5/100\n",
      "242/242 [==============================] - 0s 631us/step - loss: 0.4401 - val_loss: 1.1614\n",
      "Epoch 6/100\n",
      "242/242 [==============================] - 0s 655us/step - loss: 0.4064 - val_loss: 0.3633\n",
      "Epoch 7/100\n",
      "242/242 [==============================] - 0s 626us/step - loss: 0.3857 - val_loss: 0.3785\n",
      "Epoch 8/100\n",
      "242/242 [==============================] - 0s 626us/step - loss: 0.3781 - val_loss: 0.3907\n",
      "Epoch 9/100\n",
      "242/242 [==============================] - 0s 657us/step - loss: 0.3717 - val_loss: 0.4213\n",
      "Epoch 10/100\n",
      "242/242 [==============================] - 0s 659us/step - loss: 0.3706 - val_loss: 0.3678\n",
      "Epoch 11/100\n",
      "242/242 [==============================] - 0s 647us/step - loss: 0.3647 - val_loss: 0.4243\n",
      "Epoch 12/100\n",
      "242/242 [==============================] - 0s 643us/step - loss: 0.3609 - val_loss: 0.3900\n",
      "Epoch 13/100\n",
      "242/242 [==============================] - 0s 688us/step - loss: 0.3572 - val_loss: 0.3698\n",
      "Epoch 14/100\n",
      "242/242 [==============================] - 0s 631us/step - loss: 0.3547 - val_loss: 0.4033\n",
      "Epoch 15/100\n",
      "242/242 [==============================] - 0s 639us/step - loss: 0.3529 - val_loss: 0.3433\n",
      "Epoch 16/100\n",
      "242/242 [==============================] - 0s 635us/step - loss: 0.3492 - val_loss: 0.3808\n",
      "Epoch 17/100\n",
      "242/242 [==============================] - 0s 638us/step - loss: 0.3465 - val_loss: 0.3555\n",
      "Epoch 18/100\n",
      "242/242 [==============================] - 0s 709us/step - loss: 0.3454 - val_loss: 0.3429\n",
      "Epoch 19/100\n",
      "242/242 [==============================] - 0s 643us/step - loss: 0.3422 - val_loss: 0.3829\n",
      "Epoch 20/100\n",
      "242/242 [==============================] - 0s 626us/step - loss: 0.3397 - val_loss: 0.3609\n",
      "Epoch 21/100\n",
      "242/242 [==============================] - 0s 659us/step - loss: 0.3404 - val_loss: 0.3358\n",
      "Epoch 22/100\n",
      "242/242 [==============================] - 0s 635us/step - loss: 0.3371 - val_loss: 0.3345\n",
      "Epoch 23/100\n",
      "242/242 [==============================] - 0s 653us/step - loss: 0.3344 - val_loss: 0.3288\n",
      "Epoch 24/100\n",
      "242/242 [==============================] - 0s 639us/step - loss: 0.3340 - val_loss: 0.3555\n",
      "Epoch 25/100\n",
      "242/242 [==============================] - 0s 639us/step - loss: 0.3317 - val_loss: 0.3159\n",
      "Epoch 26/100\n",
      "242/242 [==============================] - 0s 635us/step - loss: 0.3294 - val_loss: 0.3256\n",
      "Epoch 27/100\n",
      "242/242 [==============================] - 0s 635us/step - loss: 0.3276 - val_loss: 0.3707\n",
      "Epoch 28/100\n",
      "242/242 [==============================] - 0s 629us/step - loss: 0.3267 - val_loss: 0.3171\n",
      "Epoch 29/100\n",
      "242/242 [==============================] - 0s 635us/step - loss: 0.3252 - val_loss: 0.3753\n",
      "Epoch 30/100\n",
      "242/242 [==============================] - 0s 637us/step - loss: 0.3248 - val_loss: 0.3192\n",
      "Epoch 31/100\n",
      "242/242 [==============================] - 0s 643us/step - loss: 0.3227 - val_loss: 0.3295\n",
      "Epoch 32/100\n",
      "242/242 [==============================] - 0s 668us/step - loss: 0.3203 - val_loss: 0.3445\n",
      "Epoch 33/100\n",
      "242/242 [==============================] - 0s 631us/step - loss: 0.3208 - val_loss: 0.3240\n",
      "Epoch 34/100\n",
      "242/242 [==============================] - 0s 619us/step - loss: 0.3180 - val_loss: 0.3559\n",
      "Epoch 35/100\n",
      "242/242 [==============================] - 0s 637us/step - loss: 0.3181 - val_loss: 0.3077\n",
      "Epoch 36/100\n",
      "242/242 [==============================] - 0s 636us/step - loss: 0.3151 - val_loss: 0.3419\n",
      "Epoch 37/100\n",
      "242/242 [==============================] - 0s 680us/step - loss: 0.3142 - val_loss: 0.3120\n",
      "Epoch 38/100\n",
      "242/242 [==============================] - 0s 651us/step - loss: 0.3130 - val_loss: 0.4122\n",
      "Epoch 39/100\n",
      "242/242 [==============================] - 0s 622us/step - loss: 0.3133 - val_loss: 0.3040\n",
      "Epoch 40/100\n",
      "242/242 [==============================] - 0s 622us/step - loss: 0.3119 - val_loss: 0.3667\n",
      "Epoch 41/100\n",
      "242/242 [==============================] - 0s 638us/step - loss: 0.3095 - val_loss: 0.3257\n",
      "Epoch 42/100\n",
      "242/242 [==============================] - 0s 633us/step - loss: 0.3085 - val_loss: 0.3354\n",
      "Epoch 43/100\n",
      "242/242 [==============================] - 0s 643us/step - loss: 0.3108 - val_loss: 0.3148\n",
      "Epoch 44/100\n",
      "242/242 [==============================] - 0s 638us/step - loss: 0.3075 - val_loss: 0.3832\n",
      "Epoch 45/100\n",
      "242/242 [==============================] - 0s 643us/step - loss: 0.3098 - val_loss: 0.3026\n",
      "Epoch 46/100\n",
      "242/242 [==============================] - 0s 635us/step - loss: 0.3053 - val_loss: 0.4021\n",
      "Epoch 47/100\n",
      "242/242 [==============================] - 0s 648us/step - loss: 0.3047 - val_loss: 0.3332\n",
      "Epoch 48/100\n",
      "242/242 [==============================] - 0s 643us/step - loss: 0.3049 - val_loss: 0.3229\n",
      "Epoch 49/100\n",
      "242/242 [==============================] - 0s 627us/step - loss: 0.3032 - val_loss: 0.3344\n",
      "Epoch 50/100\n",
      "242/242 [==============================] - 0s 636us/step - loss: 0.3021 - val_loss: 0.3215\n",
      "Epoch 51/100\n",
      "242/242 [==============================] - 0s 691us/step - loss: 0.3008 - val_loss: 0.3393\n",
      "Epoch 52/100\n",
      "242/242 [==============================] - 0s 656us/step - loss: 0.3012 - val_loss: 0.3016\n",
      "Epoch 53/100\n",
      "242/242 [==============================] - 0s 666us/step - loss: 0.3003 - val_loss: 0.3018\n",
      "Epoch 54/100\n",
      "242/242 [==============================] - 0s 641us/step - loss: 0.2990 - val_loss: 0.3236\n",
      "Epoch 55/100\n",
      "242/242 [==============================] - 0s 635us/step - loss: 0.3002 - val_loss: 0.2963\n",
      "Epoch 56/100\n",
      "242/242 [==============================] - 0s 629us/step - loss: 0.3005 - val_loss: 0.3467\n",
      "Epoch 57/100\n",
      "242/242 [==============================] - 0s 639us/step - loss: 0.2992 - val_loss: 0.3204\n",
      "Epoch 58/100\n",
      "242/242 [==============================] - 0s 648us/step - loss: 0.2979 - val_loss: 0.2973\n",
      "Epoch 59/100\n",
      "242/242 [==============================] - 0s 626us/step - loss: 0.2945 - val_loss: 0.3227\n",
      "Epoch 60/100\n",
      "242/242 [==============================] - 0s 635us/step - loss: 0.2956 - val_loss: 0.3171\n",
      "Epoch 61/100\n",
      "242/242 [==============================] - 0s 683us/step - loss: 0.2968 - val_loss: 0.3831\n",
      "Epoch 62/100\n",
      "242/242 [==============================] - 0s 647us/step - loss: 0.2928 - val_loss: 0.2979\n",
      "Epoch 63/100\n",
      "242/242 [==============================] - 0s 651us/step - loss: 0.2928 - val_loss: 0.3009\n",
      "Epoch 64/100\n",
      "242/242 [==============================] - 0s 618us/step - loss: 0.2925 - val_loss: 0.3193\n",
      "Epoch 65/100\n",
      "242/242 [==============================] - 0s 613us/step - loss: 0.2920 - val_loss: 0.3237\n",
      "121/121 [==============================] - 0s 353us/step - loss: 0.3068\n",
      "[CV] END learning_rate=0.005432590230265343, n_hidden=2, n_neurons=94; total time=  10.5s\n",
      "Epoch 1/100\n",
      "  1/242 [..............................] - ETA: 0s - loss: 5.3583WARNING:tensorflow:Callbacks method `on_train_batch_end` is slow compared to the batch time (batch time: 0.0000s vs `on_train_batch_end` time: 0.0010s). Check your callbacks.\n",
      "242/242 [==============================] - 0s 851us/step - loss: 3.4511 - val_loss: 4.9424\n",
      "Epoch 2/100\n",
      "242/242 [==============================] - 0s 569us/step - loss: 1.6083 - val_loss: 3.3453\n",
      "Epoch 3/100\n",
      "242/242 [==============================] - 0s 602us/step - loss: 1.0809 - val_loss: 2.1447\n",
      "Epoch 4/100\n",
      "242/242 [==============================] - 0s 569us/step - loss: 0.8926 - val_loss: 1.3870\n",
      "Epoch 5/100\n",
      "242/242 [==============================] - 0s 565us/step - loss: 0.8097 - val_loss: 0.9902\n",
      "Epoch 6/100\n",
      "242/242 [==============================] - 0s 580us/step - loss: 0.7662 - val_loss: 0.8069\n",
      "Epoch 7/100\n",
      "242/242 [==============================] - 0s 560us/step - loss: 0.7394 - val_loss: 0.7225\n",
      "Epoch 8/100\n",
      "242/242 [==============================] - 0s 555us/step - loss: 0.7204 - val_loss: 0.6864\n",
      "Epoch 9/100\n",
      "242/242 [==============================] - 0s 572us/step - loss: 0.7053 - val_loss: 0.6691\n",
      "Epoch 10/100\n",
      "242/242 [==============================] - 0s 593us/step - loss: 0.6922 - val_loss: 0.6575\n",
      "Epoch 11/100\n",
      "242/242 [==============================] - 0s 569us/step - loss: 0.6804 - val_loss: 0.6497\n",
      "Epoch 12/100\n",
      "242/242 [==============================] - 0s 574us/step - loss: 0.6696 - val_loss: 0.6399\n",
      "Epoch 13/100\n"
     ]
    },
    {
     "name": "stdout",
     "output_type": "stream",
     "text": [
      "242/242 [==============================] - 0s 564us/step - loss: 0.6595 - val_loss: 0.6335\n",
      "Epoch 14/100\n",
      "242/242 [==============================] - 0s 566us/step - loss: 0.6500 - val_loss: 0.6260\n",
      "Epoch 15/100\n",
      "242/242 [==============================] - 0s 560us/step - loss: 0.6411 - val_loss: 0.6160\n",
      "Epoch 16/100\n",
      "242/242 [==============================] - 0s 589us/step - loss: 0.6326 - val_loss: 0.6094\n",
      "Epoch 17/100\n",
      "242/242 [==============================] - 0s 573us/step - loss: 0.6245 - val_loss: 0.6016\n",
      "Epoch 18/100\n",
      "242/242 [==============================] - 0s 565us/step - loss: 0.6167 - val_loss: 0.5956\n",
      "Epoch 19/100\n",
      "242/242 [==============================] - 0s 560us/step - loss: 0.6093 - val_loss: 0.5883\n",
      "Epoch 20/100\n",
      "242/242 [==============================] - 0s 581us/step - loss: 0.6022 - val_loss: 0.5825\n",
      "Epoch 21/100\n",
      "242/242 [==============================] - 0s 573us/step - loss: 0.5954 - val_loss: 0.5726\n",
      "Epoch 22/100\n",
      "242/242 [==============================] - 0s 573us/step - loss: 0.5888 - val_loss: 0.5667\n",
      "Epoch 23/100\n",
      "242/242 [==============================] - 0s 561us/step - loss: 0.5825 - val_loss: 0.5604\n",
      "Epoch 24/100\n",
      "242/242 [==============================] - 0s 610us/step - loss: 0.5763 - val_loss: 0.5561\n",
      "Epoch 25/100\n",
      "242/242 [==============================] - 0s 586us/step - loss: 0.5707 - val_loss: 0.5477\n",
      "Epoch 26/100\n",
      "242/242 [==============================] - 0s 573us/step - loss: 0.5650 - val_loss: 0.5394\n",
      "Epoch 27/100\n",
      "242/242 [==============================] - 0s 571us/step - loss: 0.5596 - val_loss: 0.5359\n",
      "Epoch 28/100\n",
      "242/242 [==============================] - 0s 577us/step - loss: 0.5546 - val_loss: 0.5276\n",
      "Epoch 29/100\n",
      "242/242 [==============================] - 0s 556us/step - loss: 0.5495 - val_loss: 0.5229\n",
      "Epoch 30/100\n",
      "242/242 [==============================] - 0s 560us/step - loss: 0.5448 - val_loss: 0.5181\n",
      "Epoch 31/100\n",
      "242/242 [==============================] - 0s 577us/step - loss: 0.5402 - val_loss: 0.5138\n",
      "Epoch 32/100\n",
      "242/242 [==============================] - 0s 593us/step - loss: 0.5358 - val_loss: 0.5082\n",
      "Epoch 33/100\n",
      "242/242 [==============================] - 0s 565us/step - loss: 0.5316 - val_loss: 0.5040\n",
      "Epoch 34/100\n",
      "242/242 [==============================] - 0s 569us/step - loss: 0.5275 - val_loss: 0.4994\n",
      "Epoch 35/100\n",
      "242/242 [==============================] - 0s 565us/step - loss: 0.5236 - val_loss: 0.4946\n",
      "Epoch 36/100\n",
      "242/242 [==============================] - 0s 565us/step - loss: 0.5198 - val_loss: 0.4914\n",
      "Epoch 37/100\n",
      "242/242 [==============================] - 0s 585us/step - loss: 0.5162 - val_loss: 0.4862\n",
      "Epoch 38/100\n",
      "242/242 [==============================] - 0s 581us/step - loss: 0.5126 - val_loss: 0.4836\n",
      "Epoch 39/100\n",
      "242/242 [==============================] - 0s 556us/step - loss: 0.5092 - val_loss: 0.4799\n",
      "Epoch 40/100\n",
      "242/242 [==============================] - 0s 569us/step - loss: 0.5059 - val_loss: 0.4764\n",
      "Epoch 41/100\n",
      "242/242 [==============================] - 0s 563us/step - loss: 0.5027 - val_loss: 0.4739\n",
      "Epoch 42/100\n",
      "242/242 [==============================] - 0s 560us/step - loss: 0.4997 - val_loss: 0.4705\n",
      "Epoch 43/100\n",
      "242/242 [==============================] - 0s 579us/step - loss: 0.4968 - val_loss: 0.4675\n",
      "Epoch 44/100\n",
      "242/242 [==============================] - 0s 585us/step - loss: 0.4939 - val_loss: 0.4651\n",
      "Epoch 45/100\n",
      "242/242 [==============================] - 0s 569us/step - loss: 0.4911 - val_loss: 0.4627\n",
      "Epoch 46/100\n",
      "242/242 [==============================] - 0s 631us/step - loss: 0.4885 - val_loss: 0.4599\n",
      "Epoch 47/100\n",
      "242/242 [==============================] - 0s 595us/step - loss: 0.4859 - val_loss: 0.4574\n",
      "Epoch 48/100\n",
      "242/242 [==============================] - 0s 569us/step - loss: 0.4834 - val_loss: 0.4549\n",
      "Epoch 49/100\n",
      "242/242 [==============================] - 0s 573us/step - loss: 0.4811 - val_loss: 0.4527\n",
      "Epoch 50/100\n",
      "242/242 [==============================] - 0s 569us/step - loss: 0.4787 - val_loss: 0.4505\n",
      "Epoch 51/100\n",
      "242/242 [==============================] - 0s 577us/step - loss: 0.4765 - val_loss: 0.4482\n",
      "Epoch 52/100\n",
      "242/242 [==============================] - 0s 570us/step - loss: 0.4743 - val_loss: 0.4457\n",
      "Epoch 53/100\n",
      "242/242 [==============================] - 0s 569us/step - loss: 0.4722 - val_loss: 0.4436\n",
      "Epoch 54/100\n",
      "242/242 [==============================] - 0s 581us/step - loss: 0.4701 - val_loss: 0.4416\n",
      "Epoch 55/100\n",
      "242/242 [==============================] - 0s 569us/step - loss: 0.4682 - val_loss: 0.4398\n",
      "Epoch 56/100\n",
      "242/242 [==============================] - 0s 573us/step - loss: 0.4662 - val_loss: 0.4378\n",
      "Epoch 57/100\n",
      "242/242 [==============================] - 0s 589us/step - loss: 0.4644 - val_loss: 0.4360\n",
      "Epoch 58/100\n",
      "242/242 [==============================] - 0s 577us/step - loss: 0.4626 - val_loss: 0.4343\n",
      "Epoch 59/100\n",
      "242/242 [==============================] - 0s 592us/step - loss: 0.4608 - val_loss: 0.4326\n",
      "Epoch 60/100\n",
      "242/242 [==============================] - 0s 571us/step - loss: 0.4591 - val_loss: 0.4310\n",
      "Epoch 61/100\n",
      "242/242 [==============================] - 0s 569us/step - loss: 0.4575 - val_loss: 0.4295\n",
      "Epoch 62/100\n",
      "242/242 [==============================] - 0s 569us/step - loss: 0.4559 - val_loss: 0.4281\n",
      "Epoch 63/100\n",
      "242/242 [==============================] - 0s 581us/step - loss: 0.4543 - val_loss: 0.4265\n",
      "Epoch 64/100\n",
      "242/242 [==============================] - 0s 573us/step - loss: 0.4528 - val_loss: 0.4252\n",
      "Epoch 65/100\n",
      "242/242 [==============================] - 0s 575us/step - loss: 0.4513 - val_loss: 0.4239\n",
      "Epoch 66/100\n",
      "242/242 [==============================] - 0s 572us/step - loss: 0.4498 - val_loss: 0.4224\n",
      "Epoch 67/100\n",
      "242/242 [==============================] - 0s 600us/step - loss: 0.4484 - val_loss: 0.4213\n",
      "Epoch 68/100\n",
      "242/242 [==============================] - 0s 585us/step - loss: 0.4471 - val_loss: 0.4206\n",
      "Epoch 69/100\n",
      "242/242 [==============================] - 0s 592us/step - loss: 0.4457 - val_loss: 0.4191\n",
      "Epoch 70/100\n",
      "242/242 [==============================] - 0s 577us/step - loss: 0.4444 - val_loss: 0.4180\n",
      "Epoch 71/100\n",
      "242/242 [==============================] - 0s 571us/step - loss: 0.4432 - val_loss: 0.4169\n",
      "Epoch 72/100\n",
      "242/242 [==============================] - 0s 577us/step - loss: 0.4419 - val_loss: 0.4160\n",
      "Epoch 73/100\n",
      "242/242 [==============================] - 0s 581us/step - loss: 0.4407 - val_loss: 0.4146\n",
      "Epoch 74/100\n",
      "242/242 [==============================] - 0s 574us/step - loss: 0.4395 - val_loss: 0.4139\n",
      "Epoch 75/100\n",
      "242/242 [==============================] - 0s 593us/step - loss: 0.4384 - val_loss: 0.4130\n",
      "Epoch 76/100\n",
      "242/242 [==============================] - 0s 585us/step - loss: 0.4372 - val_loss: 0.4119\n",
      "Epoch 77/100\n",
      "242/242 [==============================] - 0s 594us/step - loss: 0.4362 - val_loss: 0.4111\n",
      "Epoch 78/100\n",
      "242/242 [==============================] - 0s 577us/step - loss: 0.4352 - val_loss: 0.4106\n",
      "Epoch 79/100\n",
      "242/242 [==============================] - 0s 567us/step - loss: 0.4341 - val_loss: 0.4099\n",
      "Epoch 80/100\n",
      "242/242 [==============================] - 0s 573us/step - loss: 0.4331 - val_loss: 0.4090\n",
      "Epoch 81/100\n",
      "242/242 [==============================] - 0s 577us/step - loss: 0.4321 - val_loss: 0.4086\n",
      "Epoch 82/100\n",
      "242/242 [==============================] - 0s 573us/step - loss: 0.4312 - val_loss: 0.4089\n",
      "Epoch 83/100\n",
      "242/242 [==============================] - 0s 589us/step - loss: 0.4303 - val_loss: 0.4080\n",
      "Epoch 84/100\n",
      "242/242 [==============================] - 0s 598us/step - loss: 0.4293 - val_loss: 0.4073\n",
      "Epoch 85/100\n",
      "242/242 [==============================] - 0s 573us/step - loss: 0.4284 - val_loss: 0.4060\n",
      "Epoch 86/100\n",
      "242/242 [==============================] - 0s 565us/step - loss: 0.4275 - val_loss: 0.4063\n",
      "Epoch 87/100\n",
      "242/242 [==============================] - 0s 585us/step - loss: 0.4267 - val_loss: 0.4049\n",
      "Epoch 88/100\n",
      "242/242 [==============================] - 0s 585us/step - loss: 0.4259 - val_loss: 0.4037\n",
      "Epoch 89/100\n",
      "242/242 [==============================] - 0s 577us/step - loss: 0.4251 - val_loss: 0.4024\n",
      "Epoch 90/100\n",
      "242/242 [==============================] - 0s 556us/step - loss: 0.4242 - val_loss: 0.4025\n",
      "Epoch 91/100\n",
      "242/242 [==============================] - 0s 573us/step - loss: 0.4235 - val_loss: 0.4010\n"
     ]
    },
    {
     "name": "stdout",
     "output_type": "stream",
     "text": [
      "Epoch 92/100\n",
      "242/242 [==============================] - 0s 688us/step - loss: 0.4227 - val_loss: 0.4006\n",
      "Epoch 93/100\n",
      "242/242 [==============================] - 0s 558us/step - loss: 0.4219 - val_loss: 0.4004\n",
      "Epoch 94/100\n",
      "242/242 [==============================] - 0s 570us/step - loss: 0.4212 - val_loss: 0.3997\n",
      "Epoch 95/100\n",
      "242/242 [==============================] - 0s 563us/step - loss: 0.4205 - val_loss: 0.3992\n",
      "Epoch 96/100\n",
      "242/242 [==============================] - 0s 560us/step - loss: 0.4197 - val_loss: 0.3988\n",
      "Epoch 97/100\n",
      "242/242 [==============================] - 0s 577us/step - loss: 0.4190 - val_loss: 0.3979\n",
      "Epoch 98/100\n",
      "242/242 [==============================] - 0s 548us/step - loss: 0.4183 - val_loss: 0.3968\n",
      "Epoch 99/100\n",
      "242/242 [==============================] - 0s 563us/step - loss: 0.4176 - val_loss: 0.3983\n",
      "Epoch 100/100\n",
      "242/242 [==============================] - 0s 593us/step - loss: 0.4170 - val_loss: 0.3969\n",
      "121/121 [==============================] - 0s 338us/step - loss: 0.4252\n",
      "[CV] END learning_rate=0.00037078874137762145, n_hidden=1, n_neurons=51; total time=  14.4s\n",
      "Epoch 1/100\n",
      "242/242 [==============================] - 0s 872us/step - loss: 3.9665 - val_loss: 14.2647\n",
      "Epoch 2/100\n",
      "242/242 [==============================] - 0s 575us/step - loss: 2.0674 - val_loss: 17.6519\n",
      "Epoch 3/100\n",
      "242/242 [==============================] - 0s 565us/step - loss: 1.3965 - val_loss: 17.9204\n",
      "Epoch 4/100\n",
      "242/242 [==============================] - 0s 569us/step - loss: 1.1058 - val_loss: 16.5763\n",
      "Epoch 5/100\n",
      "242/242 [==============================] - 0s 565us/step - loss: 0.9582 - val_loss: 14.5937\n",
      "Epoch 6/100\n",
      "242/242 [==============================] - 0s 573us/step - loss: 0.8746 - val_loss: 12.6168\n",
      "Epoch 7/100\n",
      "242/242 [==============================] - 0s 589us/step - loss: 0.8231 - val_loss: 10.8348\n",
      "Epoch 8/100\n",
      "242/242 [==============================] - 0s 577us/step - loss: 0.7882 - val_loss: 9.2089\n",
      "Epoch 9/100\n",
      "242/242 [==============================] - 0s 560us/step - loss: 0.7621 - val_loss: 7.8337\n",
      "Epoch 10/100\n",
      "242/242 [==============================] - 0s 578us/step - loss: 0.7410 - val_loss: 6.6503\n",
      "Epoch 11/100\n",
      "242/242 [==============================] - 0s 581us/step - loss: 0.7229 - val_loss: 5.6413\n",
      "Epoch 12/100\n",
      "242/242 [==============================] - 0s 574us/step - loss: 0.7067 - val_loss: 4.7267\n",
      "Epoch 13/100\n",
      "242/242 [==============================] - 0s 589us/step - loss: 0.6921 - val_loss: 3.9819\n",
      "Epoch 14/100\n",
      "242/242 [==============================] - 0s 565us/step - loss: 0.6786 - val_loss: 3.3573\n",
      "Epoch 15/100\n",
      "242/242 [==============================] - 0s 560us/step - loss: 0.6660 - val_loss: 2.8087\n",
      "Epoch 16/100\n",
      "242/242 [==============================] - 0s 571us/step - loss: 0.6542 - val_loss: 2.3628\n",
      "Epoch 17/100\n",
      "242/242 [==============================] - 0s 572us/step - loss: 0.6431 - val_loss: 1.9732\n",
      "Epoch 18/100\n",
      "242/242 [==============================] - 0s 560us/step - loss: 0.6327 - val_loss: 1.6502\n",
      "Epoch 19/100\n",
      "242/242 [==============================] - 0s 577us/step - loss: 0.6228 - val_loss: 1.3794\n",
      "Epoch 20/100\n",
      "242/242 [==============================] - 0s 576us/step - loss: 0.6135 - val_loss: 1.1636\n",
      "Epoch 21/100\n",
      "242/242 [==============================] - 0s 565us/step - loss: 0.6047 - val_loss: 0.9777\n",
      "Epoch 22/100\n",
      "242/242 [==============================] - 0s 563us/step - loss: 0.5964 - val_loss: 0.8380\n",
      "Epoch 23/100\n",
      "242/242 [==============================] - 0s 569us/step - loss: 0.5885 - val_loss: 0.7262\n",
      "Epoch 24/100\n",
      "242/242 [==============================] - 0s 569us/step - loss: 0.5810 - val_loss: 0.6465\n",
      "Epoch 25/100\n",
      "242/242 [==============================] - 0s 587us/step - loss: 0.5738 - val_loss: 0.5877\n",
      "Epoch 26/100\n",
      "242/242 [==============================] - 0s 572us/step - loss: 0.5670 - val_loss: 0.5509\n",
      "Epoch 27/100\n",
      "242/242 [==============================] - 0s 609us/step - loss: 0.5605 - val_loss: 0.5319\n",
      "Epoch 28/100\n",
      "242/242 [==============================] - 0s 596us/step - loss: 0.5543 - val_loss: 0.5279\n",
      "Epoch 29/100\n",
      "242/242 [==============================] - 0s 572us/step - loss: 0.5483 - val_loss: 0.5347\n",
      "Epoch 30/100\n",
      "242/242 [==============================] - 0s 584us/step - loss: 0.5428 - val_loss: 0.5533\n",
      "Epoch 31/100\n",
      "242/242 [==============================] - 0s 561us/step - loss: 0.5374 - val_loss: 0.5828\n",
      "Epoch 32/100\n",
      "242/242 [==============================] - 0s 565us/step - loss: 0.5323 - val_loss: 0.6162\n",
      "Epoch 33/100\n",
      "242/242 [==============================] - 0s 564us/step - loss: 0.5274 - val_loss: 0.6565\n",
      "Epoch 34/100\n",
      "242/242 [==============================] - 0s 576us/step - loss: 0.5227 - val_loss: 0.6944\n",
      "Epoch 35/100\n",
      "242/242 [==============================] - 0s 583us/step - loss: 0.5182 - val_loss: 0.7370\n",
      "Epoch 36/100\n",
      "242/242 [==============================] - 0s 575us/step - loss: 0.5139 - val_loss: 0.7881\n",
      "Epoch 37/100\n",
      "242/242 [==============================] - 0s 590us/step - loss: 0.5098 - val_loss: 0.8358\n",
      "Epoch 38/100\n",
      "242/242 [==============================] - 0s 574us/step - loss: 0.5058 - val_loss: 0.8856\n",
      "121/121 [==============================] - 0s 354us/step - loss: 0.5197\n",
      "[CV] END learning_rate=0.00037078874137762145, n_hidden=1, n_neurons=51; total time=   5.6s\n",
      "Epoch 1/100\n",
      "242/242 [==============================] - 0s 848us/step - loss: 4.7382 - val_loss: 7.1880\n",
      "Epoch 2/100\n",
      "242/242 [==============================] - 0s 569us/step - loss: 2.5680 - val_loss: 4.4809\n",
      "Epoch 3/100\n",
      "242/242 [==============================] - 0s 573us/step - loss: 1.6134 - val_loss: 2.2749\n",
      "Epoch 4/100\n",
      "242/242 [==============================] - 0s 566us/step - loss: 1.1515 - val_loss: 1.3999\n",
      "Epoch 5/100\n",
      "242/242 [==============================] - 0s 568us/step - loss: 0.9270 - val_loss: 0.9174\n",
      "Epoch 6/100\n",
      "242/242 [==============================] - 0s 572us/step - loss: 0.8120 - val_loss: 0.7630\n",
      "Epoch 7/100\n",
      "242/242 [==============================] - 0s 569us/step - loss: 0.7503 - val_loss: 0.7085\n",
      "Epoch 8/100\n",
      "242/242 [==============================] - 0s 643us/step - loss: 0.7147 - val_loss: 0.6973\n",
      "Epoch 9/100\n",
      "242/242 [==============================] - 0s 584us/step - loss: 0.6927 - val_loss: 0.6716\n",
      "Epoch 10/100\n",
      "242/242 [==============================] - 0s 571us/step - loss: 0.6766 - val_loss: 0.6475\n",
      "Epoch 11/100\n",
      "242/242 [==============================] - 0s 563us/step - loss: 0.6636 - val_loss: 0.6500\n",
      "Epoch 12/100\n",
      "242/242 [==============================] - 0s 577us/step - loss: 0.6533 - val_loss: 0.6334\n",
      "Epoch 13/100\n",
      "242/242 [==============================] - 0s 572us/step - loss: 0.6435 - val_loss: 0.6176\n",
      "Epoch 14/100\n",
      "242/242 [==============================] - 0s 556us/step - loss: 0.6346 - val_loss: 0.6100\n",
      "Epoch 15/100\n",
      "242/242 [==============================] - 0s 567us/step - loss: 0.6264 - val_loss: 0.5993\n",
      "Epoch 16/100\n",
      "242/242 [==============================] - 0s 582us/step - loss: 0.6186 - val_loss: 0.5986\n",
      "Epoch 17/100\n",
      "242/242 [==============================] - 0s 580us/step - loss: 0.6114 - val_loss: 0.5889\n",
      "Epoch 18/100\n",
      "242/242 [==============================] - 0s 579us/step - loss: 0.6043 - val_loss: 0.5808\n",
      "Epoch 19/100\n",
      "242/242 [==============================] - 0s 579us/step - loss: 0.5974 - val_loss: 0.5837\n",
      "Epoch 20/100\n",
      "242/242 [==============================] - 0s 585us/step - loss: 0.5913 - val_loss: 0.5710\n",
      "Epoch 21/100\n",
      "242/242 [==============================] - 0s 589us/step - loss: 0.5850 - val_loss: 0.5625\n",
      "Epoch 22/100\n",
      "242/242 [==============================] - 0s 569us/step - loss: 0.5790 - val_loss: 0.5601\n",
      "Epoch 23/100\n",
      "242/242 [==============================] - 0s 565us/step - loss: 0.5733 - val_loss: 0.5487\n",
      "Epoch 24/100\n",
      "242/242 [==============================] - 0s 573us/step - loss: 0.5677 - val_loss: 0.5412\n",
      "Epoch 25/100\n",
      "242/242 [==============================] - 0s 576us/step - loss: 0.5624 - val_loss: 0.5375\n",
      "Epoch 26/100\n",
      "242/242 [==============================] - 0s 577us/step - loss: 0.5573 - val_loss: 0.5308\n",
      "Epoch 27/100\n",
      "242/242 [==============================] - 0s 576us/step - loss: 0.5523 - val_loss: 0.5331\n",
      "Epoch 28/100\n",
      "242/242 [==============================] - 0s 567us/step - loss: 0.5477 - val_loss: 0.5275\n",
      "Epoch 29/100\n"
     ]
    },
    {
     "name": "stdout",
     "output_type": "stream",
     "text": [
      "242/242 [==============================] - 0s 600us/step - loss: 0.5431 - val_loss: 0.5243\n",
      "Epoch 30/100\n",
      "242/242 [==============================] - 0s 575us/step - loss: 0.5387 - val_loss: 0.5186\n",
      "Epoch 31/100\n",
      "242/242 [==============================] - 0s 559us/step - loss: 0.5344 - val_loss: 0.5167\n",
      "Epoch 32/100\n",
      "242/242 [==============================] - 0s 581us/step - loss: 0.5303 - val_loss: 0.5124\n",
      "Epoch 33/100\n",
      "242/242 [==============================] - 0s 635us/step - loss: 0.5263 - val_loss: 0.5091\n",
      "Epoch 34/100\n",
      "242/242 [==============================] - 0s 569us/step - loss: 0.5226 - val_loss: 0.5040\n",
      "Epoch 35/100\n",
      "242/242 [==============================] - 0s 573us/step - loss: 0.5189 - val_loss: 0.5025\n",
      "Epoch 36/100\n",
      "242/242 [==============================] - 0s 572us/step - loss: 0.5154 - val_loss: 0.4915\n",
      "Epoch 37/100\n",
      "242/242 [==============================] - 0s 559us/step - loss: 0.5120 - val_loss: 0.4859\n",
      "Epoch 38/100\n",
      "242/242 [==============================] - 0s 567us/step - loss: 0.5086 - val_loss: 0.4859\n",
      "Epoch 39/100\n",
      "242/242 [==============================] - 0s 575us/step - loss: 0.5054 - val_loss: 0.4816\n",
      "Epoch 40/100\n",
      "242/242 [==============================] - 0s 567us/step - loss: 0.5024 - val_loss: 0.4785\n",
      "Epoch 41/100\n",
      "242/242 [==============================] - 0s 567us/step - loss: 0.4993 - val_loss: 0.4761\n",
      "Epoch 42/100\n",
      "242/242 [==============================] - 0s 581us/step - loss: 0.4965 - val_loss: 0.4719\n",
      "Epoch 43/100\n",
      "242/242 [==============================] - 0s 565us/step - loss: 0.4937 - val_loss: 0.4686\n",
      "Epoch 44/100\n",
      "242/242 [==============================] - 0s 577us/step - loss: 0.4910 - val_loss: 0.4669\n",
      "Epoch 45/100\n",
      "242/242 [==============================] - 0s 565us/step - loss: 0.4884 - val_loss: 0.4659\n",
      "Epoch 46/100\n",
      "242/242 [==============================] - 0s 571us/step - loss: 0.4860 - val_loss: 0.4631\n",
      "Epoch 47/100\n",
      "242/242 [==============================] - 0s 565us/step - loss: 0.4835 - val_loss: 0.4571\n",
      "Epoch 48/100\n",
      "242/242 [==============================] - 0s 561us/step - loss: 0.4812 - val_loss: 0.4557\n",
      "Epoch 49/100\n",
      "242/242 [==============================] - 0s 573us/step - loss: 0.4789 - val_loss: 0.4534\n",
      "Epoch 50/100\n",
      "242/242 [==============================] - 0s 586us/step - loss: 0.4767 - val_loss: 0.4512\n",
      "Epoch 51/100\n",
      "242/242 [==============================] - 0s 569us/step - loss: 0.4745 - val_loss: 0.4486\n",
      "Epoch 52/100\n",
      "242/242 [==============================] - 0s 560us/step - loss: 0.4725 - val_loss: 0.4467\n",
      "Epoch 53/100\n",
      "242/242 [==============================] - 0s 569us/step - loss: 0.4705 - val_loss: 0.4442\n",
      "Epoch 54/100\n",
      "242/242 [==============================] - 0s 563us/step - loss: 0.4686 - val_loss: 0.4417\n",
      "Epoch 55/100\n",
      "242/242 [==============================] - 0s 577us/step - loss: 0.4666 - val_loss: 0.4396\n",
      "Epoch 56/100\n",
      "242/242 [==============================] - 0s 576us/step - loss: 0.4648 - val_loss: 0.4376\n",
      "Epoch 57/100\n",
      "242/242 [==============================] - 0s 569us/step - loss: 0.4631 - val_loss: 0.4359\n",
      "Epoch 58/100\n",
      "242/242 [==============================] - 0s 580us/step - loss: 0.4614 - val_loss: 0.4346\n",
      "Epoch 59/100\n",
      "242/242 [==============================] - 0s 577us/step - loss: 0.4597 - val_loss: 0.4327\n",
      "Epoch 60/100\n",
      "242/242 [==============================] - 0s 569us/step - loss: 0.4581 - val_loss: 0.4317\n",
      "Epoch 61/100\n",
      "242/242 [==============================] - 0s 565us/step - loss: 0.4566 - val_loss: 0.4294\n",
      "Epoch 62/100\n",
      "242/242 [==============================] - 0s 577us/step - loss: 0.4551 - val_loss: 0.4279\n",
      "Epoch 63/100\n",
      "242/242 [==============================] - 0s 569us/step - loss: 0.4537 - val_loss: 0.4265\n",
      "Epoch 64/100\n",
      "242/242 [==============================] - 0s 565us/step - loss: 0.4522 - val_loss: 0.4251\n",
      "Epoch 65/100\n",
      "242/242 [==============================] - 0s 639us/step - loss: 0.4509 - val_loss: 0.4238\n",
      "Epoch 66/100\n",
      "242/242 [==============================] - 0s 563us/step - loss: 0.4495 - val_loss: 0.4228\n",
      "Epoch 67/100\n",
      "242/242 [==============================] - 0s 573us/step - loss: 0.4483 - val_loss: 0.4212\n",
      "Epoch 68/100\n",
      "242/242 [==============================] - 0s 580us/step - loss: 0.4470 - val_loss: 0.4199\n",
      "Epoch 69/100\n",
      "242/242 [==============================] - 0s 573us/step - loss: 0.4458 - val_loss: 0.4189\n",
      "Epoch 70/100\n",
      "242/242 [==============================] - 0s 583us/step - loss: 0.4446 - val_loss: 0.4176\n",
      "Epoch 71/100\n",
      "242/242 [==============================] - 0s 576us/step - loss: 0.4434 - val_loss: 0.4168\n",
      "Epoch 72/100\n",
      "242/242 [==============================] - 0s 589us/step - loss: 0.4424 - val_loss: 0.4155\n",
      "Epoch 73/100\n",
      "242/242 [==============================] - 0s 560us/step - loss: 0.4412 - val_loss: 0.4142\n",
      "Epoch 74/100\n",
      "242/242 [==============================] - 0s 575us/step - loss: 0.4402 - val_loss: 0.4133\n",
      "Epoch 75/100\n",
      "242/242 [==============================] - 0s 584us/step - loss: 0.4391 - val_loss: 0.4124\n",
      "Epoch 76/100\n",
      "242/242 [==============================] - 0s 585us/step - loss: 0.4381 - val_loss: 0.4121\n",
      "Epoch 77/100\n",
      "242/242 [==============================] - 0s 567us/step - loss: 0.4371 - val_loss: 0.4107\n",
      "Epoch 78/100\n",
      "242/242 [==============================] - 0s 569us/step - loss: 0.4361 - val_loss: 0.4092\n",
      "Epoch 79/100\n",
      "242/242 [==============================] - 0s 561us/step - loss: 0.4351 - val_loss: 0.4087\n",
      "Epoch 80/100\n",
      "242/242 [==============================] - 0s 569us/step - loss: 0.4342 - val_loss: 0.4080\n",
      "Epoch 81/100\n",
      "242/242 [==============================] - 0s 565us/step - loss: 0.4333 - val_loss: 0.4067\n",
      "Epoch 82/100\n",
      "242/242 [==============================] - 0s 559us/step - loss: 0.4324 - val_loss: 0.4057\n",
      "Epoch 83/100\n",
      "242/242 [==============================] - 0s 565us/step - loss: 0.4315 - val_loss: 0.4050\n",
      "Epoch 84/100\n",
      "242/242 [==============================] - 0s 573us/step - loss: 0.4307 - val_loss: 0.4043\n",
      "Epoch 85/100\n",
      "242/242 [==============================] - 0s 569us/step - loss: 0.4298 - val_loss: 0.4034\n",
      "Epoch 86/100\n",
      "242/242 [==============================] - 0s 573us/step - loss: 0.4290 - val_loss: 0.4025\n",
      "Epoch 87/100\n",
      "242/242 [==============================] - 0s 565us/step - loss: 0.4282 - val_loss: 0.4026\n",
      "Epoch 88/100\n",
      "242/242 [==============================] - 0s 557us/step - loss: 0.4274 - val_loss: 0.4011\n",
      "Epoch 89/100\n",
      "242/242 [==============================] - 0s 568us/step - loss: 0.4266 - val_loss: 0.4015\n",
      "Epoch 90/100\n",
      "242/242 [==============================] - 0s 571us/step - loss: 0.4259 - val_loss: 0.4003\n",
      "Epoch 91/100\n",
      "242/242 [==============================] - 0s 584us/step - loss: 0.4251 - val_loss: 0.3992\n",
      "Epoch 92/100\n",
      "242/242 [==============================] - 0s 582us/step - loss: 0.4244 - val_loss: 0.3983\n",
      "Epoch 93/100\n",
      "242/242 [==============================] - 0s 596us/step - loss: 0.4237 - val_loss: 0.3977\n",
      "Epoch 94/100\n",
      "242/242 [==============================] - 0s 581us/step - loss: 0.4230 - val_loss: 0.3973\n",
      "Epoch 95/100\n",
      "242/242 [==============================] - 0s 580us/step - loss: 0.4222 - val_loss: 0.3972\n",
      "Epoch 96/100\n",
      "242/242 [==============================] - 0s 581us/step - loss: 0.4216 - val_loss: 0.3967\n",
      "Epoch 97/100\n",
      "242/242 [==============================] - 0s 590us/step - loss: 0.4209 - val_loss: 0.3965\n",
      "Epoch 98/100\n",
      "242/242 [==============================] - 0s 560us/step - loss: 0.4202 - val_loss: 0.3949\n",
      "Epoch 99/100\n",
      "242/242 [==============================] - 0s 577us/step - loss: 0.4196 - val_loss: 0.3944\n",
      "Epoch 100/100\n",
      "242/242 [==============================] - 0s 592us/step - loss: 0.4190 - val_loss: 0.3943\n",
      "121/121 [==============================] - 0s 354us/step - loss: 0.4218\n",
      "[CV] END learning_rate=0.00037078874137762145, n_hidden=1, n_neurons=51; total time=  14.5s\n",
      "Epoch 1/100\n",
      "242/242 [==============================] - 0s 918us/step - loss: 1.6618 - val_loss: 1.8499\n",
      "Epoch 2/100\n",
      "242/242 [==============================] - 0s 617us/step - loss: 0.6841 - val_loss: 0.6056\n",
      "Epoch 3/100\n",
      "242/242 [==============================] - 0s 614us/step - loss: 0.5964 - val_loss: 0.5409\n",
      "Epoch 4/100\n",
      "242/242 [==============================] - 0s 616us/step - loss: 0.5447 - val_loss: 0.4957\n",
      "Epoch 5/100\n",
      "242/242 [==============================] - 0s 622us/step - loss: 0.5048 - val_loss: 0.4613\n",
      "Epoch 6/100\n"
     ]
    },
    {
     "name": "stdout",
     "output_type": "stream",
     "text": [
      "242/242 [==============================] - 0s 621us/step - loss: 0.4754 - val_loss: 0.4689\n",
      "Epoch 7/100\n",
      "242/242 [==============================] - 0s 614us/step - loss: 0.4536 - val_loss: 0.4310\n",
      "Epoch 8/100\n",
      "242/242 [==============================] - 0s 706us/step - loss: 0.4366 - val_loss: 0.4383\n",
      "Epoch 9/100\n",
      "242/242 [==============================] - 0s 604us/step - loss: 0.4242 - val_loss: 0.4248\n",
      "Epoch 10/100\n",
      "242/242 [==============================] - 0s 625us/step - loss: 0.4143 - val_loss: 0.4375\n",
      "Epoch 11/100\n",
      "242/242 [==============================] - 0s 647us/step - loss: 0.4067 - val_loss: 0.3995\n",
      "Epoch 12/100\n",
      "242/242 [==============================] - 0s 631us/step - loss: 0.3999 - val_loss: 0.3947\n",
      "Epoch 13/100\n",
      "242/242 [==============================] - 0s 626us/step - loss: 0.3942 - val_loss: 0.4215\n",
      "Epoch 14/100\n",
      "242/242 [==============================] - 0s 655us/step - loss: 0.3897 - val_loss: 0.4458\n",
      "Epoch 15/100\n",
      "242/242 [==============================] - 0s 619us/step - loss: 0.3855 - val_loss: 0.4176\n",
      "Epoch 16/100\n",
      "242/242 [==============================] - 0s 614us/step - loss: 0.3818 - val_loss: 0.4175\n",
      "Epoch 17/100\n",
      "242/242 [==============================] - 0s 622us/step - loss: 0.3783 - val_loss: 0.4419\n",
      "Epoch 18/100\n",
      "242/242 [==============================] - 0s 614us/step - loss: 0.3755 - val_loss: 0.4016\n",
      "Epoch 19/100\n",
      "242/242 [==============================] - 0s 618us/step - loss: 0.3720 - val_loss: 0.4225\n",
      "Epoch 20/100\n",
      "242/242 [==============================] - 0s 619us/step - loss: 0.3699 - val_loss: 0.4122\n",
      "Epoch 21/100\n",
      "242/242 [==============================] - 0s 620us/step - loss: 0.3673 - val_loss: 0.4206\n",
      "Epoch 22/100\n",
      "242/242 [==============================] - 0s 632us/step - loss: 0.3652 - val_loss: 0.4014\n",
      "121/121 [==============================] - 0s 375us/step - loss: 0.3824\n",
      "[CV] END learning_rate=0.0016535051383872363, n_hidden=2, n_neurons=70; total time=   3.7s\n",
      "Epoch 1/100\n",
      "242/242 [==============================] - 0s 940us/step - loss: 1.9727 - val_loss: 9.4104\n",
      "Epoch 2/100\n",
      "242/242 [==============================] - 0s 620us/step - loss: 0.7668 - val_loss: 3.2179\n",
      "Epoch 3/100\n",
      "242/242 [==============================] - 0s 620us/step - loss: 0.6602 - val_loss: 0.9574\n",
      "Epoch 4/100\n",
      "242/242 [==============================] - 0s 618us/step - loss: 0.6042 - val_loss: 0.5583\n",
      "Epoch 5/100\n",
      "242/242 [==============================] - 0s 651us/step - loss: 0.5601 - val_loss: 0.8146\n",
      "Epoch 6/100\n",
      "242/242 [==============================] - 0s 643us/step - loss: 0.5247 - val_loss: 1.0712\n",
      "Epoch 7/100\n",
      "242/242 [==============================] - 0s 614us/step - loss: 0.4962 - val_loss: 1.4011\n",
      "Epoch 8/100\n",
      "242/242 [==============================] - 0s 623us/step - loss: 0.4732 - val_loss: 1.5949\n",
      "Epoch 9/100\n",
      "242/242 [==============================] - 0s 615us/step - loss: 0.4551 - val_loss: 1.5080\n",
      "Epoch 10/100\n",
      "242/242 [==============================] - 0s 612us/step - loss: 0.4414 - val_loss: 1.4165\n",
      "Epoch 11/100\n",
      "242/242 [==============================] - 0s 631us/step - loss: 0.4299 - val_loss: 1.2768\n",
      "Epoch 12/100\n",
      "242/242 [==============================] - 0s 610us/step - loss: 0.4206 - val_loss: 1.1615\n",
      "Epoch 13/100\n",
      "242/242 [==============================] - 0s 598us/step - loss: 0.4132 - val_loss: 1.0189\n",
      "Epoch 14/100\n",
      "242/242 [==============================] - 0s 593us/step - loss: 0.4071 - val_loss: 0.6850\n",
      "121/121 [==============================] - 0s 363us/step - loss: 0.4243\n",
      "[CV] END learning_rate=0.0016535051383872363, n_hidden=2, n_neurons=70; total time=   2.4s\n",
      "Epoch 1/100\n",
      "242/242 [==============================] - ETA: 0s - loss: 1.7919WARNING:tensorflow:Callbacks method `on_test_batch_end` is slow compared to the batch time (batch time: 0.0000s vs `on_test_batch_end` time: 0.0010s). Check your callbacks.\n",
      "242/242 [==============================] - 0s 910us/step - loss: 1.7919 - val_loss: 1.3486\n",
      "Epoch 2/100\n",
      "242/242 [==============================] - 0s 598us/step - loss: 0.6894 - val_loss: 0.6096\n",
      "Epoch 3/100\n",
      "242/242 [==============================] - 0s 606us/step - loss: 0.6148 - val_loss: 0.5617\n",
      "Epoch 4/100\n",
      "242/242 [==============================] - 0s 595us/step - loss: 0.5746 - val_loss: 0.5285\n",
      "Epoch 5/100\n",
      "242/242 [==============================] - 0s 620us/step - loss: 0.5407 - val_loss: 0.5029\n",
      "Epoch 6/100\n",
      "242/242 [==============================] - 0s 633us/step - loss: 0.5135 - val_loss: 0.4783\n",
      "Epoch 7/100\n",
      "242/242 [==============================] - 0s 617us/step - loss: 0.4903 - val_loss: 0.4483\n",
      "Epoch 8/100\n",
      "242/242 [==============================] - 0s 631us/step - loss: 0.4724 - val_loss: 0.4335\n",
      "Epoch 9/100\n",
      "242/242 [==============================] - 0s 666us/step - loss: 0.4573 - val_loss: 0.4553\n",
      "Epoch 10/100\n",
      "242/242 [==============================] - 0s 631us/step - loss: 0.4457 - val_loss: 0.4091\n",
      "Epoch 11/100\n",
      "242/242 [==============================] - 0s 629us/step - loss: 0.4359 - val_loss: 0.4300\n",
      "Epoch 12/100\n",
      "242/242 [==============================] - 0s 619us/step - loss: 0.4274 - val_loss: 0.4173\n",
      "Epoch 13/100\n",
      "242/242 [==============================] - 0s 630us/step - loss: 0.4196 - val_loss: 0.3870\n",
      "Epoch 14/100\n",
      "242/242 [==============================] - 0s 626us/step - loss: 0.4144 - val_loss: 0.4552\n",
      "Epoch 15/100\n",
      "242/242 [==============================] - 0s 635us/step - loss: 0.4096 - val_loss: 0.3793\n",
      "Epoch 16/100\n",
      "242/242 [==============================] - 0s 643us/step - loss: 0.4041 - val_loss: 0.4106\n",
      "Epoch 17/100\n",
      "242/242 [==============================] - 0s 618us/step - loss: 0.4006 - val_loss: 0.3714\n",
      "Epoch 18/100\n",
      "242/242 [==============================] - 0s 647us/step - loss: 0.3966 - val_loss: 0.3782\n",
      "Epoch 19/100\n",
      "242/242 [==============================] - 0s 635us/step - loss: 0.3933 - val_loss: 0.4079\n",
      "Epoch 20/100\n",
      "242/242 [==============================] - 0s 639us/step - loss: 0.3896 - val_loss: 0.3753\n",
      "Epoch 21/100\n",
      "242/242 [==============================] - 0s 651us/step - loss: 0.3873 - val_loss: 0.3710\n",
      "Epoch 22/100\n",
      "242/242 [==============================] - 0s 626us/step - loss: 0.3848 - val_loss: 0.3634\n",
      "Epoch 23/100\n",
      "242/242 [==============================] - 0s 602us/step - loss: 0.3821 - val_loss: 0.3600\n",
      "Epoch 24/100\n",
      "242/242 [==============================] - 0s 643us/step - loss: 0.3788 - val_loss: 0.4176\n",
      "Epoch 25/100\n",
      "242/242 [==============================] - 0s 635us/step - loss: 0.3780 - val_loss: 0.3502\n",
      "Epoch 26/100\n",
      "242/242 [==============================] - 0s 622us/step - loss: 0.3750 - val_loss: 0.3501\n",
      "Epoch 27/100\n",
      "242/242 [==============================] - 0s 622us/step - loss: 0.3728 - val_loss: 0.4235\n",
      "Epoch 28/100\n",
      "242/242 [==============================] - 0s 680us/step - loss: 0.3725 - val_loss: 0.3543\n",
      "Epoch 29/100\n",
      "242/242 [==============================] - 0s 643us/step - loss: 0.3690 - val_loss: 0.4418\n",
      "Epoch 30/100\n",
      "242/242 [==============================] - 0s 617us/step - loss: 0.3693 - val_loss: 0.3562\n",
      "Epoch 31/100\n",
      "242/242 [==============================] - 0s 629us/step - loss: 0.3662 - val_loss: 0.3544\n",
      "Epoch 32/100\n",
      "242/242 [==============================] - 0s 631us/step - loss: 0.3648 - val_loss: 0.3916\n",
      "Epoch 33/100\n",
      "242/242 [==============================] - 0s 629us/step - loss: 0.3630 - val_loss: 0.3669\n",
      "Epoch 34/100\n",
      "242/242 [==============================] - 0s 641us/step - loss: 0.3618 - val_loss: 0.4061\n",
      "Epoch 35/100\n",
      "242/242 [==============================] - 0s 626us/step - loss: 0.3616 - val_loss: 0.3465\n",
      "Epoch 36/100\n",
      "242/242 [==============================] - 0s 625us/step - loss: 0.3591 - val_loss: 0.3461\n",
      "Epoch 37/100\n",
      "242/242 [==============================] - 0s 626us/step - loss: 0.3586 - val_loss: 0.3364\n",
      "Epoch 38/100\n",
      "242/242 [==============================] - 0s 618us/step - loss: 0.3567 - val_loss: 0.4129\n",
      "Epoch 39/100\n",
      "242/242 [==============================] - 0s 619us/step - loss: 0.3563 - val_loss: 0.3341\n",
      "Epoch 40/100\n",
      "242/242 [==============================] - 0s 642us/step - loss: 0.3543 - val_loss: 0.3594\n",
      "Epoch 41/100\n",
      "242/242 [==============================] - 0s 612us/step - loss: 0.3530 - val_loss: 0.3763\n",
      "Epoch 42/100\n",
      "242/242 [==============================] - 0s 606us/step - loss: 0.3523 - val_loss: 0.3708\n",
      "Epoch 43/100\n"
     ]
    },
    {
     "name": "stdout",
     "output_type": "stream",
     "text": [
      "242/242 [==============================] - 0s 614us/step - loss: 0.3509 - val_loss: 0.3321\n",
      "Epoch 44/100\n",
      "242/242 [==============================] - 0s 606us/step - loss: 0.3501 - val_loss: 0.3779\n",
      "Epoch 45/100\n",
      "242/242 [==============================] - 0s 615us/step - loss: 0.3495 - val_loss: 0.3431\n",
      "Epoch 46/100\n",
      "242/242 [==============================] - 0s 622us/step - loss: 0.3482 - val_loss: 0.3652\n",
      "Epoch 47/100\n",
      "242/242 [==============================] - 0s 639us/step - loss: 0.3472 - val_loss: 0.3298\n",
      "Epoch 48/100\n",
      "242/242 [==============================] - 0s 642us/step - loss: 0.3468 - val_loss: 0.3285\n",
      "Epoch 49/100\n",
      "242/242 [==============================] - 0s 703us/step - loss: 0.3451 - val_loss: 0.4189\n",
      "Epoch 50/100\n",
      "242/242 [==============================] - 0s 633us/step - loss: 0.3456 - val_loss: 0.3430\n",
      "Epoch 51/100\n",
      "242/242 [==============================] - 0s 658us/step - loss: 0.3438 - val_loss: 0.3874\n",
      "Epoch 52/100\n",
      "242/242 [==============================] - 0s 618us/step - loss: 0.3439 - val_loss: 0.3454\n",
      "Epoch 53/100\n",
      "242/242 [==============================] - 0s 643us/step - loss: 0.3431 - val_loss: 0.3257\n",
      "Epoch 54/100\n",
      "242/242 [==============================] - 0s 626us/step - loss: 0.3423 - val_loss: 0.3245\n",
      "Epoch 55/100\n",
      "242/242 [==============================] - 0s 664us/step - loss: 0.3412 - val_loss: 0.3274\n",
      "Epoch 56/100\n",
      "242/242 [==============================] - 0s 629us/step - loss: 0.3401 - val_loss: 0.3535\n",
      "Epoch 57/100\n",
      "242/242 [==============================] - 0s 688us/step - loss: 0.3400 - val_loss: 0.3654\n",
      "Epoch 58/100\n",
      "242/242 [==============================] - 0s 729us/step - loss: 0.3398 - val_loss: 0.3352\n",
      "Epoch 59/100\n",
      "242/242 [==============================] - 0s 716us/step - loss: 0.3386 - val_loss: 0.3516\n",
      "Epoch 60/100\n",
      "242/242 [==============================] - 0s 682us/step - loss: 0.3383 - val_loss: 0.3213\n",
      "Epoch 61/100\n",
      "242/242 [==============================] - 0s 709us/step - loss: 0.3374 - val_loss: 0.3286\n",
      "Epoch 62/100\n",
      "242/242 [==============================] - 0s 626us/step - loss: 0.3365 - val_loss: 0.3647\n",
      "Epoch 63/100\n",
      "242/242 [==============================] - 0s 704us/step - loss: 0.3369 - val_loss: 0.3222\n",
      "Epoch 64/100\n",
      "242/242 [==============================] - 0s 658us/step - loss: 0.3359 - val_loss: 0.3349\n",
      "Epoch 65/100\n",
      "242/242 [==============================] - 0s 650us/step - loss: 0.3354 - val_loss: 0.3299\n",
      "Epoch 66/100\n",
      "242/242 [==============================] - 0s 680us/step - loss: 0.3345 - val_loss: 0.3779\n",
      "Epoch 67/100\n",
      "242/242 [==============================] - 0s 713us/step - loss: 0.3345 - val_loss: 0.3263\n",
      "Epoch 68/100\n",
      "242/242 [==============================] - 0s 655us/step - loss: 0.3335 - val_loss: 0.3791\n",
      "Epoch 69/100\n",
      "242/242 [==============================] - 0s 624us/step - loss: 0.3331 - val_loss: 0.3308\n",
      "Epoch 70/100\n",
      "242/242 [==============================] - 0s 614us/step - loss: 0.3321 - val_loss: 0.3836\n",
      "121/121 [==============================] - 0s 437us/step - loss: 0.3344\n",
      "[CV] END learning_rate=0.0016535051383872363, n_hidden=2, n_neurons=70; total time=  11.3s\n",
      "Epoch 1/100\n",
      "242/242 [==============================] - 0s 800us/step - loss: 1.3543 - val_loss: 278.0078\n",
      "Epoch 2/100\n",
      "242/242 [==============================] - 0s 552us/step - loss: 2.0067 - val_loss: 468.5058\n",
      "Epoch 3/100\n",
      "242/242 [==============================] - 0s 634us/step - loss: 5.7017 - val_loss: 3357.5918\n",
      "Epoch 4/100\n",
      "242/242 [==============================] - 0s 618us/step - loss: 10.6236 - val_loss: 10779.4434\n",
      "Epoch 5/100\n",
      "242/242 [==============================] - 0s 675us/step - loss: 48.7160 - val_loss: 54721.0195\n",
      "Epoch 6/100\n",
      "242/242 [==============================] - 0s 550us/step - loss: 2026.6531 - val_loss: 238651.1094\n",
      "Epoch 7/100\n",
      "242/242 [==============================] - 0s 547us/step - loss: 2457.8979 - val_loss: 1077018.1250\n",
      "Epoch 8/100\n",
      "242/242 [==============================] - 0s 536us/step - loss: 35898.2695 - val_loss: 4813695.5000\n",
      "Epoch 9/100\n",
      "242/242 [==============================] - 0s 556us/step - loss: 74477.9688 - val_loss: 21807908.0000\n",
      "Epoch 10/100\n",
      "242/242 [==============================] - 0s 571us/step - loss: 939328.8750 - val_loss: 106617392.0000\n",
      "Epoch 11/100\n",
      "242/242 [==============================] - 0s 659us/step - loss: 1655601.7500 - val_loss: 471392320.0000\n",
      "121/121 [==============================] - 0s 330us/step - loss: 1247941.2500\n",
      "[CV] END learning_rate=0.01824796188192035, n_hidden=0, n_neurons=40; total time=   1.9s\n",
      "Epoch 1/100\n",
      "242/242 [==============================] - 0s 975us/step - loss: 0.9404 - val_loss: 12.5308\n",
      "Epoch 2/100\n",
      "242/242 [==============================] - 0s 589us/step - loss: 0.5479 - val_loss: 22.0424\n",
      "Epoch 3/100\n",
      "242/242 [==============================] - 0s 565us/step - loss: 0.5146 - val_loss: 24.7323\n",
      "Epoch 4/100\n",
      "242/242 [==============================] - 0s 560us/step - loss: 0.5129 - val_loss: 22.4188\n",
      "Epoch 5/100\n",
      "242/242 [==============================] - 0s 651us/step - loss: 0.5110 - val_loss: 21.8068\n",
      "Epoch 6/100\n",
      "242/242 [==============================] - 0s 696us/step - loss: 0.5095 - val_loss: 21.1836\n",
      "Epoch 7/100\n",
      "242/242 [==============================] - 0s 618us/step - loss: 0.5115 - val_loss: 19.8238\n",
      "Epoch 8/100\n",
      "242/242 [==============================] - 0s 544us/step - loss: 0.5104 - val_loss: 22.4320\n",
      "Epoch 9/100\n",
      "242/242 [==============================] - 0s 569us/step - loss: 0.5069 - val_loss: 20.0577\n",
      "Epoch 10/100\n",
      "242/242 [==============================] - 0s 614us/step - loss: 0.5088 - val_loss: 10.6991\n",
      "Epoch 11/100\n",
      "242/242 [==============================] - 0s 625us/step - loss: 0.5083 - val_loss: 19.7108\n",
      "Epoch 12/100\n",
      "242/242 [==============================] - 0s 596us/step - loss: 0.5049 - val_loss: 24.3061\n",
      "Epoch 13/100\n",
      "242/242 [==============================] - 0s 563us/step - loss: 0.5077 - val_loss: 25.9355\n",
      "Epoch 14/100\n",
      "242/242 [==============================] - 0s 573us/step - loss: 0.5199 - val_loss: 10.5239\n",
      "Epoch 15/100\n",
      "242/242 [==============================] - 0s 548us/step - loss: 0.5078 - val_loss: 17.1876\n",
      "Epoch 16/100\n",
      "242/242 [==============================] - 0s 560us/step - loss: 0.5064 - val_loss: 21.8309\n",
      "Epoch 17/100\n",
      "242/242 [==============================] - 0s 547us/step - loss: 0.5058 - val_loss: 11.7730\n",
      "Epoch 18/100\n",
      "242/242 [==============================] - 0s 610us/step - loss: 0.5101 - val_loss: 14.1544\n",
      "Epoch 19/100\n",
      "242/242 [==============================] - 0s 622us/step - loss: 0.5071 - val_loss: 20.9801\n",
      "Epoch 20/100\n",
      "242/242 [==============================] - 0s 608us/step - loss: 0.5032 - val_loss: 12.3616\n",
      "Epoch 21/100\n",
      "242/242 [==============================] - 0s 589us/step - loss: 0.5071 - val_loss: 25.9139\n",
      "Epoch 22/100\n",
      "242/242 [==============================] - 0s 573us/step - loss: 0.5132 - val_loss: 16.0458\n",
      "Epoch 23/100\n",
      "242/242 [==============================] - 0s 547us/step - loss: 0.5071 - val_loss: 19.4875\n",
      "Epoch 24/100\n",
      "242/242 [==============================] - 0s 546us/step - loss: 0.5084 - val_loss: 12.1053\n",
      "121/121 [==============================] - 0s 396us/step - loss: 0.7813\n",
      "[CV] END learning_rate=0.01824796188192035, n_hidden=0, n_neurons=40; total time=   3.8s\n",
      "Epoch 1/100\n",
      "242/242 [==============================] - 0s 901us/step - loss: 1.1959 - val_loss: 220.2774\n",
      "Epoch 2/100\n",
      "242/242 [==============================] - 0s 568us/step - loss: 0.7949 - val_loss: 47.8076\n",
      "Epoch 3/100\n",
      "242/242 [==============================] - 0s 598us/step - loss: 1.2426 - val_loss: 633.5493\n",
      "Epoch 4/100\n",
      "242/242 [==============================] - 0s 633us/step - loss: 27.7870 - val_loss: 567.5356\n",
      "Epoch 5/100\n",
      "242/242 [==============================] - 0s 580us/step - loss: 1.1771 - val_loss: 2368.0388\n",
      "Epoch 6/100\n",
      "242/242 [==============================] - 0s 569us/step - loss: 8.1419 - val_loss: 1264.0118\n",
      "Epoch 7/100\n",
      "242/242 [==============================] - 0s 548us/step - loss: 4.3366 - val_loss: 1367.0509\n",
      "Epoch 8/100\n",
      "242/242 [==============================] - 0s 548us/step - loss: 37.1192 - val_loss: 1248.9766\n",
      "Epoch 9/100\n",
      "242/242 [==============================] - 0s 569us/step - loss: 9.9760 - val_loss: 1204.7948\n",
      "Epoch 10/100\n",
      "242/242 [==============================] - 0s 542us/step - loss: 1.3894 - val_loss: 172.6835\n",
      "Epoch 11/100\n"
     ]
    },
    {
     "name": "stdout",
     "output_type": "stream",
     "text": [
      "242/242 [==============================] - 0s 549us/step - loss: 11.2886 - val_loss: 95.7204\n",
      "Epoch 12/100\n",
      "242/242 [==============================] - 0s 635us/step - loss: 0.6338 - val_loss: 0.4980\n",
      "Epoch 13/100\n",
      "242/242 [==============================] - 0s 593us/step - loss: 0.7299 - val_loss: 728.3749\n",
      "Epoch 14/100\n",
      "242/242 [==============================] - 0s 572us/step - loss: 8.4135 - val_loss: 426.6043\n",
      "Epoch 15/100\n",
      "242/242 [==============================] - 0s 614us/step - loss: 2.1307 - val_loss: 1014.9502\n",
      "Epoch 16/100\n",
      "242/242 [==============================] - 0s 606us/step - loss: 35.2207 - val_loss: 820.1586\n",
      "Epoch 17/100\n",
      "242/242 [==============================] - 0s 622us/step - loss: 8.6242 - val_loss: 1080.5731\n",
      "Epoch 18/100\n",
      "242/242 [==============================] - 0s 572us/step - loss: 3.6469 - val_loss: 471.8726\n",
      "Epoch 19/100\n",
      "242/242 [==============================] - 0s 596us/step - loss: 23.5580 - val_loss: 290.1389\n",
      "Epoch 20/100\n",
      "242/242 [==============================] - 0s 614us/step - loss: 3.3776 - val_loss: 327.0032\n",
      "Epoch 21/100\n",
      "242/242 [==============================] - 0s 557us/step - loss: 4.0866 - val_loss: 527.9962\n",
      "Epoch 22/100\n",
      "242/242 [==============================] - 0s 593us/step - loss: 4.2748 - val_loss: 369.9813\n",
      "121/121 [==============================] - 0s 375us/step - loss: 0.6076\n",
      "[CV] END learning_rate=0.01824796188192035, n_hidden=0, n_neurons=40; total time=   3.6s\n",
      "Epoch 1/100\n",
      "242/242 [==============================] - 0s 985us/step - loss: 1.0977 - val_loss: 9.3559\n",
      "Epoch 2/100\n",
      "242/242 [==============================] - 0s 681us/step - loss: 0.5933 - val_loss: 4.9114\n",
      "Epoch 3/100\n",
      "242/242 [==============================] - 0s 646us/step - loss: 0.6608 - val_loss: 23.6918\n",
      "Epoch 4/100\n",
      "242/242 [==============================] - 0s 630us/step - loss: 0.6247 - val_loss: 0.8305\n",
      "Epoch 5/100\n",
      "242/242 [==============================] - 0s 626us/step - loss: 0.4367 - val_loss: 0.4382\n",
      "Epoch 6/100\n",
      "242/242 [==============================] - 0s 632us/step - loss: 0.4073 - val_loss: 0.3789\n",
      "Epoch 7/100\n",
      "242/242 [==============================] - 0s 692us/step - loss: 0.3918 - val_loss: 0.3650\n",
      "Epoch 8/100\n",
      "242/242 [==============================] - 0s 655us/step - loss: 0.3801 - val_loss: 0.3782\n",
      "Epoch 9/100\n",
      "242/242 [==============================] - 0s 654us/step - loss: 0.3730 - val_loss: 0.3859\n",
      "Epoch 10/100\n",
      "242/242 [==============================] - 0s 700us/step - loss: 0.3669 - val_loss: 0.3838\n",
      "Epoch 11/100\n",
      "242/242 [==============================] - 0s 647us/step - loss: 0.3614 - val_loss: 0.3799\n",
      "Epoch 12/100\n",
      "242/242 [==============================] - 0s 709us/step - loss: 0.3557 - val_loss: 0.3739\n",
      "Epoch 13/100\n",
      "242/242 [==============================] - 0s 655us/step - loss: 0.3514 - val_loss: 0.3684\n",
      "Epoch 14/100\n",
      "242/242 [==============================] - 0s 687us/step - loss: 0.3485 - val_loss: 0.3815\n",
      "Epoch 15/100\n",
      "242/242 [==============================] - 0s 633us/step - loss: 0.3451 - val_loss: 0.3500\n",
      "Epoch 16/100\n",
      "242/242 [==============================] - 0s 695us/step - loss: 0.3424 - val_loss: 0.3688\n",
      "Epoch 17/100\n",
      "242/242 [==============================] - 0s 643us/step - loss: 0.3398 - val_loss: 0.3639\n",
      "Epoch 18/100\n",
      "242/242 [==============================] - 0s 632us/step - loss: 0.3378 - val_loss: 0.3512\n",
      "Epoch 19/100\n",
      "242/242 [==============================] - 0s 614us/step - loss: 0.3350 - val_loss: 0.3409\n",
      "Epoch 20/100\n",
      "242/242 [==============================] - 0s 607us/step - loss: 0.3334 - val_loss: 0.3364\n",
      "Epoch 21/100\n",
      "242/242 [==============================] - 0s 635us/step - loss: 0.3318 - val_loss: 0.3863\n",
      "Epoch 22/100\n",
      "242/242 [==============================] - 0s 639us/step - loss: 0.3317 - val_loss: 0.3226\n",
      "Epoch 23/100\n",
      "242/242 [==============================] - 0s 648us/step - loss: 0.3289 - val_loss: 0.3533\n",
      "Epoch 24/100\n",
      "242/242 [==============================] - 0s 631us/step - loss: 0.3292 - val_loss: 0.3264\n",
      "Epoch 25/100\n",
      "242/242 [==============================] - 0s 621us/step - loss: 0.3263 - val_loss: 0.3380\n",
      "Epoch 26/100\n",
      "242/242 [==============================] - 0s 632us/step - loss: 0.3243 - val_loss: 0.3312\n",
      "Epoch 27/100\n",
      "242/242 [==============================] - 0s 647us/step - loss: 0.3237 - val_loss: 0.3365\n",
      "Epoch 28/100\n",
      "242/242 [==============================] - 0s 654us/step - loss: 0.3222 - val_loss: 0.3718\n",
      "Epoch 29/100\n",
      "242/242 [==============================] - 0s 687us/step - loss: 0.3210 - val_loss: 0.3209\n",
      "Epoch 30/100\n",
      "242/242 [==============================] - 0s 622us/step - loss: 0.3194 - val_loss: 0.3190\n",
      "Epoch 31/100\n",
      "242/242 [==============================] - 0s 621us/step - loss: 0.3184 - val_loss: 0.3131\n",
      "Epoch 32/100\n",
      "242/242 [==============================] - 0s 647us/step - loss: 0.3181 - val_loss: 0.3095\n",
      "Epoch 33/100\n",
      "242/242 [==============================] - 0s 633us/step - loss: 0.3170 - val_loss: 0.3192\n",
      "Epoch 34/100\n",
      "242/242 [==============================] - 0s 650us/step - loss: 0.3152 - val_loss: 0.3137\n",
      "Epoch 35/100\n",
      "242/242 [==============================] - 0s 602us/step - loss: 0.3150 - val_loss: 0.3188\n",
      "Epoch 36/100\n",
      "242/242 [==============================] - 0s 635us/step - loss: 0.3152 - val_loss: 0.3297\n",
      "Epoch 37/100\n",
      "242/242 [==============================] - 0s 613us/step - loss: 0.3132 - val_loss: 0.3186\n",
      "Epoch 38/100\n",
      "242/242 [==============================] - 0s 621us/step - loss: 0.3123 - val_loss: 0.3419\n",
      "Epoch 39/100\n",
      "242/242 [==============================] - 0s 643us/step - loss: 0.3128 - val_loss: 0.3151\n",
      "Epoch 40/100\n",
      "242/242 [==============================] - 0s 634us/step - loss: 0.3127 - val_loss: 0.3400\n",
      "Epoch 41/100\n",
      "242/242 [==============================] - 0s 627us/step - loss: 0.3110 - val_loss: 0.3377\n",
      "Epoch 42/100\n",
      "242/242 [==============================] - 0s 606us/step - loss: 0.3088 - val_loss: 0.3199\n",
      "121/121 [==============================] - 0s 363us/step - loss: 0.3416\n",
      "[CV] END learning_rate=0.0045455096956331, n_hidden=3, n_neurons=30; total time=   7.0s\n",
      "Epoch 1/100\n",
      "122/242 [==============>...............] - ETA: 0s - loss: 1.5572WARNING:tensorflow:Callbacks method `on_test_batch_end` is slow compared to the batch time (batch time: 0.0000s vs `on_test_batch_end` time: 0.0010s). Check your callbacks.\n",
      "242/242 [==============================] - 0s 951us/step - loss: 1.1302 - val_loss: 5.3405\n",
      "Epoch 2/100\n",
      "242/242 [==============================] - 0s 662us/step - loss: 0.5966 - val_loss: 1.9179\n",
      "Epoch 3/100\n",
      "242/242 [==============================] - 0s 618us/step - loss: 0.5180 - val_loss: 0.8584\n",
      "Epoch 4/100\n",
      "242/242 [==============================] - 0s 618us/step - loss: 0.4696 - val_loss: 0.5011\n",
      "Epoch 5/100\n",
      "242/242 [==============================] - 0s 610us/step - loss: 0.4384 - val_loss: 0.4179\n",
      "Epoch 6/100\n",
      "242/242 [==============================] - 0s 600us/step - loss: 0.4192 - val_loss: 0.3957\n",
      "Epoch 7/100\n",
      "242/242 [==============================] - 0s 619us/step - loss: 0.4076 - val_loss: 0.3840\n",
      "Epoch 8/100\n",
      "242/242 [==============================] - 0s 610us/step - loss: 0.3978 - val_loss: 0.3829\n",
      "Epoch 9/100\n",
      "242/242 [==============================] - 0s 611us/step - loss: 0.3891 - val_loss: 0.3984\n",
      "Epoch 10/100\n",
      "242/242 [==============================] - 0s 593us/step - loss: 0.3832 - val_loss: 0.4012\n",
      "Epoch 11/100\n",
      "242/242 [==============================] - 0s 614us/step - loss: 0.3768 - val_loss: 0.4176\n",
      "Epoch 12/100\n",
      "242/242 [==============================] - 0s 633us/step - loss: 0.3715 - val_loss: 0.4585\n",
      "Epoch 13/100\n",
      "242/242 [==============================] - 0s 654us/step - loss: 0.3695 - val_loss: 0.4881\n",
      "Epoch 14/100\n",
      "242/242 [==============================] - 0s 636us/step - loss: 0.3664 - val_loss: 0.5506\n",
      "Epoch 15/100\n",
      "242/242 [==============================] - 0s 613us/step - loss: 0.3638 - val_loss: 0.5670\n",
      "Epoch 16/100\n",
      "242/242 [==============================] - 0s 656us/step - loss: 0.3599 - val_loss: 0.6048\n",
      "Epoch 17/100\n",
      "242/242 [==============================] - 0s 627us/step - loss: 0.3576 - val_loss: 0.6272\n",
      "Epoch 18/100\n",
      "242/242 [==============================] - 0s 618us/step - loss: 0.3554 - val_loss: 0.6608\n",
      "121/121 [==============================] - 0s 372us/step - loss: 0.3717\n",
      "[CV] END learning_rate=0.0045455096956331, n_hidden=3, n_neurons=30; total time=   3.1s\n",
      "Epoch 1/100\n"
     ]
    },
    {
     "name": "stdout",
     "output_type": "stream",
     "text": [
      "  1/242 [..............................] - ETA: 0s - loss: 9.9426WARNING:tensorflow:Callbacks method `on_train_batch_begin` is slow compared to the batch time (batch time: 0.0000s vs `on_train_batch_begin` time: 0.0010s). Check your callbacks.\n",
      "242/242 [==============================] - 0s 1ms/step - loss: 1.3901 - val_loss: 1.0742\n",
      "Epoch 2/100\n",
      "242/242 [==============================] - 0s 626us/step - loss: 0.5807 - val_loss: 1.5461\n",
      "Epoch 3/100\n",
      "242/242 [==============================] - 0s 626us/step - loss: 0.5096 - val_loss: 2.1300\n",
      "Epoch 4/100\n",
      "242/242 [==============================] - 0s 639us/step - loss: 0.4760 - val_loss: 0.5628\n",
      "Epoch 5/100\n",
      "242/242 [==============================] - 0s 639us/step - loss: 0.4291 - val_loss: 0.5440\n",
      "Epoch 6/100\n",
      "242/242 [==============================] - 0s 616us/step - loss: 0.4107 - val_loss: 0.3782\n",
      "Epoch 7/100\n",
      "242/242 [==============================] - 0s 644us/step - loss: 0.3975 - val_loss: 0.3642\n",
      "Epoch 8/100\n",
      "242/242 [==============================] - 0s 610us/step - loss: 0.3880 - val_loss: 0.3605\n",
      "Epoch 9/100\n",
      "242/242 [==============================] - 0s 612us/step - loss: 0.3796 - val_loss: 0.3808\n",
      "Epoch 10/100\n",
      "242/242 [==============================] - 0s 614us/step - loss: 0.3749 - val_loss: 0.3647\n",
      "Epoch 11/100\n",
      "242/242 [==============================] - 0s 643us/step - loss: 0.3687 - val_loss: 0.4351\n",
      "Epoch 12/100\n",
      "242/242 [==============================] - 0s 639us/step - loss: 0.3650 - val_loss: 0.3404\n",
      "Epoch 13/100\n",
      "242/242 [==============================] - 0s 614us/step - loss: 0.3592 - val_loss: 0.3379\n",
      "Epoch 14/100\n",
      "242/242 [==============================] - 0s 606us/step - loss: 0.3556 - val_loss: 0.4752\n",
      "Epoch 15/100\n",
      "242/242 [==============================] - 0s 643us/step - loss: 0.3542 - val_loss: 0.4052\n",
      "Epoch 16/100\n",
      "242/242 [==============================] - 0s 622us/step - loss: 0.3498 - val_loss: 0.4985\n",
      "Epoch 17/100\n",
      "242/242 [==============================] - 0s 630us/step - loss: 0.3490 - val_loss: 0.3756\n",
      "Epoch 18/100\n",
      "242/242 [==============================] - 0s 618us/step - loss: 0.3433 - val_loss: 0.3940\n",
      "Epoch 19/100\n",
      "242/242 [==============================] - 0s 647us/step - loss: 0.3420 - val_loss: 0.3227\n",
      "Epoch 20/100\n",
      "242/242 [==============================] - 0s 657us/step - loss: 0.3397 - val_loss: 0.4049\n",
      "Epoch 21/100\n",
      "242/242 [==============================] - 0s 656us/step - loss: 0.3379 - val_loss: 0.3236\n",
      "Epoch 22/100\n",
      "242/242 [==============================] - 0s 647us/step - loss: 0.3353 - val_loss: 0.3276\n",
      "Epoch 23/100\n",
      "242/242 [==============================] - 0s 626us/step - loss: 0.3329 - val_loss: 0.3842\n",
      "Epoch 24/100\n",
      "242/242 [==============================] - 0s 626us/step - loss: 0.3337 - val_loss: 0.3184\n",
      "Epoch 25/100\n",
      "242/242 [==============================] - 0s 636us/step - loss: 0.3320 - val_loss: 0.4443\n",
      "Epoch 26/100\n",
      "242/242 [==============================] - 0s 629us/step - loss: 0.3284 - val_loss: 0.4932\n",
      "Epoch 27/100\n",
      "242/242 [==============================] - 0s 626us/step - loss: 0.3289 - val_loss: 0.3470\n",
      "Epoch 28/100\n",
      "242/242 [==============================] - 0s 593us/step - loss: 0.3243 - val_loss: 0.3124\n",
      "Epoch 29/100\n",
      "242/242 [==============================] - 0s 625us/step - loss: 0.3230 - val_loss: 0.5856\n",
      "Epoch 30/100\n",
      "242/242 [==============================] - 0s 621us/step - loss: 0.3263 - val_loss: 0.5415\n",
      "Epoch 31/100\n",
      "242/242 [==============================] - 0s 604us/step - loss: 0.3232 - val_loss: 0.7019\n",
      "Epoch 32/100\n",
      "242/242 [==============================] - 0s 621us/step - loss: 0.3260 - val_loss: 0.3973\n",
      "Epoch 33/100\n",
      "242/242 [==============================] - 0s 625us/step - loss: 0.3221 - val_loss: 0.9743\n",
      "Epoch 34/100\n",
      "242/242 [==============================] - 0s 601us/step - loss: 0.3280 - val_loss: 0.5190\n",
      "Epoch 35/100\n",
      "242/242 [==============================] - 0s 626us/step - loss: 0.3180 - val_loss: 0.8697\n",
      "Epoch 36/100\n",
      "242/242 [==============================] - 0s 622us/step - loss: 0.3203 - val_loss: 0.7804\n",
      "Epoch 37/100\n",
      "242/242 [==============================] - 0s 634us/step - loss: 0.3189 - val_loss: 0.4794\n",
      "Epoch 38/100\n",
      "242/242 [==============================] - 0s 676us/step - loss: 0.3137 - val_loss: 0.3203\n",
      "121/121 [==============================] - 0s 437us/step - loss: 0.3183\n",
      "[CV] END learning_rate=0.0045455096956331, n_hidden=3, n_neurons=30; total time=   6.2s\n",
      "Epoch 1/100\n",
      "242/242 [==============================] - 0s 1ms/step - loss: 1.8293 - val_loss: 0.7707\n",
      "Epoch 2/100\n",
      "242/242 [==============================] - 0s 592us/step - loss: 0.7152 - val_loss: 1.2274\n",
      "Epoch 3/100\n",
      "242/242 [==============================] - 0s 664us/step - loss: 0.6247 - val_loss: 0.6900\n",
      "Epoch 4/100\n",
      "242/242 [==============================] - 0s 586us/step - loss: 0.5804 - val_loss: 1.4336\n",
      "Epoch 5/100\n",
      "242/242 [==============================] - 0s 581us/step - loss: 0.5373 - val_loss: 0.7951\n",
      "Epoch 6/100\n",
      "242/242 [==============================] - 0s 590us/step - loss: 0.5150 - val_loss: 1.0350\n",
      "Epoch 7/100\n",
      "242/242 [==============================] - 0s 593us/step - loss: 0.4824 - val_loss: 0.8967\n",
      "Epoch 8/100\n",
      "242/242 [==============================] - 0s 577us/step - loss: 0.4763 - val_loss: 1.4385\n",
      "Epoch 9/100\n",
      "242/242 [==============================] - 0s 563us/step - loss: 0.4578 - val_loss: 0.7174\n",
      "Epoch 10/100\n",
      "242/242 [==============================] - 0s 589us/step - loss: 0.4480 - val_loss: 1.2468\n",
      "Epoch 11/100\n",
      "242/242 [==============================] - 0s 589us/step - loss: 0.4390 - val_loss: 1.0594\n",
      "Epoch 12/100\n",
      "242/242 [==============================] - 0s 588us/step - loss: 0.4354 - val_loss: 1.7422\n",
      "Epoch 13/100\n",
      "242/242 [==============================] - 0s 571us/step - loss: 0.4340 - val_loss: 1.2544\n",
      "121/121 [==============================] - 0s 346us/step - loss: 0.4328\n",
      "[CV] END learning_rate=0.0020587676114196545, n_hidden=1, n_neurons=49; total time=   2.3s\n",
      "Epoch 1/100\n",
      "  1/242 [..............................] - ETA: 0s - loss: 6.2243WARNING:tensorflow:Callbacks method `on_train_batch_end` is slow compared to the batch time (batch time: 0.0000s vs `on_train_batch_end` time: 0.0010s). Check your callbacks.\n",
      "242/242 [==============================] - 0s 876us/step - loss: 1.7049 - val_loss: 1.6499\n",
      "Epoch 2/100\n",
      "242/242 [==============================] - 0s 574us/step - loss: 0.7067 - val_loss: 0.7040\n",
      "Epoch 3/100\n",
      "242/242 [==============================] - 0s 611us/step - loss: 0.6335 - val_loss: 0.7033\n",
      "Epoch 4/100\n",
      "242/242 [==============================] - 0s 606us/step - loss: 0.5893 - val_loss: 1.1895\n",
      "Epoch 5/100\n",
      "242/242 [==============================] - 0s 577us/step - loss: 0.5547 - val_loss: 1.7099\n",
      "Epoch 6/100\n",
      "242/242 [==============================] - 0s 603us/step - loss: 0.5290 - val_loss: 2.0733\n",
      "Epoch 7/100\n",
      "242/242 [==============================] - 0s 593us/step - loss: 0.5091 - val_loss: 2.3126\n",
      "Epoch 8/100\n",
      "242/242 [==============================] - 0s 618us/step - loss: 0.4929 - val_loss: 2.4700\n",
      "Epoch 9/100\n",
      "242/242 [==============================] - 0s 596us/step - loss: 0.4794 - val_loss: 2.3367\n",
      "Epoch 10/100\n",
      "242/242 [==============================] - 0s 602us/step - loss: 0.4689 - val_loss: 2.2179\n",
      "Epoch 11/100\n",
      "242/242 [==============================] - 0s 585us/step - loss: 0.4592 - val_loss: 2.0412\n",
      "Epoch 12/100\n",
      "242/242 [==============================] - 0s 585us/step - loss: 0.4508 - val_loss: 1.9741\n",
      "Epoch 13/100\n",
      "242/242 [==============================] - 0s 576us/step - loss: 0.4444 - val_loss: 1.7869\n",
      "121/121 [==============================] - 0s 354us/step - loss: 0.4915\n",
      "[CV] END learning_rate=0.0020587676114196545, n_hidden=1, n_neurons=49; total time=   2.2s\n",
      "Epoch 1/100\n",
      "242/242 [==============================] - 0s 850us/step - loss: 2.0996 - val_loss: 23.0700\n",
      "Epoch 2/100\n",
      "242/242 [==============================] - 0s 577us/step - loss: 1.0033 - val_loss: 18.5943\n",
      "Epoch 3/100\n",
      "242/242 [==============================] - 0s 583us/step - loss: 0.8020 - val_loss: 5.3541\n",
      "Epoch 4/100\n",
      "242/242 [==============================] - 0s 573us/step - loss: 0.6801 - val_loss: 1.2951\n",
      "Epoch 5/100\n",
      "242/242 [==============================] - 0s 586us/step - loss: 0.5753 - val_loss: 0.5321\n",
      "Epoch 6/100\n",
      "242/242 [==============================] - 0s 581us/step - loss: 0.5412 - val_loss: 0.5037\n"
     ]
    },
    {
     "name": "stdout",
     "output_type": "stream",
     "text": [
      "Epoch 7/100\n",
      "242/242 [==============================] - 0s 585us/step - loss: 0.5148 - val_loss: 0.4787\n",
      "Epoch 8/100\n",
      "242/242 [==============================] - 0s 593us/step - loss: 0.4935 - val_loss: 0.5109\n",
      "Epoch 9/100\n",
      "242/242 [==============================] - 0s 573us/step - loss: 0.4784 - val_loss: 0.4881\n",
      "Epoch 10/100\n",
      "242/242 [==============================] - 0s 579us/step - loss: 0.4634 - val_loss: 0.4455\n",
      "Epoch 11/100\n",
      "242/242 [==============================] - 0s 577us/step - loss: 0.4516 - val_loss: 0.4218\n",
      "Epoch 12/100\n",
      "242/242 [==============================] - 0s 585us/step - loss: 0.4424 - val_loss: 0.4376\n",
      "Epoch 13/100\n",
      "242/242 [==============================] - 0s 573us/step - loss: 0.4346 - val_loss: 0.4147\n",
      "Epoch 14/100\n",
      "242/242 [==============================] - 0s 581us/step - loss: 0.4289 - val_loss: 0.4338\n",
      "Epoch 15/100\n",
      "242/242 [==============================] - 0s 564us/step - loss: 0.4237 - val_loss: 0.4053\n",
      "Epoch 16/100\n",
      "242/242 [==============================] - 0s 556us/step - loss: 0.4190 - val_loss: 0.4070\n",
      "Epoch 17/100\n",
      "242/242 [==============================] - 0s 580us/step - loss: 0.4152 - val_loss: 0.3942\n",
      "Epoch 18/100\n",
      "242/242 [==============================] - 0s 581us/step - loss: 0.4126 - val_loss: 0.3978\n",
      "Epoch 19/100\n",
      "242/242 [==============================] - 0s 577us/step - loss: 0.4100 - val_loss: 0.4030\n",
      "Epoch 20/100\n",
      "242/242 [==============================] - 0s 574us/step - loss: 0.4069 - val_loss: 0.3992\n",
      "Epoch 21/100\n",
      "242/242 [==============================] - 0s 631us/step - loss: 0.4047 - val_loss: 0.3995\n",
      "Epoch 22/100\n",
      "242/242 [==============================] - 0s 573us/step - loss: 0.4030 - val_loss: 0.3817\n",
      "Epoch 23/100\n",
      "242/242 [==============================] - 0s 569us/step - loss: 0.4008 - val_loss: 0.3997\n",
      "Epoch 24/100\n",
      "242/242 [==============================] - 0s 581us/step - loss: 0.3985 - val_loss: 0.4051\n",
      "Epoch 25/100\n",
      "242/242 [==============================] - 0s 577us/step - loss: 0.3971 - val_loss: 0.3777\n",
      "Epoch 26/100\n",
      "242/242 [==============================] - 0s 577us/step - loss: 0.3951 - val_loss: 0.3837\n",
      "Epoch 27/100\n",
      "242/242 [==============================] - 0s 610us/step - loss: 0.3937 - val_loss: 0.4195\n",
      "Epoch 28/100\n",
      "242/242 [==============================] - 0s 598us/step - loss: 0.3928 - val_loss: 0.3900\n",
      "Epoch 29/100\n",
      "242/242 [==============================] - 0s 608us/step - loss: 0.3910 - val_loss: 0.4373\n",
      "Epoch 30/100\n",
      "242/242 [==============================] - 0s 577us/step - loss: 0.3910 - val_loss: 0.3913\n",
      "Epoch 31/100\n",
      "242/242 [==============================] - 0s 577us/step - loss: 0.3886 - val_loss: 0.3857\n",
      "Epoch 32/100\n",
      "242/242 [==============================] - 0s 577us/step - loss: 0.3876 - val_loss: 0.4213\n",
      "Epoch 33/100\n",
      "242/242 [==============================] - 0s 588us/step - loss: 0.3861 - val_loss: 0.3998\n",
      "Epoch 34/100\n",
      "242/242 [==============================] - 0s 573us/step - loss: 0.3858 - val_loss: 0.4277\n",
      "Epoch 35/100\n",
      "242/242 [==============================] - 0s 581us/step - loss: 0.3855 - val_loss: 0.3803\n",
      "121/121 [==============================] - 0s 346us/step - loss: 0.3814\n",
      "[CV] END learning_rate=0.0020587676114196545, n_hidden=1, n_neurons=49; total time=   5.4s\n",
      "Epoch 1/100\n",
      "242/242 [==============================] - 0s 988us/step - loss: 1.1022 - val_loss: 8.2027\n",
      "Epoch 2/100\n",
      "242/242 [==============================] - 0s 668us/step - loss: 0.6115 - val_loss: 3.9992\n",
      "Epoch 3/100\n",
      "242/242 [==============================] - 0s 672us/step - loss: 0.4705 - val_loss: 0.4696\n",
      "Epoch 4/100\n",
      "242/242 [==============================] - 0s 685us/step - loss: 0.4008 - val_loss: 0.3657\n",
      "Epoch 5/100\n",
      "242/242 [==============================] - 0s 683us/step - loss: 0.3795 - val_loss: 0.3671\n",
      "Epoch 6/100\n",
      "242/242 [==============================] - 0s 664us/step - loss: 0.3684 - val_loss: 0.3926\n",
      "Epoch 7/100\n",
      "242/242 [==============================] - 0s 662us/step - loss: 0.3610 - val_loss: 0.3700\n",
      "Epoch 8/100\n",
      "242/242 [==============================] - 0s 663us/step - loss: 0.3542 - val_loss: 0.3909\n",
      "Epoch 9/100\n",
      "242/242 [==============================] - 0s 683us/step - loss: 0.3492 - val_loss: 0.3803\n",
      "Epoch 10/100\n",
      "242/242 [==============================] - 0s 688us/step - loss: 0.3453 - val_loss: 0.3788\n",
      "Epoch 11/100\n",
      "242/242 [==============================] - 0s 688us/step - loss: 0.3418 - val_loss: 0.3555\n",
      "Epoch 12/100\n",
      "242/242 [==============================] - 0s 659us/step - loss: 0.3369 - val_loss: 0.3721\n",
      "Epoch 13/100\n",
      "242/242 [==============================] - 0s 664us/step - loss: 0.3332 - val_loss: 0.3615\n",
      "Epoch 14/100\n",
      "242/242 [==============================] - 0s 678us/step - loss: 0.3319 - val_loss: 0.3644\n",
      "Epoch 15/100\n",
      "242/242 [==============================] - 0s 689us/step - loss: 0.3282 - val_loss: 0.3616\n",
      "Epoch 16/100\n",
      "242/242 [==============================] - 0s 671us/step - loss: 0.3259 - val_loss: 0.3663\n",
      "Epoch 17/100\n",
      "242/242 [==============================] - 0s 672us/step - loss: 0.3232 - val_loss: 0.3496\n",
      "Epoch 18/100\n",
      "242/242 [==============================] - 0s 668us/step - loss: 0.3212 - val_loss: 0.3773\n",
      "Epoch 19/100\n",
      "242/242 [==============================] - 0s 659us/step - loss: 0.3184 - val_loss: 0.3482\n",
      "Epoch 20/100\n",
      "242/242 [==============================] - 0s 662us/step - loss: 0.3167 - val_loss: 0.3434\n",
      "Epoch 21/100\n",
      "242/242 [==============================] - 0s 655us/step - loss: 0.3143 - val_loss: 0.4165\n",
      "Epoch 22/100\n",
      "242/242 [==============================] - 0s 668us/step - loss: 0.3145 - val_loss: 0.3229\n",
      "Epoch 23/100\n",
      "242/242 [==============================] - 0s 655us/step - loss: 0.3111 - val_loss: 0.3540\n",
      "Epoch 24/100\n",
      "242/242 [==============================] - 0s 663us/step - loss: 0.3120 - val_loss: 0.3197\n",
      "Epoch 25/100\n",
      "242/242 [==============================] - 0s 662us/step - loss: 0.3082 - val_loss: 0.3714\n",
      "Epoch 26/100\n",
      "242/242 [==============================] - 0s 668us/step - loss: 0.3063 - val_loss: 0.3152\n",
      "Epoch 27/100\n",
      "242/242 [==============================] - 0s 672us/step - loss: 0.3058 - val_loss: 0.3394\n",
      "Epoch 28/100\n",
      "242/242 [==============================] - 0s 672us/step - loss: 0.3044 - val_loss: 0.3857\n",
      "Epoch 29/100\n",
      "242/242 [==============================] - 0s 761us/step - loss: 0.3020 - val_loss: 0.3214\n",
      "Epoch 30/100\n",
      "242/242 [==============================] - 0s 672us/step - loss: 0.3008 - val_loss: 0.3148\n",
      "Epoch 31/100\n",
      "242/242 [==============================] - 0s 657us/step - loss: 0.3006 - val_loss: 0.3180\n",
      "Epoch 32/100\n",
      "242/242 [==============================] - 0s 670us/step - loss: 0.2988 - val_loss: 0.3110\n",
      "Epoch 33/100\n",
      "242/242 [==============================] - 0s 676us/step - loss: 0.2968 - val_loss: 0.3393\n",
      "Epoch 34/100\n",
      "242/242 [==============================] - 0s 666us/step - loss: 0.2945 - val_loss: 0.3556\n",
      "Epoch 35/100\n",
      "242/242 [==============================] - 0s 665us/step - loss: 0.2949 - val_loss: 0.3213\n",
      "Epoch 36/100\n",
      "242/242 [==============================] - 0s 655us/step - loss: 0.2948 - val_loss: 0.3417\n",
      "Epoch 37/100\n",
      "242/242 [==============================] - 0s 666us/step - loss: 0.2923 - val_loss: 0.2925\n",
      "Epoch 38/100\n",
      "242/242 [==============================] - 0s 669us/step - loss: 0.2909 - val_loss: 0.3509\n",
      "Epoch 39/100\n",
      "242/242 [==============================] - 0s 656us/step - loss: 0.2903 - val_loss: 0.3031\n",
      "Epoch 40/100\n",
      "242/242 [==============================] - 0s 666us/step - loss: 0.2896 - val_loss: 0.3489\n",
      "Epoch 41/100\n",
      "242/242 [==============================] - 0s 664us/step - loss: 0.2896 - val_loss: 0.2946\n",
      "Epoch 42/100\n",
      "242/242 [==============================] - 0s 659us/step - loss: 0.2876 - val_loss: 0.3003\n",
      "Epoch 43/100\n",
      "242/242 [==============================] - 0s 671us/step - loss: 0.2867 - val_loss: 0.2957\n",
      "Epoch 44/100\n",
      "242/242 [==============================] - 0s 668us/step - loss: 0.2846 - val_loss: 0.3207\n",
      "Epoch 45/100\n",
      "242/242 [==============================] - 0s 672us/step - loss: 0.2838 - val_loss: 0.2878\n",
      "Epoch 46/100\n",
      "242/242 [==============================] - 0s 684us/step - loss: 0.2819 - val_loss: 0.3358\n",
      "Epoch 47/100\n",
      "242/242 [==============================] - 0s 717us/step - loss: 0.2808 - val_loss: 0.3207\n",
      "Epoch 48/100\n",
      "242/242 [==============================] - 0s 681us/step - loss: 0.2803 - val_loss: 0.2894\n",
      "Epoch 49/100\n"
     ]
    },
    {
     "name": "stdout",
     "output_type": "stream",
     "text": [
      "242/242 [==============================] - 0s 667us/step - loss: 0.2788 - val_loss: 0.3014\n",
      "Epoch 50/100\n",
      "242/242 [==============================] - 0s 676us/step - loss: 0.2793 - val_loss: 0.3174\n",
      "Epoch 51/100\n",
      "242/242 [==============================] - 0s 669us/step - loss: 0.2769 - val_loss: 0.3224\n",
      "Epoch 52/100\n",
      "242/242 [==============================] - 0s 668us/step - loss: 0.2749 - val_loss: 0.3482\n",
      "Epoch 53/100\n",
      "242/242 [==============================] - 0s 675us/step - loss: 0.2765 - val_loss: 0.2827\n",
      "Epoch 54/100\n",
      "242/242 [==============================] - 0s 674us/step - loss: 0.2743 - val_loss: 0.3406\n",
      "Epoch 55/100\n",
      "242/242 [==============================] - 0s 674us/step - loss: 0.2744 - val_loss: 0.3703\n",
      "Epoch 56/100\n",
      "242/242 [==============================] - 0s 668us/step - loss: 0.2744 - val_loss: 0.3102\n",
      "Epoch 57/100\n",
      "242/242 [==============================] - 0s 659us/step - loss: 0.2721 - val_loss: 0.3263\n",
      "Epoch 58/100\n",
      "242/242 [==============================] - 0s 687us/step - loss: 0.2706 - val_loss: 0.3469\n",
      "Epoch 59/100\n",
      "242/242 [==============================] - 0s 680us/step - loss: 0.2710 - val_loss: 0.2862\n",
      "Epoch 60/100\n",
      "242/242 [==============================] - 0s 680us/step - loss: 0.2685 - val_loss: 0.3200\n",
      "Epoch 61/100\n",
      "242/242 [==============================] - 0s 674us/step - loss: 0.2689 - val_loss: 0.3499\n",
      "Epoch 62/100\n",
      "242/242 [==============================] - 0s 667us/step - loss: 0.2668 - val_loss: 0.3288\n",
      "Epoch 63/100\n",
      "242/242 [==============================] - 0s 663us/step - loss: 0.2664 - val_loss: 0.3561\n",
      "121/121 [==============================] - 0s 371us/step - loss: 0.3171\n",
      "[CV] END learning_rate=0.005803602934201024, n_hidden=3, n_neurons=74; total time=  10.7s\n",
      "Epoch 1/100\n",
      "242/242 [==============================] - 0s 971us/step - loss: 1.1172 - val_loss: 1.2402\n",
      "Epoch 2/100\n",
      "242/242 [==============================] - 0s 650us/step - loss: 0.5673 - val_loss: 0.6553\n",
      "Epoch 3/100\n",
      "242/242 [==============================] - 0s 658us/step - loss: 0.4666 - val_loss: 0.7527\n",
      "Epoch 4/100\n",
      "242/242 [==============================] - 0s 654us/step - loss: 0.4239 - val_loss: 0.5602\n",
      "Epoch 5/100\n",
      "242/242 [==============================] - 0s 678us/step - loss: 0.3991 - val_loss: 0.4004\n",
      "Epoch 6/100\n",
      "242/242 [==============================] - 0s 664us/step - loss: 0.3836 - val_loss: 0.3742\n",
      "Epoch 7/100\n",
      "242/242 [==============================] - 0s 664us/step - loss: 0.3734 - val_loss: 0.4770\n",
      "Epoch 8/100\n",
      "242/242 [==============================] - 0s 705us/step - loss: 0.3655 - val_loss: 0.6626\n",
      "Epoch 9/100\n",
      "242/242 [==============================] - 0s 658us/step - loss: 0.3583 - val_loss: 0.9114\n",
      "Epoch 10/100\n",
      "242/242 [==============================] - 0s 672us/step - loss: 0.3536 - val_loss: 0.8807\n",
      "Epoch 11/100\n",
      "242/242 [==============================] - 0s 666us/step - loss: 0.3482 - val_loss: 1.0249\n",
      "Epoch 12/100\n",
      "242/242 [==============================] - 0s 657us/step - loss: 0.3442 - val_loss: 1.0468\n",
      "Epoch 13/100\n",
      "242/242 [==============================] - 0s 671us/step - loss: 0.3415 - val_loss: 1.2410\n",
      "Epoch 14/100\n",
      "242/242 [==============================] - 0s 663us/step - loss: 0.3399 - val_loss: 1.1893\n",
      "Epoch 15/100\n",
      "242/242 [==============================] - 0s 678us/step - loss: 0.3373 - val_loss: 1.1427\n",
      "Epoch 16/100\n",
      "242/242 [==============================] - 0s 659us/step - loss: 0.3335 - val_loss: 1.0880\n",
      "121/121 [==============================] - 0s 363us/step - loss: 0.3574\n",
      "[CV] END learning_rate=0.005803602934201024, n_hidden=3, n_neurons=74; total time=   3.0s\n",
      "Epoch 1/100\n",
      "242/242 [==============================] - 0s 992us/step - loss: 0.9098 - val_loss: 1.0813\n",
      "Epoch 2/100\n",
      "242/242 [==============================] - 0s 651us/step - loss: 0.5112 - val_loss: 1.0242\n",
      "Epoch 3/100\n",
      "242/242 [==============================] - 0s 664us/step - loss: 0.4351 - val_loss: 0.6436\n",
      "Epoch 4/100\n",
      "242/242 [==============================] - 0s 664us/step - loss: 0.4014 - val_loss: 0.9091\n",
      "Epoch 5/100\n",
      "242/242 [==============================] - 0s 680us/step - loss: 0.3852 - val_loss: 0.6426\n",
      "Epoch 6/100\n",
      "242/242 [==============================] - 0s 680us/step - loss: 0.3742 - val_loss: 0.4686\n",
      "Epoch 7/100\n",
      "242/242 [==============================] - 0s 696us/step - loss: 0.3645 - val_loss: 0.3390\n",
      "Epoch 8/100\n",
      "242/242 [==============================] - 0s 696us/step - loss: 0.3572 - val_loss: 0.3870\n",
      "Epoch 9/100\n",
      "242/242 [==============================] - 0s 696us/step - loss: 0.3515 - val_loss: 0.4375\n",
      "Epoch 10/100\n",
      "242/242 [==============================] - 0s 672us/step - loss: 0.3511 - val_loss: 0.4672\n",
      "Epoch 11/100\n",
      "242/242 [==============================] - 0s 668us/step - loss: 0.3467 - val_loss: 0.7660\n",
      "Epoch 12/100\n",
      "242/242 [==============================] - 0s 676us/step - loss: 0.3462 - val_loss: 0.4100\n",
      "Epoch 13/100\n",
      "242/242 [==============================] - 0s 668us/step - loss: 0.3385 - val_loss: 0.3533\n",
      "Epoch 14/100\n",
      "242/242 [==============================] - 0s 675us/step - loss: 0.3346 - val_loss: 0.4531\n",
      "Epoch 15/100\n",
      "242/242 [==============================] - 0s 659us/step - loss: 0.3361 - val_loss: 0.5540\n",
      "Epoch 16/100\n",
      "242/242 [==============================] - 0s 672us/step - loss: 0.3349 - val_loss: 0.6681\n",
      "Epoch 17/100\n",
      "242/242 [==============================] - 0s 692us/step - loss: 0.3341 - val_loss: 0.4448\n",
      "121/121 [==============================] - 0s 385us/step - loss: 0.3322\n",
      "[CV] END learning_rate=0.005803602934201024, n_hidden=3, n_neurons=74; total time=   3.1s\n",
      "Epoch 1/100\n",
      "242/242 [==============================] - 0s 1ms/step - loss: 0.9195 - val_loss: 1.0304\n",
      "Epoch 2/100\n",
      "242/242 [==============================] - 0s 664us/step - loss: 0.4883 - val_loss: 1.2012\n",
      "Epoch 3/100\n",
      "242/242 [==============================] - 0s 669us/step - loss: 0.4228 - val_loss: 0.3861\n",
      "Epoch 4/100\n",
      "242/242 [==============================] - 0s 669us/step - loss: 0.3879 - val_loss: 0.3775\n",
      "Epoch 5/100\n",
      "242/242 [==============================] - 0s 664us/step - loss: 0.3713 - val_loss: 0.3657\n",
      "Epoch 6/100\n",
      "242/242 [==============================] - 0s 649us/step - loss: 0.3590 - val_loss: 0.3964\n",
      "Epoch 7/100\n",
      "242/242 [==============================] - 0s 655us/step - loss: 0.3511 - val_loss: 0.3674\n",
      "Epoch 8/100\n",
      "242/242 [==============================] - 0s 655us/step - loss: 0.3436 - val_loss: 0.4126\n",
      "Epoch 9/100\n",
      "242/242 [==============================] - 0s 659us/step - loss: 0.3397 - val_loss: 0.3501\n",
      "Epoch 10/100\n",
      "242/242 [==============================] - 0s 651us/step - loss: 0.3351 - val_loss: 0.4237\n",
      "Epoch 11/100\n",
      "242/242 [==============================] - 0s 664us/step - loss: 0.3341 - val_loss: 0.3227\n",
      "Epoch 12/100\n",
      "242/242 [==============================] - 0s 659us/step - loss: 0.3289 - val_loss: 0.3589\n",
      "Epoch 13/100\n",
      "242/242 [==============================] - 0s 725us/step - loss: 0.3243 - val_loss: 0.3704\n",
      "Epoch 14/100\n",
      "242/242 [==============================] - 0s 652us/step - loss: 0.3229 - val_loss: 0.3534\n",
      "Epoch 15/100\n",
      "242/242 [==============================] - 0s 667us/step - loss: 0.3185 - val_loss: 0.3740\n",
      "Epoch 16/100\n",
      "242/242 [==============================] - 0s 683us/step - loss: 0.3171 - val_loss: 0.3411\n",
      "Epoch 17/100\n",
      "242/242 [==============================] - 0s 688us/step - loss: 0.3139 - val_loss: 0.3385\n",
      "Epoch 18/100\n",
      "242/242 [==============================] - 0s 664us/step - loss: 0.3129 - val_loss: 0.3261\n",
      "Epoch 19/100\n",
      "242/242 [==============================] - 0s 668us/step - loss: 0.3097 - val_loss: 0.3715\n",
      "Epoch 20/100\n",
      "242/242 [==============================] - 0s 676us/step - loss: 0.3099 - val_loss: 0.3038\n",
      "Epoch 21/100\n",
      "242/242 [==============================] - 0s 661us/step - loss: 0.3071 - val_loss: 0.4124\n",
      "Epoch 22/100\n",
      "242/242 [==============================] - 0s 668us/step - loss: 0.3056 - val_loss: 0.3240\n",
      "Epoch 23/100\n",
      "242/242 [==============================] - 0s 668us/step - loss: 0.3021 - val_loss: 0.4109\n",
      "Epoch 24/100\n",
      "242/242 [==============================] - 0s 658us/step - loss: 0.3051 - val_loss: 0.3386\n",
      "Epoch 25/100\n",
      "242/242 [==============================] - 0s 668us/step - loss: 0.3004 - val_loss: 0.3705\n",
      "Epoch 26/100\n",
      "242/242 [==============================] - 0s 676us/step - loss: 0.2974 - val_loss: 0.3200\n",
      "Epoch 27/100\n"
     ]
    },
    {
     "name": "stdout",
     "output_type": "stream",
     "text": [
      "242/242 [==============================] - 0s 669us/step - loss: 0.2970 - val_loss: 0.3369\n",
      "Epoch 28/100\n",
      "242/242 [==============================] - 0s 662us/step - loss: 0.2981 - val_loss: 0.3476\n",
      "Epoch 29/100\n",
      "242/242 [==============================] - 0s 670us/step - loss: 0.2945 - val_loss: 0.3279\n",
      "Epoch 30/100\n",
      "242/242 [==============================] - 0s 651us/step - loss: 0.2910 - val_loss: 0.2942\n",
      "Epoch 31/100\n",
      "242/242 [==============================] - 0s 672us/step - loss: 0.2905 - val_loss: 0.3134\n",
      "Epoch 32/100\n",
      "242/242 [==============================] - 0s 672us/step - loss: 0.2892 - val_loss: 0.2860\n",
      "Epoch 33/100\n",
      "242/242 [==============================] - 0s 658us/step - loss: 0.2872 - val_loss: 0.3234\n",
      "Epoch 34/100\n",
      "242/242 [==============================] - 0s 692us/step - loss: 0.2849 - val_loss: 0.3296\n",
      "Epoch 35/100\n",
      "242/242 [==============================] - 0s 672us/step - loss: 0.2850 - val_loss: 0.2978\n",
      "Epoch 36/100\n",
      "242/242 [==============================] - 0s 664us/step - loss: 0.2848 - val_loss: 0.3714\n",
      "Epoch 37/100\n",
      "242/242 [==============================] - 0s 676us/step - loss: 0.2831 - val_loss: 0.2850\n",
      "Epoch 38/100\n",
      "242/242 [==============================] - 0s 651us/step - loss: 0.2809 - val_loss: 0.3551\n",
      "Epoch 39/100\n",
      "242/242 [==============================] - 0s 659us/step - loss: 0.2810 - val_loss: 0.2891\n",
      "Epoch 40/100\n",
      "242/242 [==============================] - 0s 651us/step - loss: 0.2799 - val_loss: 0.4247\n",
      "Epoch 41/100\n",
      "242/242 [==============================] - 0s 659us/step - loss: 0.2823 - val_loss: 0.3151\n",
      "Epoch 42/100\n",
      "242/242 [==============================] - 0s 659us/step - loss: 0.2802 - val_loss: 0.3905\n",
      "Epoch 43/100\n",
      "242/242 [==============================] - 0s 654us/step - loss: 0.2789 - val_loss: 0.3301\n",
      "Epoch 44/100\n",
      "242/242 [==============================] - 0s 684us/step - loss: 0.2783 - val_loss: 0.3849\n",
      "Epoch 45/100\n",
      "242/242 [==============================] - 0s 643us/step - loss: 0.2770 - val_loss: 0.2845\n",
      "Epoch 46/100\n",
      "242/242 [==============================] - 0s 651us/step - loss: 0.2747 - val_loss: 0.3147\n",
      "Epoch 47/100\n",
      "242/242 [==============================] - 0s 652us/step - loss: 0.2730 - val_loss: 0.3087\n",
      "Epoch 48/100\n",
      "242/242 [==============================] - 0s 664us/step - loss: 0.2741 - val_loss: 0.2869\n",
      "Epoch 49/100\n",
      "242/242 [==============================] - 0s 659us/step - loss: 0.2716 - val_loss: 0.2767\n",
      "Epoch 50/100\n",
      "242/242 [==============================] - 0s 654us/step - loss: 0.2720 - val_loss: 0.3545\n",
      "Epoch 51/100\n",
      "242/242 [==============================] - 0s 672us/step - loss: 0.2710 - val_loss: 0.2973\n",
      "Epoch 52/100\n",
      "242/242 [==============================] - 0s 663us/step - loss: 0.2683 - val_loss: 0.3097\n",
      "Epoch 53/100\n",
      "242/242 [==============================] - 0s 740us/step - loss: 0.2695 - val_loss: 0.2748\n",
      "Epoch 54/100\n",
      "242/242 [==============================] - 0s 664us/step - loss: 0.2672 - val_loss: 0.3252\n",
      "Epoch 55/100\n",
      "242/242 [==============================] - 0s 647us/step - loss: 0.2673 - val_loss: 0.2809\n",
      "Epoch 56/100\n",
      "242/242 [==============================] - 0s 658us/step - loss: 0.2678 - val_loss: 0.3676\n",
      "Epoch 57/100\n",
      "242/242 [==============================] - 0s 658us/step - loss: 0.2665 - val_loss: 0.2797\n",
      "Epoch 58/100\n",
      "242/242 [==============================] - 0s 705us/step - loss: 0.2672 - val_loss: 0.3302\n",
      "Epoch 59/100\n",
      "242/242 [==============================] - 0s 664us/step - loss: 0.2652 - val_loss: 0.2734\n",
      "Epoch 60/100\n",
      "242/242 [==============================] - 0s 671us/step - loss: 0.2625 - val_loss: 0.2978\n",
      "Epoch 61/100\n",
      "242/242 [==============================] - 0s 654us/step - loss: 0.2641 - val_loss: 0.3018\n",
      "Epoch 62/100\n",
      "242/242 [==============================] - 0s 663us/step - loss: 0.2626 - val_loss: 0.2953\n",
      "Epoch 63/100\n",
      "242/242 [==============================] - 0s 660us/step - loss: 0.2613 - val_loss: 0.2919\n",
      "Epoch 64/100\n",
      "242/242 [==============================] - 0s 701us/step - loss: 0.2617 - val_loss: 0.3295\n",
      "Epoch 65/100\n",
      "242/242 [==============================] - 0s 658us/step - loss: 0.2611 - val_loss: 0.2754\n",
      "Epoch 66/100\n",
      "242/242 [==============================] - 0s 657us/step - loss: 0.2616 - val_loss: 0.3067\n",
      "Epoch 67/100\n",
      "242/242 [==============================] - 0s 688us/step - loss: 0.2609 - val_loss: 0.2770\n",
      "Epoch 68/100\n",
      "242/242 [==============================] - 0s 658us/step - loss: 0.2592 - val_loss: 0.3317\n",
      "Epoch 69/100\n",
      "242/242 [==============================] - 0s 668us/step - loss: 0.2609 - val_loss: 0.2724\n",
      "Epoch 70/100\n",
      "242/242 [==============================] - 0s 653us/step - loss: 0.2589 - val_loss: 0.3144\n",
      "Epoch 71/100\n",
      "242/242 [==============================] - 0s 694us/step - loss: 0.2589 - val_loss: 0.2803\n",
      "Epoch 72/100\n",
      "242/242 [==============================] - 0s 686us/step - loss: 0.2573 - val_loss: 0.3143\n",
      "Epoch 73/100\n",
      "242/242 [==============================] - 0s 663us/step - loss: 0.2567 - val_loss: 0.2787\n",
      "Epoch 74/100\n",
      "242/242 [==============================] - 0s 682us/step - loss: 0.2553 - val_loss: 0.3373\n",
      "Epoch 75/100\n",
      "242/242 [==============================] - 0s 671us/step - loss: 0.2553 - val_loss: 0.2872\n",
      "Epoch 76/100\n",
      "242/242 [==============================] - 0s 655us/step - loss: 0.2545 - val_loss: 0.3070\n",
      "Epoch 77/100\n",
      "242/242 [==============================] - 0s 675us/step - loss: 0.2562 - val_loss: 0.2733\n",
      "Epoch 78/100\n",
      "242/242 [==============================] - 0s 683us/step - loss: 0.2539 - val_loss: 0.3207\n",
      "Epoch 79/100\n",
      "242/242 [==============================] - 0s 672us/step - loss: 0.2540 - val_loss: 0.2905\n",
      "121/121 [==============================] - 0s 363us/step - loss: 0.3032\n",
      "[CV] END learning_rate=0.0059640580092043885, n_hidden=3, n_neurons=80; total time=  13.3s\n",
      "Epoch 1/100\n",
      "242/242 [==============================] - 0s 995us/step - loss: 0.8952 - val_loss: 0.7245\n",
      "Epoch 2/100\n",
      "242/242 [==============================] - 0s 657us/step - loss: 0.4801 - val_loss: 0.6153\n",
      "Epoch 3/100\n",
      "242/242 [==============================] - 0s 655us/step - loss: 0.4196 - val_loss: 0.5239\n",
      "Epoch 4/100\n",
      "242/242 [==============================] - 0s 679us/step - loss: 0.3942 - val_loss: 0.3990\n",
      "Epoch 5/100\n",
      "242/242 [==============================] - 0s 668us/step - loss: 0.3770 - val_loss: 0.3595\n",
      "Epoch 6/100\n",
      "242/242 [==============================] - 0s 668us/step - loss: 0.3656 - val_loss: 0.4332\n",
      "Epoch 7/100\n",
      "242/242 [==============================] - 0s 688us/step - loss: 0.3586 - val_loss: 0.6891\n",
      "Epoch 8/100\n",
      "242/242 [==============================] - 0s 750us/step - loss: 0.3521 - val_loss: 0.6795\n",
      "Epoch 9/100\n",
      "242/242 [==============================] - 0s 672us/step - loss: 0.3460 - val_loss: 0.8246\n",
      "Epoch 10/100\n",
      "242/242 [==============================] - 0s 647us/step - loss: 0.3421 - val_loss: 0.4931\n",
      "Epoch 11/100\n",
      "242/242 [==============================] - 0s 703us/step - loss: 0.3367 - val_loss: 0.5720\n",
      "Epoch 12/100\n",
      "242/242 [==============================] - 0s 798us/step - loss: 0.3324 - val_loss: 0.6176\n",
      "Epoch 13/100\n",
      "242/242 [==============================] - 0s 705us/step - loss: 0.3292 - val_loss: 0.6899\n",
      "Epoch 14/100\n",
      "242/242 [==============================] - 0s 650us/step - loss: 0.3271 - val_loss: 0.6267\n",
      "Epoch 15/100\n",
      "242/242 [==============================] - 0s 672us/step - loss: 0.3245 - val_loss: 0.5347\n",
      "121/121 [==============================] - 0s 367us/step - loss: 0.3402\n",
      "[CV] END learning_rate=0.0059640580092043885, n_hidden=3, n_neurons=80; total time=   2.9s\n",
      "Epoch 1/100\n",
      "242/242 [==============================] - 0s 977us/step - loss: 0.8971 - val_loss: 1.7172\n",
      "Epoch 2/100\n",
      "242/242 [==============================] - 0s 668us/step - loss: 0.4941 - val_loss: 1.5583\n",
      "Epoch 3/100\n",
      "242/242 [==============================] - 0s 668us/step - loss: 0.4310 - val_loss: 0.6154\n",
      "Epoch 4/100\n",
      "242/242 [==============================] - 0s 672us/step - loss: 0.4010 - val_loss: 0.6663\n",
      "Epoch 5/100\n",
      "242/242 [==============================] - 0s 651us/step - loss: 0.3849 - val_loss: 0.3860\n",
      "Epoch 6/100\n",
      "242/242 [==============================] - 0s 680us/step - loss: 0.3731 - val_loss: 0.4423\n",
      "Epoch 7/100\n",
      "242/242 [==============================] - 0s 705us/step - loss: 0.3659 - val_loss: 0.3418\n",
      "Epoch 8/100\n",
      "242/242 [==============================] - 0s 670us/step - loss: 0.3578 - val_loss: 0.3548\n"
     ]
    },
    {
     "name": "stdout",
     "output_type": "stream",
     "text": [
      "Epoch 9/100\n",
      "242/242 [==============================] - 0s 676us/step - loss: 0.3506 - val_loss: 0.4343\n",
      "Epoch 10/100\n",
      "242/242 [==============================] - 0s 672us/step - loss: 0.3492 - val_loss: 0.3983\n",
      "Epoch 11/100\n",
      "242/242 [==============================] - 0s 659us/step - loss: 0.3442 - val_loss: 0.5213\n",
      "Epoch 12/100\n",
      "242/242 [==============================] - 0s 676us/step - loss: 0.3419 - val_loss: 0.3242\n",
      "Epoch 13/100\n",
      "242/242 [==============================] - 0s 651us/step - loss: 0.3362 - val_loss: 0.3350\n",
      "Epoch 14/100\n",
      "242/242 [==============================] - 0s 664us/step - loss: 0.3318 - val_loss: 0.4545\n",
      "Epoch 15/100\n",
      "242/242 [==============================] - 0s 672us/step - loss: 0.3313 - val_loss: 0.3398\n",
      "Epoch 16/100\n",
      "242/242 [==============================] - 0s 668us/step - loss: 0.3268 - val_loss: 0.4335\n",
      "Epoch 17/100\n",
      "242/242 [==============================] - 0s 664us/step - loss: 0.3238 - val_loss: 0.3261\n",
      "Epoch 18/100\n",
      "242/242 [==============================] - 0s 676us/step - loss: 0.3187 - val_loss: 0.3547\n",
      "Epoch 19/100\n",
      "242/242 [==============================] - 0s 672us/step - loss: 0.3174 - val_loss: 0.3521\n",
      "Epoch 20/100\n",
      "242/242 [==============================] - 0s 664us/step - loss: 0.3148 - val_loss: 0.4062\n",
      "Epoch 21/100\n",
      "242/242 [==============================] - 0s 674us/step - loss: 0.3142 - val_loss: 0.3045\n",
      "Epoch 22/100\n",
      "242/242 [==============================] - 0s 660us/step - loss: 0.3106 - val_loss: 0.3048\n",
      "Epoch 23/100\n",
      "242/242 [==============================] - 0s 659us/step - loss: 0.3084 - val_loss: 0.4418\n",
      "Epoch 24/100\n",
      "242/242 [==============================] - 0s 688us/step - loss: 0.3080 - val_loss: 0.3398\n",
      "Epoch 25/100\n",
      "242/242 [==============================] - 0s 699us/step - loss: 0.3065 - val_loss: 0.3744\n",
      "Epoch 26/100\n",
      "242/242 [==============================] - 0s 697us/step - loss: 0.3044 - val_loss: 0.4386\n",
      "Epoch 27/100\n",
      "242/242 [==============================] - 0s 671us/step - loss: 0.3031 - val_loss: 0.2975\n",
      "Epoch 28/100\n",
      "242/242 [==============================] - 0s 672us/step - loss: 0.2995 - val_loss: 0.3043\n",
      "Epoch 29/100\n",
      "242/242 [==============================] - 0s 664us/step - loss: 0.2985 - val_loss: 0.4311\n",
      "Epoch 30/100\n",
      "242/242 [==============================] - 0s 680us/step - loss: 0.2988 - val_loss: 0.3019\n",
      "Epoch 31/100\n",
      "242/242 [==============================] - 0s 670us/step - loss: 0.2945 - val_loss: 0.3383\n",
      "Epoch 32/100\n",
      "242/242 [==============================] - 0s 662us/step - loss: 0.2929 - val_loss: 0.3103\n",
      "Epoch 33/100\n",
      "242/242 [==============================] - 0s 660us/step - loss: 0.2926 - val_loss: 0.4480\n",
      "Epoch 34/100\n",
      "242/242 [==============================] - 0s 670us/step - loss: 0.2965 - val_loss: 0.2990\n",
      "Epoch 35/100\n",
      "242/242 [==============================] - 0s 659us/step - loss: 0.2896 - val_loss: 0.3124\n",
      "Epoch 36/100\n",
      "242/242 [==============================] - 0s 676us/step - loss: 0.2881 - val_loss: 0.3932\n",
      "Epoch 37/100\n",
      "242/242 [==============================] - 0s 657us/step - loss: 0.2873 - val_loss: 0.5408\n",
      "  1/121 [..............................] - ETA: 0s - loss: 0.2837WARNING:tensorflow:Callbacks method `on_test_batch_end` is slow compared to the batch time (batch time: 0.0000s vs `on_test_batch_end` time: 0.0010s). Check your callbacks.\n",
      "121/121 [==============================] - 0s 394us/step - loss: 0.3080\n",
      "[CV] END learning_rate=0.0059640580092043885, n_hidden=3, n_neurons=80; total time=   6.5s\n",
      "Epoch 1/100\n",
      "242/242 [==============================] - 0s 952us/step - loss: 1.2641 - val_loss: 1.0188\n",
      "Epoch 2/100\n",
      "242/242 [==============================] - 0s 638us/step - loss: 0.6339 - val_loss: 13.0635\n",
      "Epoch 3/100\n",
      "242/242 [==============================] - 0s 613us/step - loss: 0.6143 - val_loss: 2.8437\n",
      "Epoch 4/100\n",
      "242/242 [==============================] - 0s 652us/step - loss: 0.4859 - val_loss: 1.1360\n",
      "Epoch 5/100\n",
      "242/242 [==============================] - 0s 701us/step - loss: 0.4281 - val_loss: 0.4039\n",
      "Epoch 6/100\n",
      "242/242 [==============================] - 0s 643us/step - loss: 0.4030 - val_loss: 0.4145\n",
      "Epoch 7/100\n",
      "242/242 [==============================] - 0s 618us/step - loss: 0.3903 - val_loss: 0.3750\n",
      "Epoch 8/100\n",
      "242/242 [==============================] - 0s 622us/step - loss: 0.3809 - val_loss: 0.4143\n",
      "Epoch 9/100\n",
      "242/242 [==============================] - 0s 613us/step - loss: 0.3749 - val_loss: 0.3871\n",
      "Epoch 10/100\n",
      "242/242 [==============================] - 0s 631us/step - loss: 0.3698 - val_loss: 0.3974\n",
      "Epoch 11/100\n",
      "242/242 [==============================] - 0s 637us/step - loss: 0.3656 - val_loss: 0.3622\n",
      "Epoch 12/100\n",
      "242/242 [==============================] - 0s 633us/step - loss: 0.3610 - val_loss: 0.3556\n",
      "Epoch 13/100\n",
      "242/242 [==============================] - 0s 647us/step - loss: 0.3574 - val_loss: 0.3983\n",
      "Epoch 14/100\n",
      "242/242 [==============================] - 0s 629us/step - loss: 0.3558 - val_loss: 0.3966\n",
      "Epoch 15/100\n",
      "242/242 [==============================] - 0s 626us/step - loss: 0.3523 - val_loss: 0.3751\n",
      "Epoch 16/100\n",
      "242/242 [==============================] - 0s 637us/step - loss: 0.3507 - val_loss: 0.3764\n",
      "Epoch 17/100\n",
      "242/242 [==============================] - 0s 641us/step - loss: 0.3479 - val_loss: 0.3941\n",
      "Epoch 18/100\n",
      "242/242 [==============================] - 0s 637us/step - loss: 0.3466 - val_loss: 0.3713\n",
      "Epoch 19/100\n",
      "242/242 [==============================] - 0s 618us/step - loss: 0.3435 - val_loss: 0.4041\n",
      "Epoch 20/100\n",
      "242/242 [==============================] - 0s 631us/step - loss: 0.3425 - val_loss: 0.3657\n",
      "Epoch 21/100\n",
      "242/242 [==============================] - 0s 602us/step - loss: 0.3405 - val_loss: 0.3571\n",
      "Epoch 22/100\n",
      "242/242 [==============================] - 0s 605us/step - loss: 0.3393 - val_loss: 0.3897\n",
      "121/121 [==============================] - 0s 396us/step - loss: 0.3612\n",
      "[CV] END learning_rate=0.004591455636549438, n_hidden=2, n_neurons=59; total time=   3.7s\n",
      "Epoch 1/100\n",
      "242/242 [==============================] - 0s 923us/step - loss: 1.0869 - val_loss: 2.1243\n",
      "Epoch 2/100\n",
      "242/242 [==============================] - 0s 630us/step - loss: 0.4915 - val_loss: 0.6432\n",
      "Epoch 3/100\n",
      "242/242 [==============================] - 0s 626us/step - loss: 0.4401 - val_loss: 0.6139\n",
      "Epoch 4/100\n",
      "242/242 [==============================] - 0s 618us/step - loss: 0.4185 - val_loss: 0.6130\n",
      "Epoch 5/100\n",
      "242/242 [==============================] - 0s 614us/step - loss: 0.4037 - val_loss: 0.6604\n",
      "Epoch 6/100\n",
      "242/242 [==============================] - 0s 611us/step - loss: 0.3931 - val_loss: 0.9250\n",
      "Epoch 7/100\n",
      "242/242 [==============================] - 0s 602us/step - loss: 0.3855 - val_loss: 1.1386\n",
      "Epoch 8/100\n",
      "242/242 [==============================] - 0s 639us/step - loss: 0.3785 - val_loss: 1.1547\n",
      "Epoch 9/100\n",
      "242/242 [==============================] - 0s 614us/step - loss: 0.3729 - val_loss: 1.2424\n",
      "Epoch 10/100\n",
      "242/242 [==============================] - 0s 618us/step - loss: 0.3686 - val_loss: 1.0245\n",
      "Epoch 11/100\n",
      "242/242 [==============================] - 0s 626us/step - loss: 0.3635 - val_loss: 1.0676\n",
      "Epoch 12/100\n",
      "242/242 [==============================] - 0s 647us/step - loss: 0.3592 - val_loss: 1.1011\n",
      "Epoch 13/100\n",
      "242/242 [==============================] - 0s 626us/step - loss: 0.3572 - val_loss: 1.1677\n",
      "Epoch 14/100\n",
      "242/242 [==============================] - 0s 620us/step - loss: 0.3543 - val_loss: 1.1376\n",
      "121/121 [==============================] - 0s 376us/step - loss: 0.3838\n",
      "[CV] END learning_rate=0.004591455636549438, n_hidden=2, n_neurons=59; total time=   2.5s\n",
      "Epoch 1/100\n",
      "242/242 [==============================] - 0s 960us/step - loss: 1.1109 - val_loss: 6.3170\n",
      "Epoch 2/100\n",
      "242/242 [==============================] - 0s 659us/step - loss: 0.6194 - val_loss: 2.2062\n",
      "Epoch 3/100\n",
      "242/242 [==============================] - 0s 684us/step - loss: 0.4948 - val_loss: 0.4299\n",
      "Epoch 4/100\n",
      "242/242 [==============================] - 0s 629us/step - loss: 0.4424 - val_loss: 0.4669\n",
      "Epoch 5/100\n",
      "242/242 [==============================] - 0s 639us/step - loss: 0.4195 - val_loss: 0.4019\n",
      "Epoch 6/100\n",
      "242/242 [==============================] - 0s 628us/step - loss: 0.4056 - val_loss: 0.4430\n",
      "Epoch 7/100\n",
      "242/242 [==============================] - 0s 640us/step - loss: 0.3963 - val_loss: 0.3841\n",
      "Epoch 8/100\n"
     ]
    },
    {
     "name": "stdout",
     "output_type": "stream",
     "text": [
      "242/242 [==============================] - 0s 626us/step - loss: 0.3889 - val_loss: 0.3949\n",
      "Epoch 9/100\n",
      "242/242 [==============================] - 0s 604us/step - loss: 0.3817 - val_loss: 0.4589\n",
      "Epoch 10/100\n",
      "242/242 [==============================] - 0s 635us/step - loss: 0.3795 - val_loss: 0.3501\n",
      "Epoch 11/100\n",
      "242/242 [==============================] - 0s 610us/step - loss: 0.3726 - val_loss: 0.4816\n",
      "Epoch 12/100\n",
      "242/242 [==============================] - 0s 631us/step - loss: 0.3702 - val_loss: 0.3621\n",
      "Epoch 13/100\n",
      "242/242 [==============================] - 0s 642us/step - loss: 0.3666 - val_loss: 0.3631\n",
      "Epoch 14/100\n",
      "242/242 [==============================] - 0s 616us/step - loss: 0.3628 - val_loss: 0.4434\n",
      "Epoch 15/100\n",
      "242/242 [==============================] - 0s 631us/step - loss: 0.3611 - val_loss: 0.3449\n",
      "Epoch 16/100\n",
      "242/242 [==============================] - 0s 607us/step - loss: 0.3569 - val_loss: 0.4093\n",
      "Epoch 17/100\n",
      "242/242 [==============================] - 0s 633us/step - loss: 0.3547 - val_loss: 0.3487\n",
      "Epoch 18/100\n",
      "242/242 [==============================] - 0s 625us/step - loss: 0.3516 - val_loss: 0.3733\n",
      "Epoch 19/100\n",
      "242/242 [==============================] - 0s 613us/step - loss: 0.3495 - val_loss: 0.4389\n",
      "Epoch 20/100\n",
      "242/242 [==============================] - 0s 641us/step - loss: 0.3478 - val_loss: 0.3562\n",
      "Epoch 21/100\n",
      "242/242 [==============================] - 0s 651us/step - loss: 0.3463 - val_loss: 0.3840\n",
      "Epoch 22/100\n",
      "242/242 [==============================] - 0s 642us/step - loss: 0.3445 - val_loss: 0.3265\n",
      "Epoch 23/100\n",
      "242/242 [==============================] - 0s 614us/step - loss: 0.3420 - val_loss: 0.3781\n",
      "Epoch 24/100\n",
      "242/242 [==============================] - 0s 633us/step - loss: 0.3404 - val_loss: 0.4048\n",
      "Epoch 25/100\n",
      "242/242 [==============================] - 0s 677us/step - loss: 0.3396 - val_loss: 0.3243\n",
      "Epoch 26/100\n",
      "242/242 [==============================] - 0s 622us/step - loss: 0.3368 - val_loss: 0.3525\n",
      "Epoch 27/100\n",
      "242/242 [==============================] - 0s 618us/step - loss: 0.3347 - val_loss: 0.4215\n",
      "Epoch 28/100\n",
      "242/242 [==============================] - 0s 614us/step - loss: 0.3343 - val_loss: 0.3195\n",
      "Epoch 29/100\n",
      "242/242 [==============================] - 0s 633us/step - loss: 0.3335 - val_loss: 0.4191\n",
      "Epoch 30/100\n",
      "242/242 [==============================] - 0s 606us/step - loss: 0.3313 - val_loss: 0.3725\n",
      "Epoch 31/100\n",
      "242/242 [==============================] - 0s 626us/step - loss: 0.3294 - val_loss: 0.3346\n",
      "Epoch 32/100\n",
      "242/242 [==============================] - 0s 617us/step - loss: 0.3277 - val_loss: 0.4370\n",
      "Epoch 33/100\n",
      "242/242 [==============================] - 0s 622us/step - loss: 0.3273 - val_loss: 0.3609\n",
      "Epoch 34/100\n",
      "242/242 [==============================] - 0s 620us/step - loss: 0.3242 - val_loss: 0.4137\n",
      "Epoch 35/100\n",
      "242/242 [==============================] - 0s 602us/step - loss: 0.3252 - val_loss: 0.3121\n",
      "Epoch 36/100\n",
      "242/242 [==============================] - 0s 613us/step - loss: 0.3223 - val_loss: 0.4485\n",
      "Epoch 37/100\n",
      "242/242 [==============================] - 0s 631us/step - loss: 0.3222 - val_loss: 0.3241\n",
      "Epoch 38/100\n",
      "242/242 [==============================] - 0s 616us/step - loss: 0.3217 - val_loss: 0.4872\n",
      "Epoch 39/100\n",
      "242/242 [==============================] - 0s 602us/step - loss: 0.3210 - val_loss: 0.3071\n",
      "Epoch 40/100\n",
      "242/242 [==============================] - 0s 629us/step - loss: 0.3192 - val_loss: 0.5098\n",
      "Epoch 41/100\n",
      "242/242 [==============================] - 0s 647us/step - loss: 0.3181 - val_loss: 0.3485\n",
      "Epoch 42/100\n",
      "242/242 [==============================] - 0s 625us/step - loss: 0.3162 - val_loss: 0.4483\n",
      "Epoch 43/100\n",
      "242/242 [==============================] - 0s 633us/step - loss: 0.3170 - val_loss: 0.3373\n",
      "Epoch 44/100\n",
      "242/242 [==============================] - 0s 626us/step - loss: 0.3152 - val_loss: 0.4365\n",
      "Epoch 45/100\n",
      "242/242 [==============================] - 0s 630us/step - loss: 0.3149 - val_loss: 0.3257\n",
      "Epoch 46/100\n",
      "242/242 [==============================] - 0s 610us/step - loss: 0.3128 - val_loss: 0.4211\n",
      "Epoch 47/100\n",
      "242/242 [==============================] - 0s 631us/step - loss: 0.3117 - val_loss: 0.3169\n",
      "Epoch 48/100\n",
      "242/242 [==============================] - 0s 610us/step - loss: 0.3119 - val_loss: 0.3531\n",
      "Epoch 49/100\n",
      "242/242 [==============================] - 0s 622us/step - loss: 0.3096 - val_loss: 0.3487\n",
      "121/121 [==============================] - 0s 363us/step - loss: 0.3205\n",
      "[CV] END learning_rate=0.004591455636549438, n_hidden=2, n_neurons=59; total time=   7.8s\n",
      "Epoch 1/100\n",
      "363/363 [==============================] - 0s 854us/step - loss: 0.7960 - val_loss: 1.9822\n",
      "Epoch 2/100\n",
      "363/363 [==============================] - 0s 594us/step - loss: 0.4733 - val_loss: 4.5379\n",
      "Epoch 3/100\n",
      "363/363 [==============================] - 0s 596us/step - loss: 0.4485 - val_loss: 0.7719\n",
      "Epoch 4/100\n",
      "363/363 [==============================] - 0s 617us/step - loss: 0.3893 - val_loss: 0.3519\n",
      "Epoch 5/100\n",
      "363/363 [==============================] - 0s 597us/step - loss: 0.3728 - val_loss: 0.3632\n",
      "Epoch 6/100\n",
      "363/363 [==============================] - 0s 622us/step - loss: 0.3622 - val_loss: 0.3789\n",
      "Epoch 7/100\n",
      "363/363 [==============================] - 0s 594us/step - loss: 0.3569 - val_loss: 0.3780\n",
      "Epoch 8/100\n",
      "363/363 [==============================] - 0s 579us/step - loss: 0.3501 - val_loss: 0.3725\n",
      "Epoch 9/100\n",
      "363/363 [==============================] - 0s 602us/step - loss: 0.3438 - val_loss: 0.3669\n",
      "Epoch 10/100\n",
      "363/363 [==============================] - 0s 597us/step - loss: 0.3401 - val_loss: 0.3896\n",
      "Epoch 11/100\n",
      "363/363 [==============================] - 0s 628us/step - loss: 0.3363 - val_loss: 0.3285\n",
      "Epoch 12/100\n",
      "363/363 [==============================] - 0s 581us/step - loss: 0.3330 - val_loss: 0.3708\n",
      "Epoch 13/100\n",
      "363/363 [==============================] - 0s 582us/step - loss: 0.3285 - val_loss: 0.3188\n",
      "Epoch 14/100\n",
      "363/363 [==============================] - 0s 589us/step - loss: 0.3245 - val_loss: 0.3138\n",
      "Epoch 15/100\n",
      "363/363 [==============================] - 0s 592us/step - loss: 0.3223 - val_loss: 0.3163\n",
      "Epoch 16/100\n",
      "363/363 [==============================] - 0s 591us/step - loss: 0.3191 - val_loss: 0.3082\n",
      "Epoch 17/100\n",
      "363/363 [==============================] - 0s 593us/step - loss: 0.3167 - val_loss: 0.3776\n",
      "Epoch 18/100\n",
      "363/363 [==============================] - 0s 596us/step - loss: 0.3141 - val_loss: 0.3133\n",
      "Epoch 19/100\n",
      "363/363 [==============================] - 0s 600us/step - loss: 0.3119 - val_loss: 0.3013\n",
      "Epoch 20/100\n",
      "363/363 [==============================] - 0s 626us/step - loss: 0.3095 - val_loss: 0.4133\n",
      "Epoch 21/100\n",
      "363/363 [==============================] - 0s 604us/step - loss: 0.3073 - val_loss: 0.3225\n",
      "Epoch 22/100\n",
      "363/363 [==============================] - 0s 602us/step - loss: 0.3045 - val_loss: 0.4335\n",
      "Epoch 23/100\n",
      "363/363 [==============================] - 0s 597us/step - loss: 0.3035 - val_loss: 0.4131\n",
      "Epoch 24/100\n",
      "363/363 [==============================] - 0s 608us/step - loss: 0.3030 - val_loss: 0.3167\n",
      "Epoch 25/100\n",
      "363/363 [==============================] - 0s 594us/step - loss: 0.3002 - val_loss: 0.3624\n",
      "Epoch 26/100\n",
      "363/363 [==============================] - 0s 586us/step - loss: 0.2977 - val_loss: 0.3404\n",
      "Epoch 27/100\n",
      "363/363 [==============================] - 0s 649us/step - loss: 0.2956 - val_loss: 0.3009\n",
      "Epoch 28/100\n",
      "363/363 [==============================] - 0s 592us/step - loss: 0.2941 - val_loss: 0.3847\n",
      "Epoch 29/100\n",
      "363/363 [==============================] - 0s 597us/step - loss: 0.2928 - val_loss: 0.2900\n",
      "Epoch 30/100\n",
      "363/363 [==============================] - 0s 588us/step - loss: 0.2917 - val_loss: 0.4124\n",
      "Epoch 31/100\n",
      "363/363 [==============================] - 0s 596us/step - loss: 0.2925 - val_loss: 0.2983\n",
      "Epoch 32/100\n",
      "363/363 [==============================] - 0s 585us/step - loss: 0.2891 - val_loss: 0.3594\n",
      "Epoch 33/100\n",
      "363/363 [==============================] - 0s 603us/step - loss: 0.2880 - val_loss: 0.2839\n",
      "Epoch 34/100\n",
      "363/363 [==============================] - 0s 601us/step - loss: 0.2852 - val_loss: 0.3166\n",
      "Epoch 35/100\n",
      "363/363 [==============================] - 0s 594us/step - loss: 0.2845 - val_loss: 0.3228\n",
      "Epoch 36/100\n"
     ]
    },
    {
     "name": "stdout",
     "output_type": "stream",
     "text": [
      "363/363 [==============================] - 0s 591us/step - loss: 0.2836 - val_loss: 0.2813\n",
      "Epoch 37/100\n",
      "363/363 [==============================] - 0s 596us/step - loss: 0.2818 - val_loss: 0.3391\n",
      "Epoch 38/100\n",
      "363/363 [==============================] - 0s 598us/step - loss: 0.2792 - val_loss: 0.2929\n",
      "Epoch 39/100\n",
      "363/363 [==============================] - 0s 590us/step - loss: 0.2807 - val_loss: 0.2840\n",
      "Epoch 40/100\n",
      "363/363 [==============================] - 0s 589us/step - loss: 0.2789 - val_loss: 0.2918\n",
      "Epoch 41/100\n",
      "363/363 [==============================] - 0s 590us/step - loss: 0.2792 - val_loss: 0.4427\n",
      "Epoch 42/100\n",
      "363/363 [==============================] - 0s 598us/step - loss: 0.2814 - val_loss: 0.2767\n",
      "Epoch 43/100\n",
      "363/363 [==============================] - 0s 582us/step - loss: 0.2749 - val_loss: 0.3597\n",
      "Epoch 44/100\n",
      "363/363 [==============================] - 0s 591us/step - loss: 0.2754 - val_loss: 0.3099\n",
      "Epoch 45/100\n",
      "363/363 [==============================] - 0s 592us/step - loss: 0.2731 - val_loss: 0.2728\n",
      "Epoch 46/100\n",
      "363/363 [==============================] - 0s 583us/step - loss: 0.2738 - val_loss: 0.2949\n",
      "Epoch 47/100\n",
      "363/363 [==============================] - 0s 605us/step - loss: 0.2746 - val_loss: 0.2900\n",
      "Epoch 48/100\n",
      "363/363 [==============================] - 0s 585us/step - loss: 0.2727 - val_loss: 0.3219\n",
      "Epoch 49/100\n",
      "363/363 [==============================] - 0s 604us/step - loss: 0.2716 - val_loss: 0.3161\n",
      "Epoch 50/100\n",
      "363/363 [==============================] - 0s 604us/step - loss: 0.2701 - val_loss: 0.3476\n",
      "Epoch 51/100\n",
      "363/363 [==============================] - 0s 605us/step - loss: 0.2693 - val_loss: 0.2714\n",
      "Epoch 52/100\n",
      "363/363 [==============================] - 0s 593us/step - loss: 0.2685 - val_loss: 0.2805\n",
      "Epoch 53/100\n",
      "363/363 [==============================] - 0s 597us/step - loss: 0.2677 - val_loss: 0.4413\n",
      "Epoch 54/100\n",
      "363/363 [==============================] - 0s 602us/step - loss: 0.2679 - val_loss: 0.3673\n",
      "Epoch 55/100\n",
      "363/363 [==============================] - 0s 601us/step - loss: 0.2688 - val_loss: 0.9288\n",
      "Epoch 56/100\n",
      "363/363 [==============================] - 0s 597us/step - loss: 0.2699 - val_loss: 0.4436\n",
      "Epoch 57/100\n",
      "363/363 [==============================] - 0s 602us/step - loss: 0.2684 - val_loss: 0.3688\n",
      "Epoch 58/100\n",
      "363/363 [==============================] - 0s 596us/step - loss: 0.2656 - val_loss: 0.2806\n",
      "Epoch 59/100\n",
      "363/363 [==============================] - 0s 599us/step - loss: 0.2651 - val_loss: 0.3098\n",
      "Epoch 60/100\n",
      "363/363 [==============================] - 0s 593us/step - loss: 0.2643 - val_loss: 0.2675\n",
      "Epoch 61/100\n",
      "363/363 [==============================] - 0s 676us/step - loss: 0.2614 - val_loss: 0.3536\n",
      "Epoch 62/100\n",
      "363/363 [==============================] - 0s 604us/step - loss: 0.2633 - val_loss: 0.2907\n",
      "Epoch 63/100\n",
      "363/363 [==============================] - 0s 613us/step - loss: 0.2628 - val_loss: 0.2797\n",
      "Epoch 64/100\n",
      "363/363 [==============================] - 0s 605us/step - loss: 0.2671 - val_loss: 0.3045\n",
      "Epoch 65/100\n",
      "363/363 [==============================] - 0s 604us/step - loss: 0.2604 - val_loss: 0.2717\n",
      "Epoch 66/100\n",
      "363/363 [==============================] - 0s 613us/step - loss: 0.2603 - val_loss: 0.3086\n",
      "Epoch 67/100\n",
      "363/363 [==============================] - 0s 605us/step - loss: 0.2604 - val_loss: 0.2633\n",
      "Epoch 68/100\n",
      "363/363 [==============================] - 0s 590us/step - loss: 0.2577 - val_loss: 0.2640\n",
      "Epoch 69/100\n",
      "363/363 [==============================] - 0s 593us/step - loss: 0.2592 - val_loss: 0.2789\n",
      "Epoch 70/100\n",
      "363/363 [==============================] - 0s 591us/step - loss: 0.2576 - val_loss: 0.5377\n",
      "Epoch 71/100\n",
      "363/363 [==============================] - 0s 594us/step - loss: 0.2589 - val_loss: 0.2648\n",
      "Epoch 72/100\n",
      "363/363 [==============================] - 0s 599us/step - loss: 0.2571 - val_loss: 0.5856\n",
      "Epoch 73/100\n",
      "363/363 [==============================] - 0s 599us/step - loss: 0.2585 - val_loss: 0.4240\n",
      "Epoch 74/100\n",
      "363/363 [==============================] - 0s 610us/step - loss: 0.2597 - val_loss: 0.4610\n",
      "Epoch 75/100\n",
      "363/363 [==============================] - 0s 607us/step - loss: 0.2565 - val_loss: 0.2942\n",
      "Epoch 76/100\n",
      "363/363 [==============================] - 0s 595us/step - loss: 0.2556 - val_loss: 0.2771\n",
      "Epoch 77/100\n",
      "363/363 [==============================] - 0s 617us/step - loss: 0.2551 - val_loss: 0.3416\n"
     ]
    },
    {
     "data": {
      "text/plain": [
       "RandomizedSearchCV(cv=3,\n",
       "                   estimator=<tensorflow.python.keras.wrappers.scikit_learn.KerasRegressor object at 0x000002C9219935E0>,\n",
       "                   param_distributions={'learning_rate': [0.001683454924600351,\n",
       "                                                          0.02390836445593178,\n",
       "                                                          0.008731907739399206,\n",
       "                                                          0.004725396149933917,\n",
       "                                                          0.0006154014789262348,\n",
       "                                                          0.0006153331256530192,\n",
       "                                                          0.0003920021771415983,\n",
       "                                                          0.01619845322936229,\n",
       "                                                          0.004779156784872302...\n",
       "                                                          0.005021425736625637,\n",
       "                                                          0.0005703073595961105,\n",
       "                                                          0.001151888789941251,\n",
       "                                                          0.001621231156394198,\n",
       "                                                          0.0024505367684280487,\n",
       "                                                          0.011155092541719619,\n",
       "                                                          0.0007524347058135697,\n",
       "                                                          0.0032032448128444043,\n",
       "                                                          0.004591455636549438,\n",
       "                                                          0.0003715541189658278, ...],\n",
       "                                        'n_hidden': [0, 1, 2, 3],\n",
       "                                        'n_neurons': [1, 2, 3, 4, 5, 6, 7, 8, 9,\n",
       "                                                      10, 11, 12, 13, 14, 15,\n",
       "                                                      16, 17, 18, 19, 20, 21,\n",
       "                                                      22, 23, 24, 25, 26, 27,\n",
       "                                                      28, 29, 30, ...]},\n",
       "                   verbose=2)"
      ]
     },
     "execution_count": 100,
     "metadata": {},
     "output_type": "execute_result"
    }
   ],
   "source": [
    "#训练数百个关于超参数的变体，查看哪种变体在验证集上表现最佳\n",
    "from scipy.stats import reciprocal\n",
    "from sklearn.model_selection import RandomizedSearchCV\n",
    "\n",
    "param_distribs = {\n",
    "    \"n_hidden\": [0, 1, 2, 3],\n",
    "    \"n_neurons\": np.arange(1, 100)               .tolist(), #数组转列表\n",
    "    \"learning_rate\": reciprocal(3e-4, 3e-2)      .rvs(1000).tolist(),#在reciprocal分布上随机抽样1000次\n",
    "}\n",
    "\n",
    "rnd_search_cv = RandomizedSearchCV(keras_reg, param_distribs, n_iter=10, cv=3, verbose=2)\n",
    "rnd_search_cv.fit(X_train, y_train, epochs=100,\n",
    "                  validation_data=(X_valid, y_valid),\n",
    "                  callbacks=[keras.callbacks.EarlyStopping(patience=10)])"
   ]
  },
  {
   "cell_type": "code",
   "execution_count": 101,
   "id": "30f94b41",
   "metadata": {},
   "outputs": [
    {
     "data": {
      "text/plain": [
       "{'n_neurons': 80, 'n_hidden': 3, 'learning_rate': 0.0059640580092043885}"
      ]
     },
     "execution_count": 101,
     "metadata": {},
     "output_type": "execute_result"
    }
   ],
   "source": [
    "rnd_search_cv.best_params_"
   ]
  },
  {
   "cell_type": "code",
   "execution_count": 102,
   "id": "431c424e",
   "metadata": {},
   "outputs": [
    {
     "data": {
      "text/plain": [
       "-0.31715184450149536"
      ]
     },
     "execution_count": 102,
     "metadata": {},
     "output_type": "execute_result"
    }
   ],
   "source": [
    "rnd_search_cv.best_score_"
   ]
  },
  {
   "cell_type": "code",
   "execution_count": 103,
   "id": "6615541d",
   "metadata": {},
   "outputs": [
    {
     "data": {
      "text/plain": [
       "<tensorflow.python.keras.wrappers.scikit_learn.KerasRegressor at 0x2c920443f40>"
      ]
     },
     "execution_count": 103,
     "metadata": {},
     "output_type": "execute_result"
    }
   ],
   "source": [
    "rnd_search_cv.best_estimator_"
   ]
  },
  {
   "cell_type": "code",
   "execution_count": 104,
   "id": "047b5725",
   "metadata": {},
   "outputs": [
    {
     "name": "stdout",
     "output_type": "stream",
     "text": [
      "162/162 [==============================] - 0s 400us/step - loss: 0.2841\n"
     ]
    },
    {
     "data": {
      "text/plain": [
       "-0.2841307818889618"
      ]
     },
     "execution_count": 104,
     "metadata": {},
     "output_type": "execute_result"
    }
   ],
   "source": [
    "rnd_search_cv.score(X_test, y_test)"
   ]
  },
  {
   "cell_type": "code",
   "execution_count": 105,
   "id": "436f881e",
   "metadata": {},
   "outputs": [
    {
     "data": {
      "text/plain": [
       "<tensorflow.python.keras.engine.sequential.Sequential at 0x2c92016c6d0>"
      ]
     },
     "execution_count": 105,
     "metadata": {},
     "output_type": "execute_result"
    }
   ],
   "source": [
    "model = rnd_search_cv.best_estimator_.model\n",
    "model"
   ]
  },
  {
   "cell_type": "code",
   "execution_count": 106,
   "id": "92e5236e",
   "metadata": {},
   "outputs": [
    {
     "name": "stdout",
     "output_type": "stream",
     "text": [
      "162/162 [==============================] - 0s 379us/step - loss: 0.2841\n"
     ]
    },
    {
     "data": {
      "text/plain": [
       "0.2841307818889618"
      ]
     },
     "execution_count": 106,
     "metadata": {},
     "output_type": "execute_result"
    }
   ],
   "source": [
    "model.evaluate(X_test, y_test)"
   ]
  },
  {
   "cell_type": "markdown",
   "id": "d28ffa2e",
   "metadata": {},
   "source": [
    "# 练习题"
   ]
  },
  {
   "cell_type": "code",
   "execution_count": 107,
   "id": "2d59eb13",
   "metadata": {},
   "outputs": [],
   "source": [
    "(X_train_full, y_train_full), (X_test, y_test) = keras.datasets.mnist.load_data()"
   ]
  },
  {
   "cell_type": "code",
   "execution_count": 108,
   "id": "18def2b3",
   "metadata": {},
   "outputs": [
    {
     "data": {
      "text/plain": [
       "(60000, 28, 28)"
      ]
     },
     "execution_count": 108,
     "metadata": {},
     "output_type": "execute_result"
    }
   ],
   "source": [
    "X_train_full.shape"
   ]
  },
  {
   "cell_type": "code",
   "execution_count": 109,
   "id": "e734337e",
   "metadata": {},
   "outputs": [
    {
     "data": {
      "text/plain": [
       "dtype('uint8')"
      ]
     },
     "execution_count": 109,
     "metadata": {},
     "output_type": "execute_result"
    }
   ],
   "source": [
    "X_train_full.dtype"
   ]
  },
  {
   "cell_type": "code",
   "execution_count": 110,
   "id": "423e5a5c",
   "metadata": {},
   "outputs": [],
   "source": [
    "X_valid, X_train = X_train_full[:5000] / 255., X_train_full[5000:] / 255.\n",
    "y_valid, y_train = y_train_full[:5000], y_train_full[5000:]\n",
    "X_test = X_test / 255."
   ]
  },
  {
   "cell_type": "code",
   "execution_count": 111,
   "id": "7479f3d3",
   "metadata": {},
   "outputs": [
    {
     "data": {
      "image/png": "[encoded data removed]",
      "text/plain": [
       "<Figure size 432x288 with 1 Axes>"
      ]
     },
     "metadata": {
      "needs_background": "light"
     },
     "output_type": "display_data"
    }
   ],
   "source": [
    "plt.imshow(X_train[0], cmap=\"binary\")\n",
    "plt.axis('off')\n",
    "plt.show()"
   ]
  },
  {
   "cell_type": "code",
   "execution_count": 112,
   "id": "99fda9ff",
   "metadata": {},
   "outputs": [
    {
     "data": {
      "text/plain": [
       "array([7, 3, 4, ..., 5, 6, 8], dtype=uint8)"
      ]
     },
     "execution_count": 112,
     "metadata": {},
     "output_type": "execute_result"
    }
   ],
   "source": [
    "y_train"
   ]
  },
  {
   "cell_type": "code",
   "execution_count": 113,
   "id": "a95f3607",
   "metadata": {},
   "outputs": [
    {
     "data": {
      "text/plain": [
       "(5000, 28, 28)"
      ]
     },
     "execution_count": 113,
     "metadata": {},
     "output_type": "execute_result"
    }
   ],
   "source": [
    "X_valid.shape"
   ]
  },
  {
   "cell_type": "code",
   "execution_count": 114,
   "id": "ce55fbe0",
   "metadata": {},
   "outputs": [
    {
     "data": {
      "text/plain": [
       "(10000, 28, 28)"
      ]
     },
     "execution_count": 114,
     "metadata": {},
     "output_type": "execute_result"
    }
   ],
   "source": [
    "X_test.shape"
   ]
  },
  {
   "cell_type": "code",
   "execution_count": 115,
   "id": "eea8666c",
   "metadata": {},
   "outputs": [
    {
     "data": {
      "image/png": "[encoded data removed]",
      "text/plain": [
       "<Figure size 864x345.6 with 40 Axes>"
      ]
     },
     "metadata": {
      "needs_background": "light"
     },
     "output_type": "display_data"
    }
   ],
   "source": [
    "n_rows = 4\n",
    "n_cols = 10\n",
    "plt.figure(figsize=(n_cols * 1.2, n_rows * 1.2))\n",
    "for row in range(n_rows):\n",
    "    for col in range(n_cols):\n",
    "        index = n_cols * row + col\n",
    "        plt.subplot(n_rows, n_cols, index + 1)\n",
    "        plt.imshow(X_train[index], cmap=\"binary\", interpolation=\"nearest\")\n",
    "        plt.axis('off')\n",
    "        plt.title(y_train[index], fontsize=12)\n",
    "plt.subplots_adjust(wspace=0.2, hspace=0.5)\n",
    "plt.show()"
   ]
  },
  {
   "cell_type": "markdown",
   "id": "00bd5cb3",
   "metadata": {},
   "source": [
    "深度学习层级由大到小为：Model>layer>函数，方法形成layer层，layer层形成model，keras.backend即后端，其实就是将深度学习向比layer更小的方法即函数下沉，更能实现灵活性；这里的方法即函数层，其实就是一些基本的数值处理方法，例如求均值的mean、求最大值的max，求点积的dot等，这些方法组合就可以形成一个layer,loss等基本的层。"
   ]
  },
  {
   "cell_type": "code",
   "execution_count": 116,
   "id": "d4271842",
   "metadata": {},
   "outputs": [],
   "source": [
    "K = keras.backend\n",
    "\n",
    "class ExponentialLearningRate(keras.callbacks.Callback):\n",
    "    def __init__(self, factor):\n",
    "        self.factor = factor\n",
    "        self.rates = []\n",
    "        self.losses = []\n",
    "    def on_batch_end(self, batch, logs):\n",
    "        self.rates.append(K.get_value(self.model.optimizer.learning_rate))\n",
    "        self.losses.append(logs[\"loss\"])\n",
    "        K.set_value(self.model.optimizer.learning_rate, self.model.optimizer.learning_rate * self.factor)"
   ]
  },
  {
   "cell_type": "code",
   "execution_count": 117,
   "id": "8f2e6850",
   "metadata": {},
   "outputs": [],
   "source": [
    "keras.backend.clear_session()\n",
    "np.random.seed(42)\n",
    "tf.random.set_seed(42)"
   ]
  },
  {
   "cell_type": "code",
   "execution_count": 118,
   "id": "b8759e86",
   "metadata": {},
   "outputs": [],
   "source": [
    "model = keras.models.Sequential([\n",
    "    keras.layers.Flatten(input_shape=[28, 28]),\n",
    "    keras.layers.Dense(300, activation=\"relu\"),\n",
    "    keras.layers.Dense(100, activation=\"relu\"),\n",
    "    keras.layers.Dense(10, activation=\"softmax\")\n",
    "])"
   ]
  },
  {
   "cell_type": "code",
   "execution_count": 119,
   "id": "d468e4b9",
   "metadata": {},
   "outputs": [],
   "source": [
    "model.compile(loss=\"sparse_categorical_crossentropy\",\n",
    "              optimizer=keras.optimizers.SGD(learning_rate=1e-3),\n",
    "              metrics=[\"accuracy\"])\n",
    "expon_lr = ExponentialLearningRate(factor=1.005)"
   ]
  },
  {
   "cell_type": "code",
   "execution_count": 120,
   "id": "30332024",
   "metadata": {},
   "outputs": [
    {
     "name": "stdout",
     "output_type": "stream",
     "text": [
      "1719/1719 [==============================] - 2s 1ms/step - loss: nan - accuracy: 0.5657 - val_loss: nan - val_accuracy: 0.0958\n"
     ]
    }
   ],
   "source": [
    "history = model.fit(X_train, y_train, epochs=1,\n",
    "                    validation_data=(X_valid, y_valid),\n",
    "                    callbacks=[expon_lr])"
   ]
  },
  {
   "cell_type": "code",
   "execution_count": 121,
   "id": "b30fcb37",
   "metadata": {},
   "outputs": [
    {
     "data": {
      "text/plain": [
       "Text(0, 0.5, 'Loss')"
      ]
     },
     "execution_count": 121,
     "metadata": {},
     "output_type": "execute_result"
    },
    {
     "data": {
      "image/png": "[encoded data removed]",
      "text/plain": [
       "<Figure size 432x288 with 1 Axes>"
      ]
     },
     "metadata": {
      "needs_background": "light"
     },
     "output_type": "display_data"
    }
   ],
   "source": [
    "plt.plot(expon_lr.rates, expon_lr.losses)\n",
    "plt.gca().set_xscale('log')\n",
    "plt.hlines(min(expon_lr.losses), min(expon_lr.rates), max(expon_lr.rates)) #用于在图形中的每个y处从xmin到xmax绘制水平线\n",
    "plt.axis([min(expon_lr.rates), max(expon_lr.rates), 0, expon_lr.losses[0]])\n",
    "plt.grid()\n",
    "plt.xlabel(\"Learning rate\")\n",
    "plt.ylabel(\"Loss\")"
   ]
  },
  {
   "cell_type": "code",
   "execution_count": 122,
   "id": "47ddd5cb",
   "metadata": {},
   "outputs": [],
   "source": [
    "keras.backend.clear_session()\n",
    "np.random.seed(42)\n",
    "tf.random.set_seed(42)"
   ]
  },
  {
   "cell_type": "code",
   "execution_count": 123,
   "id": "6705d4a2",
   "metadata": {},
   "outputs": [],
   "source": [
    "model = keras.models.Sequential([\n",
    "    keras.layers.Flatten(input_shape=[28, 28]),\n",
    "    keras.layers.Dense(300, activation=\"relu\"),\n",
    "    keras.layers.Dense(100, activation=\"relu\"),\n",
    "    keras.layers.Dense(10, activation=\"softmax\")\n",
    "])"
   ]
  },
  {
   "cell_type": "code",
   "execution_count": 124,
   "id": "5bfbece2",
   "metadata": {},
   "outputs": [],
   "source": [
    "model.compile(loss=\"sparse_categorical_crossentropy\",\n",
    "              optimizer=keras.optimizers.SGD(learning_rate=3e-1),\n",
    "              metrics=[\"accuracy\"])"
   ]
  },
  {
   "cell_type": "code",
   "execution_count": 125,
   "id": "9484d0a8",
   "metadata": {},
   "outputs": [
    {
     "data": {
      "text/plain": [
       "'.\\\\my_mnist_logs\\\\run_001'"
      ]
     },
     "execution_count": 125,
     "metadata": {},
     "output_type": "execute_result"
    }
   ],
   "source": [
    "run_index = 1 # increment this at every run\n",
    "run_logdir = os.path.join(os.curdir, \"my_mnist_logs\", \"run_{:03d}\".format(run_index))\n",
    "run_logdir"
   ]
  },
  {
   "cell_type": "code",
   "execution_count": 126,
   "id": "1eb50751",
   "metadata": {},
   "outputs": [
    {
     "name": "stdout",
     "output_type": "stream",
     "text": [
      "Epoch 1/100\n",
      "   2/1719 [..............................] - ETA: 1:46:50 - loss: 2.4467 - accuracy: 0.1406WARNING:tensorflow:Callbacks method `on_train_batch_end` is slow compared to the batch time (batch time: 0.0010s vs `on_train_batch_end` time: 7.4656s). Check your callbacks.\n",
      "1719/1719 [==============================] - 9s 5ms/step - loss: 0.2362 - accuracy: 0.9266 - val_loss: 0.0978 - val_accuracy: 0.9704\n",
      "Epoch 2/100\n",
      "1719/1719 [==============================] - 2s 1ms/step - loss: 0.0946 - accuracy: 0.9703 - val_loss: 0.0926 - val_accuracy: 0.9730\n",
      "Epoch 3/100\n",
      "1719/1719 [==============================] - 2s 957us/step - loss: 0.0667 - accuracy: 0.9785 - val_loss: 0.0885 - val_accuracy: 0.9738\n",
      "Epoch 4/100\n",
      "1719/1719 [==============================] - 2s 955us/step - loss: 0.0476 - accuracy: 0.9846 - val_loss: 0.0760 - val_accuracy: 0.9786\n",
      "Epoch 5/100\n",
      "1719/1719 [==============================] - 2s 958us/step - loss: 0.0358 - accuracy: 0.9883 - val_loss: 0.0933 - val_accuracy: 0.9736\n",
      "Epoch 6/100\n",
      "1719/1719 [==============================] - 2s 954us/step - loss: 0.0301 - accuracy: 0.9903 - val_loss: 0.0820 - val_accuracy: 0.9792\n",
      "Epoch 7/100\n",
      "1719/1719 [==============================] - 2s 981us/step - loss: 0.0244 - accuracy: 0.9919 - val_loss: 0.0703 - val_accuracy: 0.9834\n",
      "Epoch 8/100\n",
      "1719/1719 [==============================] - 2s 966us/step - loss: 0.0202 - accuracy: 0.9936 - val_loss: 0.0834 - val_accuracy: 0.9808\n",
      "Epoch 9/100\n",
      "1719/1719 [==============================] - 2s 984us/step - loss: 0.0150 - accuracy: 0.9953 - val_loss: 0.0971 - val_accuracy: 0.9796\n",
      "Epoch 10/100\n",
      "1719/1719 [==============================] - 2s 982us/step - loss: 0.0156 - accuracy: 0.9950 - val_loss: 0.0815 - val_accuracy: 0.9826\n",
      "Epoch 11/100\n",
      "1719/1719 [==============================] - 2s 975us/step - loss: 0.0116 - accuracy: 0.9961 - val_loss: 0.1001 - val_accuracy: 0.9800\n",
      "Epoch 12/100\n",
      "1719/1719 [==============================] - 2s 979us/step - loss: 0.0064 - accuracy: 0.9982 - val_loss: 0.0910 - val_accuracy: 0.9820\n",
      "Epoch 13/100\n",
      "1719/1719 [==============================] - 2s 973us/step - loss: 0.0085 - accuracy: 0.9975 - val_loss: 0.0959 - val_accuracy: 0.9816\n",
      "Epoch 14/100\n",
      "1719/1719 [==============================] - 2s 975us/step - loss: 0.0027 - accuracy: 0.9992 - val_loss: 0.0879 - val_accuracy: 0.9844\n",
      "Epoch 15/100\n",
      "1719/1719 [==============================] - 2s 977us/step - loss: 0.0061 - accuracy: 0.9981 - val_loss: 0.1002 - val_accuracy: 0.9798\n",
      "Epoch 16/100\n",
      "1719/1719 [==============================] - 2s 989us/step - loss: 0.0097 - accuracy: 0.9967 - val_loss: 0.0917 - val_accuracy: 0.9816\n",
      "Epoch 17/100\n",
      "1719/1719 [==============================] - 2s 978us/step - loss: 0.0075 - accuracy: 0.9974 - val_loss: 0.1250 - val_accuracy: 0.9768\n",
      "Epoch 18/100\n",
      "1719/1719 [==============================] - 2s 971us/step - loss: 0.0107 - accuracy: 0.9966 - val_loss: 0.1070 - val_accuracy: 0.9798\n",
      "Epoch 19/100\n",
      "1719/1719 [==============================] - 2s 977us/step - loss: 0.0084 - accuracy: 0.9974 - val_loss: 0.1004 - val_accuracy: 0.9824\n",
      "Epoch 20/100\n",
      "1719/1719 [==============================] - 2s 968us/step - loss: 0.0026 - accuracy: 0.9993 - val_loss: 0.1045 - val_accuracy: 0.9822\n",
      "Epoch 21/100\n",
      "1719/1719 [==============================] - 2s 988us/step - loss: 0.0011 - accuracy: 0.9997 - val_loss: 0.0960 - val_accuracy: 0.9850\n",
      "Epoch 22/100\n",
      "1719/1719 [==============================] - 2s 975us/step - loss: 1.6900e-04 - accuracy: 1.0000 - val_loss: 0.0950 - val_accuracy: 0.9852\n",
      "Epoch 23/100\n",
      "1719/1719 [==============================] - 2s 975us/step - loss: 7.9931e-05 - accuracy: 1.0000 - val_loss: 0.0958 - val_accuracy: 0.9848\n",
      "Epoch 24/100\n",
      "1719/1719 [==============================] - 2s 976us/step - loss: 5.8325e-05 - accuracy: 1.0000 - val_loss: 0.0967 - val_accuracy: 0.9850\n",
      "Epoch 25/100\n",
      "1719/1719 [==============================] - 2s 979us/step - loss: 4.9275e-05 - accuracy: 1.0000 - val_loss: 0.0972 - val_accuracy: 0.9852\n",
      "Epoch 26/100\n",
      "1719/1719 [==============================] - 2s 990us/step - loss: 4.3237e-05 - accuracy: 1.0000 - val_loss: 0.0978 - val_accuracy: 0.9850\n",
      "Epoch 27/100\n",
      "1719/1719 [==============================] - 2s 975us/step - loss: 3.8775e-05 - accuracy: 1.0000 - val_loss: 0.0984 - val_accuracy: 0.9850\n"
     ]
    }
   ],
   "source": [
    "early_stopping_cb = keras.callbacks.EarlyStopping(patience=20)\n",
    "checkpoint_cb = keras.callbacks.ModelCheckpoint(\"my_mnist_model.h5\", save_best_only=True)\n",
    "tensorboard_cb = keras.callbacks.TensorBoard(run_logdir)\n",
    "\n",
    "history = model.fit(X_train, y_train, epochs=100,\n",
    "                    validation_data=(X_valid, y_valid),\n",
    "                    callbacks=[checkpoint_cb, early_stopping_cb, tensorboard_cb])"
   ]
  },
  {
   "cell_type": "code",
   "execution_count": 127,
   "id": "fc8da3fc",
   "metadata": {},
   "outputs": [
    {
     "name": "stdout",
     "output_type": "stream",
     "text": [
      "313/313 [==============================] - 0s 639us/step - loss: 0.0793 - accuracy: 0.0994\n"
     ]
    },
    {
     "data": {
      "text/plain": [
       "[0.07927846908569336, 0.09939999878406525]"
      ]
     },
     "execution_count": 127,
     "metadata": {},
     "output_type": "execute_result"
    }
   ],
   "source": [
    "model = keras.models.load_model(\"my_mnist_model.h5\") # rollback to best model\n",
    "model.evaluate(X_test, y_test)"
   ]
  },
  {
   "cell_type": "code",
   "execution_count": 143,
   "id": "18e94558",
   "metadata": {},
   "outputs": [
    {
     "data": {
      "text/plain": [
       "Reusing TensorBoard on port 6006 (pid 11080), started 0:46:58 ago. (Use '!kill 11080' to kill it.)"
      ]
     },
     "metadata": {},
     "output_type": "display_data"
    },
    {
     "data": {
      "text/html": [
       "\n",
       "      <iframe id=\"tensorboard-frame-3924229e65b3264e\" width=\"100%\" height=\"800\" frameborder=\"0\">\n",
       "      </iframe>\n",
       "      <script>\n",
       "        (function() {\n",
       "          const frame = document.getElementById(\"tensorboard-frame-3924229e65b3264e\");\n",
       "          const url = new URL(\"/\", window.location);\n",
       "          const port = 6006;\n",
       "          if (port) {\n",
       "            url.port = port;\n",
       "          }\n",
       "          frame.src = url;\n",
       "        })();\n",
       "      </script>\n",
       "    "
      ],
      "text/plain": [
       "<IPython.core.display.HTML object>"
      ]
     },
     "metadata": {},
     "output_type": "display_data"
    }
   ],
   "source": [
    "%tensorboard --logdir=./my_mnist_logs --port=6006"
   ]
  },
  {
   "cell_type": "code",
   "execution_count": null,
   "id": "82e66c70",
   "metadata": {},
   "outputs": [],
   "source": []
  }
 ],
 "metadata": {
  "kernelspec": {
   "display_name": "Python 3 (ipykernel)",
   "language": "python",
   "name": "python3"
  },
  "language_info": {
   "codemirror_mode": {
    "name": "ipython",
    "version": 3
   },
   "file_extension": ".py",
   "mimetype": "text/x-python",
   "name": "python",
   "nbconvert_exporter": "python",
   "pygments_lexer": "ipython3",
   "version": "3.8.12"
  },
  "toc": {
   "base_numbering": 1,
   "nav_menu": {},
   "number_sections": true,
   "sideBar": true,
   "skip_h1_title": false,
   "title_cell": "Table of Contents",
   "title_sidebar": "Contents",
   "toc_cell": false,
   "toc_position": {},
   "toc_section_display": true,
   "toc_window_display": true
  }
 },
 "nbformat": 4,
 "nbformat_minor": 5
}
